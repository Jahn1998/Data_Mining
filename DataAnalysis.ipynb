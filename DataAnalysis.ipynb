{
 "cells": [
  {
   "cell_type": "code",
   "execution_count": 28,
   "id": "higher-channels",
   "metadata": {},
   "outputs": [],
   "source": [
    "import pandas as pd\n",
    "import numpy as np\n",
    "import matplotlib.pyplot as plt\n",
    "import openpyxl\n",
    "import os\n",
    "%matplotlib inline\n",
    "# plt.rcParams['font.sans-serif']=['Simhei'] #让jupyter中的图画上的中文都显示出来\n",
    "plt.rcParams['axes.unicode_minus']=False\n",
    "os.getcwd()\n",
    "path = os.getcwd()"
   ]
  },
  {
   "cell_type": "markdown",
   "id": "enhanced-admission",
   "metadata": {},
   "source": [
    "# 1. Import Data"
   ]
  },
  {
   "cell_type": "code",
   "execution_count": 2,
   "id": "collectible-toyota",
   "metadata": {
    "collapsed": true
   },
   "outputs": [],
   "source": [
    "data = pd.read_csv(path + r'/Data/tap4fun_data/tap_fun_train.csv')"
   ]
  },
  {
   "cell_type": "code",
   "execution_count": 3,
   "id": "useful-wrist",
   "metadata": {},
   "outputs": [
    {
     "data": {
      "text/html": [
       "<div>\n",
       "<style scoped>\n",
       "    .dataframe tbody tr th:only-of-type {\n",
       "        vertical-align: middle;\n",
       "    }\n",
       "\n",
       "    .dataframe tbody tr th {\n",
       "        vertical-align: top;\n",
       "    }\n",
       "\n",
       "    .dataframe thead th {\n",
       "        text-align: right;\n",
       "    }\n",
       "</style>\n",
       "<table border=\"1\" class=\"dataframe\">\n",
       "  <thead>\n",
       "    <tr style=\"text-align: right;\">\n",
       "      <th></th>\n",
       "      <th>user_id</th>\n",
       "      <th>register_time</th>\n",
       "      <th>wood_add_value</th>\n",
       "      <th>wood_reduce_value</th>\n",
       "      <th>stone_add_value</th>\n",
       "      <th>stone_reduce_value</th>\n",
       "      <th>ivory_add_value</th>\n",
       "      <th>ivory_reduce_value</th>\n",
       "      <th>meat_add_value</th>\n",
       "      <th>meat_reduce_value</th>\n",
       "      <th>...</th>\n",
       "      <th>pvp_battle_count</th>\n",
       "      <th>pvp_lanch_count</th>\n",
       "      <th>pvp_win_count</th>\n",
       "      <th>pve_battle_count</th>\n",
       "      <th>pve_lanch_count</th>\n",
       "      <th>pve_win_count</th>\n",
       "      <th>avg_online_minutes</th>\n",
       "      <th>pay_price</th>\n",
       "      <th>pay_count</th>\n",
       "      <th>prediction_pay_price</th>\n",
       "    </tr>\n",
       "  </thead>\n",
       "  <tbody>\n",
       "    <tr>\n",
       "      <th>0</th>\n",
       "      <td>1</td>\n",
       "      <td>2018-02-02 19:47:15</td>\n",
       "      <td>20125.0</td>\n",
       "      <td>3700.0</td>\n",
       "      <td>0.0</td>\n",
       "      <td>0.0</td>\n",
       "      <td>0.0</td>\n",
       "      <td>0.0</td>\n",
       "      <td>16375.0</td>\n",
       "      <td>2000.0</td>\n",
       "      <td>...</td>\n",
       "      <td>0</td>\n",
       "      <td>0</td>\n",
       "      <td>0</td>\n",
       "      <td>0</td>\n",
       "      <td>0</td>\n",
       "      <td>0</td>\n",
       "      <td>0.333333</td>\n",
       "      <td>0.0</td>\n",
       "      <td>0</td>\n",
       "      <td>0.0</td>\n",
       "    </tr>\n",
       "    <tr>\n",
       "      <th>1</th>\n",
       "      <td>1593</td>\n",
       "      <td>2018-01-26 00:01:05</td>\n",
       "      <td>0.0</td>\n",
       "      <td>0.0</td>\n",
       "      <td>0.0</td>\n",
       "      <td>0.0</td>\n",
       "      <td>0.0</td>\n",
       "      <td>0.0</td>\n",
       "      <td>0.0</td>\n",
       "      <td>0.0</td>\n",
       "      <td>...</td>\n",
       "      <td>0</td>\n",
       "      <td>0</td>\n",
       "      <td>0</td>\n",
       "      <td>0</td>\n",
       "      <td>0</td>\n",
       "      <td>0</td>\n",
       "      <td>0.333333</td>\n",
       "      <td>0.0</td>\n",
       "      <td>0</td>\n",
       "      <td>0.0</td>\n",
       "    </tr>\n",
       "    <tr>\n",
       "      <th>2</th>\n",
       "      <td>1594</td>\n",
       "      <td>2018-01-26 00:01:58</td>\n",
       "      <td>0.0</td>\n",
       "      <td>0.0</td>\n",
       "      <td>0.0</td>\n",
       "      <td>0.0</td>\n",
       "      <td>0.0</td>\n",
       "      <td>0.0</td>\n",
       "      <td>0.0</td>\n",
       "      <td>0.0</td>\n",
       "      <td>...</td>\n",
       "      <td>0</td>\n",
       "      <td>0</td>\n",
       "      <td>0</td>\n",
       "      <td>0</td>\n",
       "      <td>0</td>\n",
       "      <td>0</td>\n",
       "      <td>1.166667</td>\n",
       "      <td>0.0</td>\n",
       "      <td>0</td>\n",
       "      <td>0.0</td>\n",
       "    </tr>\n",
       "    <tr>\n",
       "      <th>3</th>\n",
       "      <td>1595</td>\n",
       "      <td>2018-01-26 00:02:13</td>\n",
       "      <td>0.0</td>\n",
       "      <td>0.0</td>\n",
       "      <td>0.0</td>\n",
       "      <td>0.0</td>\n",
       "      <td>0.0</td>\n",
       "      <td>0.0</td>\n",
       "      <td>0.0</td>\n",
       "      <td>0.0</td>\n",
       "      <td>...</td>\n",
       "      <td>0</td>\n",
       "      <td>0</td>\n",
       "      <td>0</td>\n",
       "      <td>0</td>\n",
       "      <td>0</td>\n",
       "      <td>0</td>\n",
       "      <td>3.166667</td>\n",
       "      <td>0.0</td>\n",
       "      <td>0</td>\n",
       "      <td>0.0</td>\n",
       "    </tr>\n",
       "    <tr>\n",
       "      <th>4</th>\n",
       "      <td>1596</td>\n",
       "      <td>2018-01-26 00:02:46</td>\n",
       "      <td>0.0</td>\n",
       "      <td>0.0</td>\n",
       "      <td>0.0</td>\n",
       "      <td>0.0</td>\n",
       "      <td>0.0</td>\n",
       "      <td>0.0</td>\n",
       "      <td>0.0</td>\n",
       "      <td>0.0</td>\n",
       "      <td>...</td>\n",
       "      <td>0</td>\n",
       "      <td>0</td>\n",
       "      <td>0</td>\n",
       "      <td>0</td>\n",
       "      <td>0</td>\n",
       "      <td>0</td>\n",
       "      <td>2.333333</td>\n",
       "      <td>0.0</td>\n",
       "      <td>0</td>\n",
       "      <td>0.0</td>\n",
       "    </tr>\n",
       "  </tbody>\n",
       "</table>\n",
       "<p>5 rows × 109 columns</p>\n",
       "</div>"
      ],
      "text/plain": [
       "   user_id        register_time  wood_add_value  wood_reduce_value  \\\n",
       "0        1  2018-02-02 19:47:15         20125.0             3700.0   \n",
       "1     1593  2018-01-26 00:01:05             0.0                0.0   \n",
       "2     1594  2018-01-26 00:01:58             0.0                0.0   \n",
       "3     1595  2018-01-26 00:02:13             0.0                0.0   \n",
       "4     1596  2018-01-26 00:02:46             0.0                0.0   \n",
       "\n",
       "   stone_add_value  stone_reduce_value  ivory_add_value  ivory_reduce_value  \\\n",
       "0              0.0                 0.0              0.0                 0.0   \n",
       "1              0.0                 0.0              0.0                 0.0   \n",
       "2              0.0                 0.0              0.0                 0.0   \n",
       "3              0.0                 0.0              0.0                 0.0   \n",
       "4              0.0                 0.0              0.0                 0.0   \n",
       "\n",
       "   meat_add_value  meat_reduce_value  ...  pvp_battle_count  pvp_lanch_count  \\\n",
       "0         16375.0             2000.0  ...                 0                0   \n",
       "1             0.0                0.0  ...                 0                0   \n",
       "2             0.0                0.0  ...                 0                0   \n",
       "3             0.0                0.0  ...                 0                0   \n",
       "4             0.0                0.0  ...                 0                0   \n",
       "\n",
       "   pvp_win_count  pve_battle_count  pve_lanch_count  pve_win_count  \\\n",
       "0              0                 0                0              0   \n",
       "1              0                 0                0              0   \n",
       "2              0                 0                0              0   \n",
       "3              0                 0                0              0   \n",
       "4              0                 0                0              0   \n",
       "\n",
       "   avg_online_minutes  pay_price  pay_count  prediction_pay_price  \n",
       "0            0.333333        0.0          0                   0.0  \n",
       "1            0.333333        0.0          0                   0.0  \n",
       "2            1.166667        0.0          0                   0.0  \n",
       "3            3.166667        0.0          0                   0.0  \n",
       "4            2.333333        0.0          0                   0.0  \n",
       "\n",
       "[5 rows x 109 columns]"
      ]
     },
     "execution_count": 3,
     "metadata": {},
     "output_type": "execute_result"
    }
   ],
   "source": [
    "data.head()"
   ]
  },
  {
   "cell_type": "code",
   "execution_count": 4,
   "id": "swiss-filing",
   "metadata": {
    "collapsed": true
   },
   "outputs": [
    {
     "data": {
      "text/plain": [
       "(2288007, 109)"
      ]
     },
     "execution_count": 4,
     "metadata": {},
     "output_type": "execute_result"
    }
   ],
   "source": [
    "data.shape"
   ]
  },
  {
   "cell_type": "code",
   "execution_count": 5,
   "id": "negative-percentage",
   "metadata": {},
   "outputs": [
    {
     "data": {
      "text/plain": [
       "Index(['user_id', 'register_time', 'wood_add_value', 'wood_reduce_value',\n",
       "       'stone_add_value', 'stone_reduce_value', 'ivory_add_value',\n",
       "       'ivory_reduce_value', 'meat_add_value', 'meat_reduce_value',\n",
       "       ...\n",
       "       'pvp_battle_count', 'pvp_lanch_count', 'pvp_win_count',\n",
       "       'pve_battle_count', 'pve_lanch_count', 'pve_win_count',\n",
       "       'avg_online_minutes', 'pay_price', 'pay_count', 'prediction_pay_price'],\n",
       "      dtype='object', length=109)"
      ]
     },
     "execution_count": 5,
     "metadata": {},
     "output_type": "execute_result"
    }
   ],
   "source": [
    "data.columns"
   ]
  },
  {
   "cell_type": "code",
   "execution_count": 6,
   "id": "cubic-postage",
   "metadata": {
    "collapsed": true
   },
   "outputs": [
    {
     "data": {
      "text/plain": [
       "0"
      ]
     },
     "execution_count": 6,
     "metadata": {},
     "output_type": "execute_result"
    }
   ],
   "source": [
    "data.isnull().sum().sum() # missing values"
   ]
  },
  {
   "cell_type": "code",
   "execution_count": 7,
   "id": "cloudy-oklahoma",
   "metadata": {
    "collapsed": true
   },
   "outputs": [
    {
     "data": {
      "text/plain": [
       "0"
      ]
     },
     "execution_count": 7,
     "metadata": {},
     "output_type": "execute_result"
    }
   ],
   "source": [
    "data.duplicated().sum() # duplicated values"
   ]
  },
  {
   "cell_type": "code",
   "execution_count": 8,
   "id": "worthy-cricket",
   "metadata": {
    "collapsed": true
   },
   "outputs": [
    {
     "data": {
      "text/plain": [
       "0"
      ]
     },
     "execution_count": 8,
     "metadata": {},
     "output_type": "execute_result"
    }
   ],
   "source": [
    "data[\"user_id\"].duplicated().sum()"
   ]
  },
  {
   "cell_type": "code",
   "execution_count": 9,
   "id": "athletic-isaac",
   "metadata": {},
   "outputs": [
    {
     "data": {
      "text/html": [
       "<div>\n",
       "<style scoped>\n",
       "    .dataframe tbody tr th:only-of-type {\n",
       "        vertical-align: middle;\n",
       "    }\n",
       "\n",
       "    .dataframe tbody tr th {\n",
       "        vertical-align: top;\n",
       "    }\n",
       "\n",
       "    .dataframe thead th {\n",
       "        text-align: right;\n",
       "    }\n",
       "</style>\n",
       "<table border=\"1\" class=\"dataframe\">\n",
       "  <thead>\n",
       "    <tr style=\"text-align: right;\">\n",
       "      <th></th>\n",
       "      <th>count</th>\n",
       "      <th>mean</th>\n",
       "      <th>std</th>\n",
       "      <th>min</th>\n",
       "      <th>25%</th>\n",
       "      <th>50%</th>\n",
       "      <th>75%</th>\n",
       "      <th>max</th>\n",
       "    </tr>\n",
       "  </thead>\n",
       "  <tbody>\n",
       "    <tr>\n",
       "      <th>user_id</th>\n",
       "      <td>2288007.0</td>\n",
       "      <td>1.529543e+06</td>\n",
       "      <td>9.399393e+05</td>\n",
       "      <td>1.0</td>\n",
       "      <td>749992.5</td>\n",
       "      <td>1.419095e+06</td>\n",
       "      <td>2.299006e+06</td>\n",
       "      <td>3.190530e+06</td>\n",
       "    </tr>\n",
       "    <tr>\n",
       "      <th>wood_add_value</th>\n",
       "      <td>2288007.0</td>\n",
       "      <td>4.543069e+05</td>\n",
       "      <td>4.958667e+06</td>\n",
       "      <td>0.0</td>\n",
       "      <td>0.0</td>\n",
       "      <td>4.203800e+04</td>\n",
       "      <td>1.531180e+05</td>\n",
       "      <td>1.239962e+09</td>\n",
       "    </tr>\n",
       "    <tr>\n",
       "      <th>wood_reduce_value</th>\n",
       "      <td>2288007.0</td>\n",
       "      <td>3.698433e+05</td>\n",
       "      <td>3.737720e+06</td>\n",
       "      <td>0.0</td>\n",
       "      <td>0.0</td>\n",
       "      <td>9.830000e+03</td>\n",
       "      <td>9.855700e+04</td>\n",
       "      <td>7.995875e+08</td>\n",
       "    </tr>\n",
       "    <tr>\n",
       "      <th>stone_add_value</th>\n",
       "      <td>2288007.0</td>\n",
       "      <td>1.897788e+05</td>\n",
       "      <td>4.670620e+06</td>\n",
       "      <td>0.0</td>\n",
       "      <td>0.0</td>\n",
       "      <td>0.000000e+00</td>\n",
       "      <td>0.000000e+00</td>\n",
       "      <td>1.214869e+09</td>\n",
       "    </tr>\n",
       "    <tr>\n",
       "      <th>stone_reduce_value</th>\n",
       "      <td>2288007.0</td>\n",
       "      <td>1.376074e+05</td>\n",
       "      <td>3.370166e+06</td>\n",
       "      <td>0.0</td>\n",
       "      <td>0.0</td>\n",
       "      <td>0.000000e+00</td>\n",
       "      <td>0.000000e+00</td>\n",
       "      <td>7.962378e+08</td>\n",
       "    </tr>\n",
       "    <tr>\n",
       "      <th>...</th>\n",
       "      <td>...</td>\n",
       "      <td>...</td>\n",
       "      <td>...</td>\n",
       "      <td>...</td>\n",
       "      <td>...</td>\n",
       "      <td>...</td>\n",
       "      <td>...</td>\n",
       "      <td>...</td>\n",
       "    </tr>\n",
       "    <tr>\n",
       "      <th>pve_win_count</th>\n",
       "      <td>2288007.0</td>\n",
       "      <td>2.556749e+00</td>\n",
       "      <td>1.184737e+01</td>\n",
       "      <td>0.0</td>\n",
       "      <td>0.0</td>\n",
       "      <td>0.000000e+00</td>\n",
       "      <td>1.000000e+00</td>\n",
       "      <td>4.880000e+02</td>\n",
       "    </tr>\n",
       "    <tr>\n",
       "      <th>avg_online_minutes</th>\n",
       "      <td>2288007.0</td>\n",
       "      <td>1.020749e+01</td>\n",
       "      <td>3.895946e+01</td>\n",
       "      <td>0.0</td>\n",
       "      <td>0.5</td>\n",
       "      <td>1.833333e+00</td>\n",
       "      <td>4.833333e+00</td>\n",
       "      <td>2.049667e+03</td>\n",
       "    </tr>\n",
       "    <tr>\n",
       "      <th>pay_price</th>\n",
       "      <td>2288007.0</td>\n",
       "      <td>5.346691e-01</td>\n",
       "      <td>2.263835e+01</td>\n",
       "      <td>0.0</td>\n",
       "      <td>0.0</td>\n",
       "      <td>0.000000e+00</td>\n",
       "      <td>0.000000e+00</td>\n",
       "      <td>7.457950e+03</td>\n",
       "    </tr>\n",
       "    <tr>\n",
       "      <th>pay_count</th>\n",
       "      <td>2288007.0</td>\n",
       "      <td>5.770699e-02</td>\n",
       "      <td>7.090886e-01</td>\n",
       "      <td>0.0</td>\n",
       "      <td>0.0</td>\n",
       "      <td>0.000000e+00</td>\n",
       "      <td>0.000000e+00</td>\n",
       "      <td>1.050000e+02</td>\n",
       "    </tr>\n",
       "    <tr>\n",
       "      <th>prediction_pay_price</th>\n",
       "      <td>2288007.0</td>\n",
       "      <td>1.793146e+00</td>\n",
       "      <td>8.846303e+01</td>\n",
       "      <td>0.0</td>\n",
       "      <td>0.0</td>\n",
       "      <td>0.000000e+00</td>\n",
       "      <td>0.000000e+00</td>\n",
       "      <td>3.297781e+04</td>\n",
       "    </tr>\n",
       "  </tbody>\n",
       "</table>\n",
       "<p>108 rows × 8 columns</p>\n",
       "</div>"
      ],
      "text/plain": [
       "                          count          mean           std  min       25%  \\\n",
       "user_id               2288007.0  1.529543e+06  9.399393e+05  1.0  749992.5   \n",
       "wood_add_value        2288007.0  4.543069e+05  4.958667e+06  0.0       0.0   \n",
       "wood_reduce_value     2288007.0  3.698433e+05  3.737720e+06  0.0       0.0   \n",
       "stone_add_value       2288007.0  1.897788e+05  4.670620e+06  0.0       0.0   \n",
       "stone_reduce_value    2288007.0  1.376074e+05  3.370166e+06  0.0       0.0   \n",
       "...                         ...           ...           ...  ...       ...   \n",
       "pve_win_count         2288007.0  2.556749e+00  1.184737e+01  0.0       0.0   \n",
       "avg_online_minutes    2288007.0  1.020749e+01  3.895946e+01  0.0       0.5   \n",
       "pay_price             2288007.0  5.346691e-01  2.263835e+01  0.0       0.0   \n",
       "pay_count             2288007.0  5.770699e-02  7.090886e-01  0.0       0.0   \n",
       "prediction_pay_price  2288007.0  1.793146e+00  8.846303e+01  0.0       0.0   \n",
       "\n",
       "                               50%           75%           max  \n",
       "user_id               1.419095e+06  2.299006e+06  3.190530e+06  \n",
       "wood_add_value        4.203800e+04  1.531180e+05  1.239962e+09  \n",
       "wood_reduce_value     9.830000e+03  9.855700e+04  7.995875e+08  \n",
       "stone_add_value       0.000000e+00  0.000000e+00  1.214869e+09  \n",
       "stone_reduce_value    0.000000e+00  0.000000e+00  7.962378e+08  \n",
       "...                            ...           ...           ...  \n",
       "pve_win_count         0.000000e+00  1.000000e+00  4.880000e+02  \n",
       "avg_online_minutes    1.833333e+00  4.833333e+00  2.049667e+03  \n",
       "pay_price             0.000000e+00  0.000000e+00  7.457950e+03  \n",
       "pay_count             0.000000e+00  0.000000e+00  1.050000e+02  \n",
       "prediction_pay_price  0.000000e+00  0.000000e+00  3.297781e+04  \n",
       "\n",
       "[108 rows x 8 columns]"
      ]
     },
     "execution_count": 9,
     "metadata": {},
     "output_type": "execute_result"
    }
   ],
   "source": [
    "data.describe().T"
   ]
  },
  {
   "cell_type": "markdown",
   "id": "backed-moral",
   "metadata": {},
   "source": [
    "# 2. Label Information"
   ]
  },
  {
   "cell_type": "code",
   "execution_count": 11,
   "id": "sweet-elimination",
   "metadata": {},
   "outputs": [
    {
     "data": {
      "text/plain": [
       "Index(['user_id', 'register_time', 'wood_add_value', 'wood_reduce_value',\n",
       "       'stone_add_value', 'stone_reduce_value', 'ivory_add_value',\n",
       "       'ivory_reduce_value', 'meat_add_value', 'meat_reduce_value',\n",
       "       ...\n",
       "       'pvp_battle_count', 'pvp_lanch_count', 'pvp_win_count',\n",
       "       'pve_battle_count', 'pve_lanch_count', 'pve_win_count',\n",
       "       'avg_online_minutes', 'pay_price', 'pay_count', 'prediction_pay_price'],\n",
       "      dtype='object', length=109)"
      ]
     },
     "execution_count": 11,
     "metadata": {},
     "output_type": "execute_result"
    }
   ],
   "source": [
    "data.columns"
   ]
  },
  {
   "cell_type": "code",
   "execution_count": 12,
   "id": "practical-roads",
   "metadata": {},
   "outputs": [],
   "source": [
    "y = data.iloc[:,-1] # label: the true overall payment in the first 45 days\n",
    "SevenDayPayAmount = data.loc[:,'pay_price'] # the first 7 day payment"
   ]
  },
  {
   "cell_type": "code",
   "execution_count": 14,
   "id": "separate-lover",
   "metadata": {},
   "outputs": [
    {
     "data": {
      "text/plain": [
       "count    2.288007e+06\n",
       "mean     1.793146e+00\n",
       "std      8.846303e+01\n",
       "min      0.000000e+00\n",
       "50%      0.000000e+00\n",
       "75%      0.000000e+00\n",
       "90%      0.000000e+00\n",
       "99%      3.970000e+00\n",
       "max      3.297781e+04\n",
       "Name: prediction_pay_price, dtype: float64"
      ]
     },
     "execution_count": 14,
     "metadata": {},
     "output_type": "execute_result"
    }
   ],
   "source": [
    "y.describe([0.75,0.9,0.99])"
   ]
  },
  {
   "cell_type": "code",
   "execution_count": 15,
   "id": "responsible-memorabilia",
   "metadata": {},
   "outputs": [],
   "source": [
    "def RevenueFocus(RevenueSeries):\n",
    "    # Display 7-day & 45-day payments\n",
    "    \n",
    "    AllUsers = len(RevenueSeries)\n",
    "    PaidUsers = (RevenueSeries != 0).sum()\n",
    "    TotalPayment = RevenueSeries.sum() \n",
    "    \n",
    "    # Print Result\n",
    "    print(\"Pay Rate：{:.3f}%\".format(100*PaidUsers/AllUsers))\n",
    "    print(\"Number of PaidUsers：{}\".format(PaidUsers))\n",
    "    print(\"Total Payment：{:.3f}\".format(TotalPayment))\n",
    "    print(\"ARPU：{:.3f}\".format(TotalPayment/AllUsers)) # ARPU:Average Revenue Per User\n",
    "    print(\"ARPPU：{:.3f}\".format(TotalPayment/PaidUsers)) # ARPPU: Average Revenue Per Paying User\n",
    "    print(\"Percentage of top 500 high paying users by value：{:.3f}%\".format(100*RevenueSeries.sort_values(ascending=False)[:500].sum()/TotalPayment))\n",
    "    print(\"Percentage of top 1000 high paying users by value：{:.3f}%\".format(100*RevenueSeries.sort_values(ascending=False)[:1000].sum()/TotalPayment))\n",
    "    print(\"Percentage of top 5000 high paying users by value：{:.3f}%\".format(100*RevenueSeries.sort_values(ascending=False)[:5000].sum()/TotalPayment))\n"
   ]
  },
  {
   "cell_type": "code",
   "execution_count": 16,
   "id": "modern-satin",
   "metadata": {},
   "outputs": [
    {
     "name": "stdout",
     "output_type": "stream",
     "text": [
      "Pay Rate：2.010%\n",
      "Number of PaidUsers：45988\n",
      "Total Payment：4102730.110\n",
      "ARPU：1.793\n",
      "ARPPU：89.213\n",
      "Percentage of top 500 high paying users by value：51.618%\n",
      "Percentage of top 1000 high paying users by value：64.878%\n",
      "Percentage of top 5000 high paying users by value：89.375%\n"
     ]
    }
   ],
   "source": [
    "RevenueFocus(y) # The First 7 Day Perment"
   ]
  },
  {
   "cell_type": "code",
   "execution_count": 17,
   "id": "recognized-transfer",
   "metadata": {},
   "outputs": [
    {
     "name": "stdout",
     "output_type": "stream",
     "text": [
      "Pay Rate：1.811%\n",
      "Number of PaidUsers：41439\n",
      "Total Payment：1223326.660\n",
      "ARPU：0.535\n",
      "ARPPU：29.521\n",
      "Percentage of top 500 high paying users by value：45.211%\n",
      "Percentage of top 1000 high paying users by value：57.231%\n",
      "Percentage of top 5000 high paying users by value：83.002%\n"
     ]
    }
   ],
   "source": [
    "RevenueFocus(SevenDayPayAmount) # Label: The First 45 Day Perment"
   ]
  },
  {
   "cell_type": "code",
   "execution_count": 18,
   "id": "stretch-bargain",
   "metadata": {},
   "outputs": [
    {
     "data": {
      "text/plain": [
       "2246568"
      ]
     },
     "execution_count": 18,
     "metadata": {},
     "output_type": "execute_result"
    }
   ],
   "source": [
    "(SevenDayPayAmount == 0).sum() # The Number of User Who Don't Pay in the First 7 Days"
   ]
  },
  {
   "cell_type": "code",
   "execution_count": 19,
   "id": "enormous-happiness",
   "metadata": {},
   "outputs": [
    {
     "data": {
      "text/plain": [
       "0.2024866373953515"
      ]
     },
     "execution_count": 19,
     "metadata": {},
     "output_type": "execute_result"
    }
   ],
   "source": [
    "# The new paying users during the first 7 and the first 45 days, \n",
    "# as a percentage of unpaid users in the first 7 days\n",
    "100*(45988 - 41439)/(SevenDayPayAmount == 0).sum() "
   ]
  },
  {
   "cell_type": "markdown",
   "id": "danish-isolation",
   "metadata": {},
   "source": [
    "The total number of paying users who do not pay must include those who have paid within the first seven days, as well as those who have paid within the first seven days and 45 days. There are only 4,549 new paid users (0.2% of non-paid users), so **if a new player has not paid in the first week, there is a 99.8% chance they will not pay in the following days.** This could be attributed to the following: \n",
    "1. All users remain after the seventh day, indicating that the game's financial conversion mechanisms are inadequate once the new user perks expire and that there is a severe lack of conversion incentives. \n",
    "2. Before day 7, the majority of users have already lost and consequently have no further opportunities to pay."
   ]
  },
  {
   "cell_type": "code",
   "execution_count": 20,
   "id": "divided-drinking",
   "metadata": {},
   "outputs": [
    {
     "data": {
      "text/plain": [
       "0          0.0\n",
       "1          0.0\n",
       "2          0.0\n",
       "3          0.0\n",
       "4          0.0\n",
       "          ... \n",
       "2288002    0.0\n",
       "2288003    0.0\n",
       "2288004    0.0\n",
       "2288005    0.0\n",
       "2288006    0.0\n",
       "Name: pay_price, Length: 2272149, dtype: float64"
      ]
     },
     "execution_count": 20,
     "metadata": {},
     "output_type": "execute_result"
    }
   ],
   "source": [
    "# Those who pay within the first 7 days but do not pay after Day 7.\n",
    "SevenDayPayAmount[SevenDayPayAmount == y] "
   ]
  },
  {
   "cell_type": "code",
   "execution_count": 21,
   "id": "forbidden-installation",
   "metadata": {},
   "outputs": [
    {
     "data": {
      "text/plain": [
       "30130"
      ]
     },
     "execution_count": 21,
     "metadata": {},
     "output_type": "execute_result"
    }
   ],
   "source": [
    "SevenDayPayAmount[SevenDayPayAmount == y][SevenDayPayAmount != 0].count()"
   ]
  },
  {
   "cell_type": "markdown",
   "id": "neutral-bobby",
   "metadata": {},
   "source": [
    "It is evident that the number of users who paid before day 7 and never paid again after day 7 exceeds 30,000, which is equivalent to 72% of all paid users. In other words, **a new player who paid in the first seven days has a 70% chance of not paying in the following days**.\n",
    "\n",
    "This may indicate that: \n",
    "1. For most users, the initial payment was a super-low-cost, affordable starter pack, and the benefits and price of subsequent payment exceeded most users' psychological expectations of the game; \n",
    "2. the starter packs are too strong, resulting in the benefits in subsequent payment packs appearing to be too expensive and a high threshold for users to re-pay;\n",
    "3. The game itself is not sticky enough, and lost most people naturally within 7–4 days; \n",
    "4. Users are more willing to pay when they need to develop in the beginning; once they develop, they no longer have a strong need to pay and they quit the game;\n",
    "5. (less likely, only for the small number of players who have a lot of payment in the first 7 days but no longer have it after 7 days) the experience after payment is average or even poor, such as finding no significant increase in competitiveness after a few hundred or thousand dollars of payment."
   ]
  },
  {
   "cell_type": "code",
   "execution_count": 22,
   "id": "italic-cartridge",
   "metadata": {},
   "outputs": [
    {
     "data": {
      "text/plain": [
       "count    30130.000000\n",
       "mean        11.407407\n",
       "std         71.134875\n",
       "min          0.990000\n",
       "25%          0.990000\n",
       "50%          1.980000\n",
       "75%          5.980000\n",
       "max       4086.520000\n",
       "Name: pay_price, dtype: float64"
      ]
     },
     "execution_count": 22,
     "metadata": {},
     "output_type": "execute_result"
    }
   ],
   "source": [
    "# The information of users who don't pay after Day 7 but pay within the prior 7 days\n",
    "SevenDayPayAmount[SevenDayPayAmount == y][SevenDayPayAmount != 0].describe()"
   ]
  },
  {
   "cell_type": "code",
   "execution_count": 23,
   "id": "applicable-polish",
   "metadata": {},
   "outputs": [
    {
     "data": {
      "text/plain": [
       "343705.17000000004"
      ]
     },
     "execution_count": 23,
     "metadata": {},
     "output_type": "execute_result"
    }
   ],
   "source": [
    "SevenDayPayAmount[SevenDayPayAmount == y][SevenDayPayAmount != 0].sum()"
   ]
  },
  {
   "cell_type": "code",
   "execution_count": 24,
   "id": "cardiovascular-decimal",
   "metadata": {},
   "outputs": [
    {
     "data": {
      "text/plain": [
       "count    11309.000000\n",
       "mean        77.780661\n",
       "std        289.610458\n",
       "min          0.990000\n",
       "25%          2.980000\n",
       "50%         15.970000\n",
       "75%         45.940000\n",
       "max       7457.950000\n",
       "Name: pay_price, dtype: float64"
      ]
     },
     "execution_count": 24,
     "metadata": {},
     "output_type": "execute_result"
    }
   ],
   "source": [
    "# The information of users who continue to pay after Day 7\n",
    "SevenDayPayAmount[SevenDayPayAmount != y][SevenDayPayAmount != 0].describe()"
   ]
  },
  {
   "cell_type": "code",
   "execution_count": 25,
   "id": "based-billion",
   "metadata": {},
   "outputs": [
    {
     "data": {
      "text/plain": [
       "879621.4900000001"
      ]
     },
     "execution_count": 25,
     "metadata": {},
     "output_type": "execute_result"
    }
   ],
   "source": [
    "SevenDayPayAmount[SevenDayPayAmount != y][SevenDayPayAmount != 0].sum()"
   ]
  },
  {
   "cell_type": "code",
   "execution_count": 31,
   "id": "agricultural-botswana",
   "metadata": {},
   "outputs": [
    {
     "data": {
      "image/png": "[encoded data removed]",
      "text/plain": [
       "<Figure size 1080x504 with 1 Axes>"
      ]
     },
     "metadata": {
      "needs_background": "light"
     },
     "output_type": "display_data"
    }
   ],
   "source": [
    "plt.figure(figsize=(15,7))\n",
    "plt.boxplot([SevenDayPayAmount[SevenDayPayAmount != y][SevenDayPayAmount != 0],SevenDayPayAmount[SevenDayPayAmount == y][SevenDayPayAmount != 0]],labels=[\"Continue to Pay after Day 7\",\"Cease to Pay after Day 7\"],vert=False,showmeans=False)\n",
    "plt.xlim(-1,50)\n",
    "plt.title('Distribution of the payment in the first 7 days',fontsize=20.0)\n",
    "plt.yticks(fontsize=15.0)\n",
    "plt.xticks(range(0,50,2),fontsize=15.0)\n",
    "#plt.vlines(6.0,ymin = plt.ylim()[0]+0.1,ymax = plt.ylim()[1]-0.1,colors=\"red\",linestyles=\"dotted\")\n",
    "plt.show()"
   ]
  },
  {
   "cell_type": "code",
   "execution_count": 37,
   "id": "recorded-entertainment",
   "metadata": {},
   "outputs": [],
   "source": [
    "PotentialPoints = range(1,16)\n",
    "KeepPaidList = []\n",
    "StopPaidList = []\n",
    "for i in PotentialPoints:\n",
    "    # Take out all paid users whose payment amount exceeds i within 7 days\n",
    "    HigherThanPoint = SevenDayPayAmount[SevenDayPayAmount>=i] \n",
    "    # Of these users, the percentage who continue to pay\n",
    "    KeepPaid = len(HigherThanPoint[SevenDayPayAmount != y])/len(HigherThanPoint) \n",
    "    # Of these users, the percentage who cease to pay, 1-KeepPaid\n",
    "    StopPaid = len(HigherThanPoint[SevenDayPayAmount == y])/len(HigherThanPoint)\n",
    "#     print(i)\n",
    "#     print(\"{:.3f}%\".format(100*KeepPaid))\n",
    "#     print(\"{:.3f}%\".format(100*StopPaid))\n",
    "#     print(\"{:.3f}%\".format(KeepPaid - StopPaid))\n",
    "    KeepPaidList.append(100*KeepPaid)\n",
    "    StopPaidList.append(100*StopPaid)"
   ]
  },
  {
   "cell_type": "code",
   "execution_count": 38,
   "id": "satisfied-intelligence",
   "metadata": {},
   "outputs": [
    {
     "data": {
      "image/png": "[encoded data removed]",
      "text/plain": [
       "<Figure size 1080x504 with 1 Axes>"
      ]
     },
     "metadata": {
      "needs_background": "light"
     },
     "output_type": "display_data"
    }
   ],
   "source": [
    "plt.figure(figsize=(15,7))\n",
    "plt.plot(PotentialPoints,KeepPaidList,label=\"The Possibility of Users continue to pay\",color=\"red\")\n",
    "plt.plot(PotentialPoints,StopPaidList,label=\"The Possibility of Users stop to pay\",color=\"k\")\n",
    "#plt.xlim(-1,50)\n",
    "plt.title('With the increase of payment amount within the first 7 days, The Change of \\\"continue to pay\\\" / \\\"cease to pay\\\"',fontsize=20.0)\n",
    "plt.yticks(fontsize=15.0)\n",
    "plt.xticks(range(0,16,1),fontsize=15.0)\n",
    "plt.legend(fontsize = 15.0, frameon = False)\n",
    "plt.vlines(5.7,ymin = plt.ylim()[0]+0.1,ymax = plt.ylim()[1]-0.1,colors=\"red\",linestyles=\"dotted\")\n",
    "plt.show()"
   ]
  },
  {
   "cell_type": "markdown",
   "id": "political-longer",
   "metadata": {},
   "source": [
    "- Conclusion: When the payment amount within 7 days larger than 6 CNY, users are more likely to continue paying than not to stop paying！"
   ]
  },
  {
   "cell_type": "markdown",
   "id": "timely-sound",
   "metadata": {},
   "source": [
    "Idea: \n",
    "ARPU is the average payment made by users of a game, whereas ARPPU is the average payment made by paying users. \n",
    "Currently, the game has a slightly low ARPU, but a respectable ARPPU, which implies that the economic capacity of paying users is rather strong. \n",
    "From the perspective of the proportion of the top 5,000 high-paying users within the first 45 days, the top 5,000 users in the game (accounting for less than 0.22%) generated 89% of the server's total money, and they contributed significantly. \n",
    "\n",
    "This leads me to believe that the paying behavior in the game should be directly related to the users' competitiveness, as many high-payment players prefer strong PK games and paying can directly make PVP extremely easy. However, the highest-paying player in the game spends only 32,000 CNY throughout the 45 days, which is a relatively low amount for SLG mobile games. If the gaming experience is exceptional, there should be ample space for enhancement. However, the problem of a small number of paying players can be addressed and the game's overall operating performance can be improved."
   ]
  },
  {
   "cell_type": "markdown",
   "id": "ranging-reducing",
   "metadata": {},
   "source": [
    "# 3. Features"
   ]
  },
  {
   "cell_type": "markdown",
   "id": "excited-consortium",
   "metadata": {},
   "source": [
    "## 3.1 Time spent online: Does the game lose users at a higher rate than average?"
   ]
  },
  {
   "cell_type": "code",
   "execution_count": 39,
   "id": "sized-merit",
   "metadata": {},
   "outputs": [
    {
     "data": {
      "text/plain": [
       "2049.666667"
      ]
     },
     "execution_count": 39,
     "metadata": {},
     "output_type": "execute_result"
    }
   ],
   "source": [
    "PlayTime = data.loc[:,\"avg_online_minutes\"] # The overall online minutes in the first 7 days\n",
    "PlayTime.max()"
   ]
  },
  {
   "cell_type": "code",
   "execution_count": 40,
   "id": "unknown-webmaster",
   "metadata": {},
   "outputs": [
    {
     "data": {
      "text/plain": [
       "count   2288007.000\n",
       "mean         10.207\n",
       "std          38.959\n",
       "min           0.000\n",
       "25%           0.500\n",
       "50%           1.833\n",
       "75%           4.833\n",
       "max        2049.667\n",
       "Name: avg_online_minutes, dtype: float64"
      ]
     },
     "execution_count": 40,
     "metadata": {},
     "output_type": "execute_result"
    }
   ],
   "source": [
    "pd.set_option(\"display.float_format\", lambda x: \"%.3f\" % x)\n",
    "PlayTime.describe()"
   ]
  },
  {
   "cell_type": "code",
   "execution_count": 41,
   "id": "advance-guarantee",
   "metadata": {},
   "outputs": [
    {
     "data": {
      "text/plain": [
       "count   2288007.000\n",
       "mean         10.207\n",
       "std          38.959\n",
       "min           0.000\n",
       "50%           1.833\n",
       "75%           4.833\n",
       "90%          15.000\n",
       "95%          41.333\n",
       "99%         183.657\n",
       "max        2049.667\n",
       "Name: avg_online_minutes, dtype: float64"
      ]
     },
     "execution_count": 41,
     "metadata": {},
     "output_type": "execute_result"
    }
   ],
   "source": [
    "PlayTime.describe(percentiles=[0.75,.9,0.95,.99]) "
   ]
  },
  {
   "cell_type": "code",
   "execution_count": 42,
   "id": "royal-endorsement",
   "metadata": {},
   "outputs": [
    {
     "data": {
      "text/html": [
       "<div>\n",
       "<style scoped>\n",
       "    .dataframe tbody tr th:only-of-type {\n",
       "        vertical-align: middle;\n",
       "    }\n",
       "\n",
       "    .dataframe tbody tr th {\n",
       "        vertical-align: top;\n",
       "    }\n",
       "\n",
       "    .dataframe thead th {\n",
       "        text-align: right;\n",
       "    }\n",
       "</style>\n",
       "<table border=\"1\" class=\"dataframe\">\n",
       "  <thead>\n",
       "    <tr style=\"text-align: right;\">\n",
       "      <th></th>\n",
       "      <th>user_id</th>\n",
       "      <th>register_time</th>\n",
       "      <th>wood_add_value</th>\n",
       "      <th>wood_reduce_value</th>\n",
       "      <th>stone_add_value</th>\n",
       "      <th>stone_reduce_value</th>\n",
       "      <th>ivory_add_value</th>\n",
       "      <th>ivory_reduce_value</th>\n",
       "      <th>meat_add_value</th>\n",
       "      <th>meat_reduce_value</th>\n",
       "      <th>...</th>\n",
       "      <th>pvp_battle_count</th>\n",
       "      <th>pvp_lanch_count</th>\n",
       "      <th>pvp_win_count</th>\n",
       "      <th>pve_battle_count</th>\n",
       "      <th>pve_lanch_count</th>\n",
       "      <th>pve_win_count</th>\n",
       "      <th>avg_online_minutes</th>\n",
       "      <th>pay_price</th>\n",
       "      <th>pay_count</th>\n",
       "      <th>prediction_pay_price</th>\n",
       "    </tr>\n",
       "  </thead>\n",
       "  <tbody>\n",
       "    <tr>\n",
       "      <th>488497</th>\n",
       "      <td>645487</td>\n",
       "      <td>2018-03-04 13:43:36</td>\n",
       "      <td>697852.000</td>\n",
       "      <td>300255.000</td>\n",
       "      <td>0.000</td>\n",
       "      <td>0.000</td>\n",
       "      <td>6000.000</td>\n",
       "      <td>0.000</td>\n",
       "      <td>690379.000</td>\n",
       "      <td>196602.000</td>\n",
       "      <td>...</td>\n",
       "      <td>5</td>\n",
       "      <td>0</td>\n",
       "      <td>0</td>\n",
       "      <td>2</td>\n",
       "      <td>2</td>\n",
       "      <td>2</td>\n",
       "      <td>2049.667</td>\n",
       "      <td>0.000</td>\n",
       "      <td>0</td>\n",
       "      <td>0.000</td>\n",
       "    </tr>\n",
       "    <tr>\n",
       "      <th>1263615</th>\n",
       "      <td>1579134</td>\n",
       "      <td>2018-03-05 11:04:18</td>\n",
       "      <td>15722711.000</td>\n",
       "      <td>15269965.000</td>\n",
       "      <td>8895972.000</td>\n",
       "      <td>7952637.000</td>\n",
       "      <td>4554662.000</td>\n",
       "      <td>3025143.000</td>\n",
       "      <td>23321313.000</td>\n",
       "      <td>21071538.000</td>\n",
       "      <td>...</td>\n",
       "      <td>48</td>\n",
       "      <td>25</td>\n",
       "      <td>11</td>\n",
       "      <td>100</td>\n",
       "      <td>100</td>\n",
       "      <td>86</td>\n",
       "      <td>1674.667</td>\n",
       "      <td>2.980</td>\n",
       "      <td>2</td>\n",
       "      <td>514.680</td>\n",
       "    </tr>\n",
       "  </tbody>\n",
       "</table>\n",
       "<p>2 rows × 109 columns</p>\n",
       "</div>"
      ],
      "text/plain": [
       "         user_id        register_time  wood_add_value  wood_reduce_value  \\\n",
       "488497    645487  2018-03-04 13:43:36      697852.000         300255.000   \n",
       "1263615  1579134  2018-03-05 11:04:18    15722711.000       15269965.000   \n",
       "\n",
       "         stone_add_value  stone_reduce_value  ivory_add_value  \\\n",
       "488497             0.000               0.000         6000.000   \n",
       "1263615      8895972.000         7952637.000      4554662.000   \n",
       "\n",
       "         ivory_reduce_value  meat_add_value  meat_reduce_value  ...  \\\n",
       "488497                0.000      690379.000         196602.000  ...   \n",
       "1263615         3025143.000    23321313.000       21071538.000  ...   \n",
       "\n",
       "         pvp_battle_count  pvp_lanch_count  pvp_win_count  pve_battle_count  \\\n",
       "488497                  5                0              0                 2   \n",
       "1263615                48               25             11               100   \n",
       "\n",
       "         pve_lanch_count  pve_win_count  avg_online_minutes  pay_price  \\\n",
       "488497                 2              2            2049.667      0.000   \n",
       "1263615              100             86            1674.667      2.980   \n",
       "\n",
       "         pay_count  prediction_pay_price  \n",
       "488497           0                 0.000  \n",
       "1263615          2               514.680  \n",
       "\n",
       "[2 rows x 109 columns]"
      ]
     },
     "execution_count": 42,
     "metadata": {},
     "output_type": "execute_result"
    }
   ],
   "source": [
    "data.loc[data[\"avg_online_minutes\"] > 1500,:]"
   ]
  },
  {
   "cell_type": "code",
   "execution_count": 44,
   "id": "homeless-night",
   "metadata": {},
   "outputs": [
    {
     "data": {
      "text/plain": [
       "count   41439.000\n",
       "mean      140.188\n",
       "std       149.973\n",
       "min         0.000\n",
       "25%        33.000\n",
       "50%        88.833\n",
       "75%       194.667\n",
       "max      1674.667\n",
       "Name: avg_online_minutes, dtype: float64"
      ]
     },
     "execution_count": 44,
     "metadata": {},
     "output_type": "execute_result"
    }
   ],
   "source": [
    "PaidPlayTime = data.loc[data[\"pay_price\"] != 0,\"avg_online_minutes\"]\n",
    "\n",
    "PaidPlayTime.describe().T "
   ]
  },
  {
   "cell_type": "markdown",
   "id": "fitted-function",
   "metadata": {},
   "source": [
    "Only less than 25% of users spend less than half an hour online, and the game time is significantly more than that of non-paying users"
   ]
  },
  {
   "cell_type": "code",
   "execution_count": 45,
   "id": "preceding-letter",
   "metadata": {},
   "outputs": [
    {
     "data": {
      "text/plain": [
       "0.000     896061\n",
       "0.990         51\n",
       "9.990          4\n",
       "4.990          3\n",
       "36.960         3\n",
       "5.980          3\n",
       "56.950         2\n",
       "99.990         2\n",
       "25.970         1\n",
       "1.990          1\n",
       "49.990         1\n",
       "26.970         1\n",
       "6.980          1\n",
       "19.990         1\n",
       "Name: pay_price, dtype: int64"
      ]
     },
     "execution_count": 45,
     "metadata": {},
     "output_type": "execute_result"
    }
   ],
   "source": [
    "data.loc[data[\"avg_online_minutes\"]<=1,\"pay_price\"].value_counts()"
   ]
  },
  {
   "cell_type": "code",
   "execution_count": 46,
   "id": "south-subsection",
   "metadata": {},
   "outputs": [
    {
     "name": "stdout",
     "output_type": "stream",
     "text": [
      "Less than 1 minutes online in a week\n",
      "\t45-day average spending is 0.022 CNY，45-day total spending 18323.490 CNY\n",
      "\t7-day average spending is 0.001 CNY，7-day total spending 574.180 CNY\n",
      "\t7-day payment ratio 0.047%，45-day payment ratio 0.447%\n",
      "Less than 5 minutes online in a week\n",
      "\t45-day average spending is 0.019 CNY，45-day total spending 32572.700 CNY\n",
      "\t7-day average spending is 0.003 CNY，7-day total spending 4519.280 CNY\n",
      "\t7-day payment ratio 0.369%，45-day payment ratio 0.794%\n",
      "Less than 15 minutes online in a week\n",
      "\t45-day average spending is 0.028 CNY，45-day total spending 57753.190 CNY\n",
      "\t7-day average spending is 0.009 CNY，7-day total spending 18428.260 CNY\n",
      "\t7-day payment ratio 1.506%，45-day payment ratio 1.408%\n",
      "Less than 20 minutes online in a week\n",
      "\t45-day average spending is 0.038 CNY，45-day total spending 79124.920 CNY\n",
      "\t7-day average spending is 0.012 CNY，7-day total spending 25904.310 CNY\n",
      "\t7-day payment ratio 2.118%，45-day payment ratio 1.929%\n",
      "Less than 25 minutes online in a week\n",
      "\t45-day average spending is 0.044 CNY，45-day total spending 94650.110 CNY\n",
      "\t7-day average spending is 0.016 CNY，7-day total spending 34217.390 CNY\n",
      "\t7-day payment ratio 2.797%，45-day payment ratio 2.307%\n",
      "Less than 30 minutes online in a week\n",
      "\t45-day average spending is 0.050 CNY，45-day total spending 107763.140 CNY\n",
      "\t7-day average spending is 0.019 CNY，7-day total spending 40862.200 CNY\n",
      "\t7-day payment ratio 3.340%，45-day payment ratio 2.627%\n"
     ]
    }
   ],
   "source": [
    "# The amount of payment contributed by players with limited online hours\n",
    "\n",
    "for playtime in [1,5,15,20,25,30]:\n",
    "    \n",
    "    MeanPay45 = data.loc[data[\"avg_online_minutes\"]<playtime,\"prediction_pay_price\"].mean()\n",
    "    TotalPay45 = data.loc[data[\"avg_online_minutes\"]<playtime,\"prediction_pay_price\"].sum()\n",
    "    MeanPay7 = data.loc[data[\"avg_online_minutes\"]<playtime,\"pay_price\"].mean()\n",
    "    TotalPay7 = data.loc[data[\"avg_online_minutes\"]<playtime,\"pay_price\"].sum()\n",
    "    \n",
    "    print(\"Less than {} minutes online in a week\".format(playtime))\n",
    "    print(\"\\t45-day average spending is {:.3f} CNY，45-day total spending {:.3f} CNY\".format(MeanPay45,TotalPay45))\n",
    "    print(\"\\t7-day average spending is {:.3f} CNY，7-day total spending {:.3f} CNY\".format(MeanPay7,TotalPay7))\n",
    "    print(\"\\t7-day payment ratio {:.3f}%，45-day payment ratio {:.3f}%\".format(100*TotalPay7/(data[\"pay_price\"].sum())\n",
    "                                                  ,100*TotalPay45/(data[\"prediction_pay_price\"].sum())))\n"
   ]
  },
  {
   "cell_type": "markdown",
   "id": "dress-palace",
   "metadata": {},
   "source": [
    "It is not difficult to determine that the amount of payment contributed by users with a short online history is extremely low. When simulating 2 million individuals, we can ignore users with limited online time. Here, we may identify low-value users as those who are online for less than 15 or 20 minutes per week."
   ]
  },
  {
   "cell_type": "code",
   "execution_count": 47,
   "id": "correct-visibility",
   "metadata": {},
   "outputs": [
    {
     "name": "stdout",
     "output_type": "stream",
     "text": [
      "Less than 500 minutes online in a week\n",
      "\t45-day average spending is 377.113 CNY，45-day total spending 885839.060 CNY\n",
      "\t7-day average spending is 110.492 CNY，7-day total spending 259544.740 CNY\n",
      "\t7-day payment ratio 21.216%，45-day payment ratio 21.591%\n",
      "Less than 600 minutes online in a week\n",
      "\t45-day average spending is 437.753 CNY，45-day total spending 515673.070 CNY\n",
      "\t7-day average spending is 130.699 CNY，7-day total spending 153963.300 CNY\n",
      "\t7-day payment ratio 12.586%，45-day payment ratio 12.569%\n",
      "Less than 700 minutes online in a week\n",
      "\t45-day average spending is 427.776 CNY，45-day total spending 272921.300 CNY\n",
      "\t7-day average spending is 120.904 CNY，7-day total spending 77136.600 CNY\n",
      "\t7-day payment ratio 6.305%，45-day payment ratio 6.652%\n",
      "Less than 800 minutes online in a week\n",
      "\t45-day average spending is 359.040 CNY，45-day total spending 113815.780 CNY\n",
      "\t7-day average spending is 104.344 CNY，7-day total spending 33076.950 CNY\n",
      "\t7-day payment ratio 2.704%，45-day payment ratio 2.774%\n",
      "Less than 900 minutes online in a week\n",
      "\t45-day average spending is 218.907 CNY，45-day total spending 36557.400 CNY\n",
      "\t7-day average spending is 43.819 CNY，7-day total spending 7317.770 CNY\n",
      "\t7-day payment ratio 0.598%，45-day payment ratio 0.891%\n",
      "Less than 1000 minutes online in a week\n",
      "\t45-day average spending is 139.194 CNY，45-day total spending 12109.910 CNY\n",
      "\t7-day average spending is 40.055 CNY，7-day total spending 3484.820 CNY\n",
      "\t7-day payment ratio 0.285%，45-day payment ratio 0.295%\n",
      "Less than 1200 minutes online in a week\n",
      "\t45-day average spending is 25.492 CNY，45-day total spending 637.300 CNY\n",
      "\t7-day average spending is 2.869 CNY，7-day total spending 71.730 CNY\n",
      "\t7-day payment ratio 0.006%，45-day payment ratio 0.016%\n"
     ]
    }
   ],
   "source": [
    "# The amount of payment contributed by players with long online hours\n",
    "\n",
    "for playtime in [500,600,700,800,900,1000,1200]:\n",
    "    \n",
    "    MeanPay45 = data.loc[data[\"avg_online_minutes\"]>=playtime,\"prediction_pay_price\"].mean()\n",
    "    TotalPay45 = data.loc[data[\"avg_online_minutes\"]>=playtime,\"prediction_pay_price\"].sum()\n",
    "    MeanPay7 = data.loc[data[\"avg_online_minutes\"]>=playtime,\"pay_price\"].mean()\n",
    "    TotalPay7 = data.loc[data[\"avg_online_minutes\"]>=playtime,\"pay_price\"].sum()\n",
    "    \n",
    "    print(\"Less than {} minutes online in a week\".format(playtime))\n",
    "    print(\"\\t45-day average spending is {:.3f} CNY，45-day total spending {:.3f} CNY\".format(MeanPay45,TotalPay45))\n",
    "    print(\"\\t7-day average spending is {:.3f} CNY，7-day total spending {:.3f} CNY\".format(MeanPay7,TotalPay7))\n",
    "    print(\"\\t7-day payment ratio {:.3f}%，45-day payment ratio {:.3f}%\".format(100*TotalPay7/(data[\"pay_price\"].sum())\n",
    "                                                  ,100*TotalPay45/(data[\"prediction_pay_price\"].sum())))\n"
   ]
  },
  {
   "cell_type": "markdown",
   "id": "amazing-pioneer",
   "metadata": {},
   "source": [
    "Despite the fact that many players are highly engaged with the game, they are not high-value users. We can declare that people who spend above 800 minutes each week online are of low value (at the payment level). Similar to how paying users tend to dominate resources, users with a large number of resources are not necessarily paying users."
   ]
  },
  {
   "cell_type": "code",
   "execution_count": 48,
   "id": "intellectual-housing",
   "metadata": {},
   "outputs": [
    {
     "data": {
      "text/plain": [
       "count        41439.000\n",
       "mean      10712783.554\n",
       "std       34752584.812\n",
       "min              0.000\n",
       "25%        2132829.500\n",
       "50%        5267091.000\n",
       "75%       10249321.000\n",
       "max     1239962311.000\n",
       "Name: wood_add_value, dtype: float64"
      ]
     },
     "execution_count": 48,
     "metadata": {},
     "output_type": "execute_result"
    }
   ],
   "source": [
    "data.loc[data[\"pay_price\"] != 0,\"wood_add_value\"].describe()"
   ]
  },
  {
   "cell_type": "code",
   "execution_count": 49,
   "id": "charming-estonia",
   "metadata": {},
   "outputs": [
    {
     "data": {
      "text/plain": [
       "count     2246568.000\n",
       "mean       265084.447\n",
       "std        887773.641\n",
       "min             0.000\n",
       "25%             0.000\n",
       "50%         40088.000\n",
       "75%        144657.000\n",
       "max     158249380.000\n",
       "Name: wood_add_value, dtype: float64"
      ]
     },
     "execution_count": 49,
     "metadata": {},
     "output_type": "execute_result"
    }
   ],
   "source": [
    "data.loc[data[\"pay_price\"] == 0,\"wood_add_value\"].describe()"
   ]
  },
  {
   "cell_type": "markdown",
   "id": "engaged-league",
   "metadata": {},
   "source": [
    "These indicate that paying users are absolutely dominant in resource volume"
   ]
  },
  {
   "cell_type": "markdown",
   "id": "amazing-dance",
   "metadata": {},
   "source": [
    "## 3.2 Distribution and Skewness: Is the game not beginner-friendly? Is the complexity of resource acquisition reasonable?"
   ]
  },
  {
   "cell_type": "code",
   "execution_count": 50,
   "id": "acting-focus",
   "metadata": {},
   "outputs": [],
   "source": [
    "resource = data.iloc[:,2:-10]"
   ]
  },
  {
   "cell_type": "code",
   "execution_count": 51,
   "id": "filled-waterproof",
   "metadata": {},
   "outputs": [
    {
     "data": {
      "text/plain": [
       "Index(['wood_add_value', 'wood_reduce_value', 'stone_add_value',\n",
       "       'stone_reduce_value', 'ivory_add_value', 'ivory_reduce_value',\n",
       "       'meat_add_value', 'meat_reduce_value', 'magic_add_value',\n",
       "       'magic_reduce_value', 'infantry_add_value', 'infantry_reduce_value',\n",
       "       'cavalry_add_value', 'cavalry_reduce_value', 'shaman_add_value',\n",
       "       'shaman_reduce_value', 'wound_infantry_add_value',\n",
       "       'wound_infantry_reduce_value', 'wound_cavalry_add_value',\n",
       "       'wound_cavalry_reduce_value', 'wound_shaman_add_value',\n",
       "       'wound_shaman_reduce_value', 'general_acceleration_add_value',\n",
       "       'general_acceleration_reduce_value', 'building_acceleration_add_value',\n",
       "       'building_acceleration_reduce_value', 'reaserch_acceleration_add_value',\n",
       "       'reaserch_acceleration_reduce_value', 'training_acceleration_add_value',\n",
       "       'training_acceleration_reduce_value', 'treatment_acceleraion_add_value',\n",
       "       'treatment_acceleration_reduce_value', 'bd_training_hut_level',\n",
       "       'bd_healing_lodge_level', 'bd_stronghold_level',\n",
       "       'bd_outpost_portal_level', 'bd_barrack_level',\n",
       "       'bd_healing_spring_level', 'bd_dolmen_level', 'bd_guest_cavern_level',\n",
       "       'bd_warehouse_level', 'bd_watchtower_level', 'bd_magic_coin_tree_level',\n",
       "       'bd_hall_of_war_level', 'bd_market_level', 'bd_hero_gacha_level',\n",
       "       'bd_hero_strengthen_level', 'bd_hero_pve_level', 'sr_scout_level',\n",
       "       'sr_training_speed_level', 'sr_infantry_tier_2_level',\n",
       "       'sr_cavalry_tier_2_level', 'sr_shaman_tier_2_level',\n",
       "       'sr_infantry_atk_level', 'sr_cavalry_atk_level', 'sr_shaman_atk_level',\n",
       "       'sr_infantry_tier_3_level', 'sr_cavalry_tier_3_level',\n",
       "       'sr_shaman_tier_3_level', 'sr_troop_defense_level',\n",
       "       'sr_infantry_def_level', 'sr_cavalry_def_level', 'sr_shaman_def_level',\n",
       "       'sr_infantry_hp_level', 'sr_cavalry_hp_level', 'sr_shaman_hp_level',\n",
       "       'sr_infantry_tier_4_level', 'sr_cavalry_tier_4_level',\n",
       "       'sr_shaman_tier_4_level', 'sr_troop_attack_level',\n",
       "       'sr_construction_speed_level', 'sr_hide_storage_level',\n",
       "       'sr_troop_consumption_level', 'sr_rss_a_prod_levell',\n",
       "       'sr_rss_b_prod_level', 'sr_rss_c_prod_level', 'sr_rss_d_prod_level',\n",
       "       'sr_rss_a_gather_level', 'sr_rss_b_gather_level',\n",
       "       'sr_rss_c_gather_level', 'sr_rss_d_gather_level', 'sr_troop_load_level',\n",
       "       'sr_rss_e_gather_level', 'sr_rss_e_prod_level',\n",
       "       'sr_outpost_durability_level', 'sr_outpost_tier_2_level',\n",
       "       'sr_healing_space_level', 'sr_gathering_hunter_buff_level',\n",
       "       'sr_healing_speed_level', 'sr_outpost_tier_3_level',\n",
       "       'sr_alliance_march_speed_level', 'sr_pvp_march_speed_level',\n",
       "       'sr_gathering_march_speed_level', 'sr_outpost_tier_4_level',\n",
       "       'sr_guest_troop_capacity_level', 'sr_march_size_level',\n",
       "       'sr_rss_help_bonus_level'],\n",
       "      dtype='object')"
      ]
     },
     "execution_count": 51,
     "metadata": {},
     "output_type": "execute_result"
    }
   ],
   "source": [
    "resource.columns"
   ]
  },
  {
   "cell_type": "code",
   "execution_count": 52,
   "id": "impressed-elements",
   "metadata": {},
   "outputs": [],
   "source": [
    "sak = pd.DataFrame()\n",
    "for idx,ColName in enumerate(resource.columns):\n",
    "    sak.loc[idx,\"FeatureName\"] = ColName\n",
    "    column = data.loc[:,ColName]\n",
    "    sak.loc[idx,\"Skew\"] = column.skew() \n",
    "    sak.loc[idx,\"Kurt\"] = column.kurt() \n",
    "    sak.loc[idx,\"Mean\"] = column.mean()"
   ]
  },
  {
   "cell_type": "code",
   "execution_count": 53,
   "id": "official-friendship",
   "metadata": {},
   "outputs": [
    {
     "data": {
      "text/html": [
       "<div>\n",
       "<style scoped>\n",
       "    .dataframe tbody tr th:only-of-type {\n",
       "        vertical-align: middle;\n",
       "    }\n",
       "\n",
       "    .dataframe tbody tr th {\n",
       "        vertical-align: top;\n",
       "    }\n",
       "\n",
       "    .dataframe thead th {\n",
       "        text-align: right;\n",
       "    }\n",
       "</style>\n",
       "<table border=\"1\" class=\"dataframe\">\n",
       "  <thead>\n",
       "    <tr style=\"text-align: right;\">\n",
       "      <th></th>\n",
       "      <th>FeatureName</th>\n",
       "      <th>Skew</th>\n",
       "      <th>Kurt</th>\n",
       "      <th>Mean</th>\n",
       "    </tr>\n",
       "  </thead>\n",
       "  <tbody>\n",
       "    <tr>\n",
       "      <th>0</th>\n",
       "      <td>wood_add_value</td>\n",
       "      <td>100.635</td>\n",
       "      <td>15449.582</td>\n",
       "      <td>454306.859</td>\n",
       "    </tr>\n",
       "    <tr>\n",
       "      <th>1</th>\n",
       "      <td>wood_reduce_value</td>\n",
       "      <td>86.310</td>\n",
       "      <td>11367.448</td>\n",
       "      <td>369843.252</td>\n",
       "    </tr>\n",
       "    <tr>\n",
       "      <th>2</th>\n",
       "      <td>stone_add_value</td>\n",
       "      <td>113.794</td>\n",
       "      <td>18489.107</td>\n",
       "      <td>189778.774</td>\n",
       "    </tr>\n",
       "    <tr>\n",
       "      <th>3</th>\n",
       "      <td>stone_reduce_value</td>\n",
       "      <td>105.043</td>\n",
       "      <td>15515.988</td>\n",
       "      <td>137607.363</td>\n",
       "    </tr>\n",
       "    <tr>\n",
       "      <th>4</th>\n",
       "      <td>ivory_add_value</td>\n",
       "      <td>112.636</td>\n",
       "      <td>17682.030</td>\n",
       "      <td>80756.230</td>\n",
       "    </tr>\n",
       "  </tbody>\n",
       "</table>\n",
       "</div>"
      ],
      "text/plain": [
       "          FeatureName    Skew      Kurt       Mean\n",
       "0      wood_add_value 100.635 15449.582 454306.859\n",
       "1   wood_reduce_value  86.310 11367.448 369843.252\n",
       "2     stone_add_value 113.794 18489.107 189778.774\n",
       "3  stone_reduce_value 105.043 15515.988 137607.363\n",
       "4     ivory_add_value 112.636 17682.030  80756.230"
      ]
     },
     "execution_count": 53,
     "metadata": {},
     "output_type": "execute_result"
    }
   ],
   "source": [
    "sak.head()"
   ]
  },
  {
   "cell_type": "code",
   "execution_count": 54,
   "id": "quiet-climate",
   "metadata": {},
   "outputs": [
    {
     "data": {
      "text/html": [
       "<div>\n",
       "<style scoped>\n",
       "    .dataframe tbody tr th:only-of-type {\n",
       "        vertical-align: middle;\n",
       "    }\n",
       "\n",
       "    .dataframe tbody tr th {\n",
       "        vertical-align: top;\n",
       "    }\n",
       "\n",
       "    .dataframe thead th {\n",
       "        text-align: right;\n",
       "    }\n",
       "</style>\n",
       "<table border=\"1\" class=\"dataframe\">\n",
       "  <thead>\n",
       "    <tr style=\"text-align: right;\">\n",
       "      <th></th>\n",
       "      <th>FeatureName</th>\n",
       "      <th>Skew</th>\n",
       "      <th>Kurt</th>\n",
       "      <th>Mean</th>\n",
       "    </tr>\n",
       "  </thead>\n",
       "  <tbody>\n",
       "    <tr>\n",
       "      <th>34</th>\n",
       "      <td>bd_stronghold_level</td>\n",
       "      <td>1.229</td>\n",
       "      <td>0.970</td>\n",
       "      <td>2.098</td>\n",
       "    </tr>\n",
       "    <tr>\n",
       "      <th>35</th>\n",
       "      <td>bd_outpost_portal_level</td>\n",
       "      <td>1.383</td>\n",
       "      <td>1.477</td>\n",
       "      <td>1.764</td>\n",
       "    </tr>\n",
       "    <tr>\n",
       "      <th>32</th>\n",
       "      <td>bd_training_hut_level</td>\n",
       "      <td>1.878</td>\n",
       "      <td>3.314</td>\n",
       "      <td>1.306</td>\n",
       "    </tr>\n",
       "    <tr>\n",
       "      <th>42</th>\n",
       "      <td>bd_magic_coin_tree_level</td>\n",
       "      <td>2.050</td>\n",
       "      <td>3.388</td>\n",
       "      <td>1.146</td>\n",
       "    </tr>\n",
       "    <tr>\n",
       "      <th>36</th>\n",
       "      <td>bd_barrack_level</td>\n",
       "      <td>2.114</td>\n",
       "      <td>4.327</td>\n",
       "      <td>1.284</td>\n",
       "    </tr>\n",
       "    <tr>\n",
       "      <th>33</th>\n",
       "      <td>bd_healing_lodge_level</td>\n",
       "      <td>2.183</td>\n",
       "      <td>4.567</td>\n",
       "      <td>1.027</td>\n",
       "    </tr>\n",
       "    <tr>\n",
       "      <th>41</th>\n",
       "      <td>bd_watchtower_level</td>\n",
       "      <td>2.409</td>\n",
       "      <td>5.619</td>\n",
       "      <td>0.913</td>\n",
       "    </tr>\n",
       "    <tr>\n",
       "      <th>37</th>\n",
       "      <td>bd_healing_spring_level</td>\n",
       "      <td>2.429</td>\n",
       "      <td>5.627</td>\n",
       "      <td>0.924</td>\n",
       "    </tr>\n",
       "    <tr>\n",
       "      <th>40</th>\n",
       "      <td>bd_warehouse_level</td>\n",
       "      <td>2.472</td>\n",
       "      <td>5.525</td>\n",
       "      <td>0.934</td>\n",
       "    </tr>\n",
       "    <tr>\n",
       "      <th>38</th>\n",
       "      <td>bd_dolmen_level</td>\n",
       "      <td>2.495</td>\n",
       "      <td>5.893</td>\n",
       "      <td>0.969</td>\n",
       "    </tr>\n",
       "    <tr>\n",
       "      <th>44</th>\n",
       "      <td>bd_market_level</td>\n",
       "      <td>2.727</td>\n",
       "      <td>7.144</td>\n",
       "      <td>0.772</td>\n",
       "    </tr>\n",
       "    <tr>\n",
       "      <th>48</th>\n",
       "      <td>sr_scout_level</td>\n",
       "      <td>2.923</td>\n",
       "      <td>10.701</td>\n",
       "      <td>0.331</td>\n",
       "    </tr>\n",
       "    <tr>\n",
       "      <th>49</th>\n",
       "      <td>sr_training_speed_level</td>\n",
       "      <td>3.815</td>\n",
       "      <td>14.593</td>\n",
       "      <td>0.299</td>\n",
       "    </tr>\n",
       "    <tr>\n",
       "      <th>39</th>\n",
       "      <td>bd_guest_cavern_level</td>\n",
       "      <td>4.015</td>\n",
       "      <td>15.755</td>\n",
       "      <td>0.441</td>\n",
       "    </tr>\n",
       "    <tr>\n",
       "      <th>85</th>\n",
       "      <td>sr_outpost_tier_2_level</td>\n",
       "      <td>4.426</td>\n",
       "      <td>17.592</td>\n",
       "      <td>0.044</td>\n",
       "    </tr>\n",
       "    <tr>\n",
       "      <th>47</th>\n",
       "      <td>bd_hero_pve_level</td>\n",
       "      <td>5.017</td>\n",
       "      <td>26.012</td>\n",
       "      <td>0.292</td>\n",
       "    </tr>\n",
       "    <tr>\n",
       "      <th>45</th>\n",
       "      <td>bd_hero_gacha_level</td>\n",
       "      <td>5.722</td>\n",
       "      <td>35.427</td>\n",
       "      <td>0.201</td>\n",
       "    </tr>\n",
       "    <tr>\n",
       "      <th>84</th>\n",
       "      <td>sr_outpost_durability_level</td>\n",
       "      <td>5.959</td>\n",
       "      <td>43.095</td>\n",
       "      <td>0.110</td>\n",
       "    </tr>\n",
       "    <tr>\n",
       "      <th>46</th>\n",
       "      <td>bd_hero_strengthen_level</td>\n",
       "      <td>6.024</td>\n",
       "      <td>40.077</td>\n",
       "      <td>0.180</td>\n",
       "    </tr>\n",
       "    <tr>\n",
       "      <th>50</th>\n",
       "      <td>sr_infantry_tier_2_level</td>\n",
       "      <td>6.236</td>\n",
       "      <td>36.893</td>\n",
       "      <td>0.024</td>\n",
       "    </tr>\n",
       "    <tr>\n",
       "      <th>51</th>\n",
       "      <td>sr_cavalry_tier_2_level</td>\n",
       "      <td>6.372</td>\n",
       "      <td>38.602</td>\n",
       "      <td>0.023</td>\n",
       "    </tr>\n",
       "    <tr>\n",
       "      <th>43</th>\n",
       "      <td>bd_hall_of_war_level</td>\n",
       "      <td>6.427</td>\n",
       "      <td>64.375</td>\n",
       "      <td>0.102</td>\n",
       "    </tr>\n",
       "    <tr>\n",
       "      <th>70</th>\n",
       "      <td>sr_construction_speed_level</td>\n",
       "      <td>6.780</td>\n",
       "      <td>53.866</td>\n",
       "      <td>0.122</td>\n",
       "    </tr>\n",
       "    <tr>\n",
       "      <th>52</th>\n",
       "      <td>sr_shaman_tier_2_level</td>\n",
       "      <td>6.914</td>\n",
       "      <td>45.804</td>\n",
       "      <td>0.020</td>\n",
       "    </tr>\n",
       "    <tr>\n",
       "      <th>87</th>\n",
       "      <td>sr_gathering_hunter_buff_level</td>\n",
       "      <td>9.219</td>\n",
       "      <td>101.032</td>\n",
       "      <td>0.034</td>\n",
       "    </tr>\n",
       "    <tr>\n",
       "      <th>86</th>\n",
       "      <td>sr_healing_space_level</td>\n",
       "      <td>10.935</td>\n",
       "      <td>153.092</td>\n",
       "      <td>0.029</td>\n",
       "    </tr>\n",
       "    <tr>\n",
       "      <th>76</th>\n",
       "      <td>sr_rss_d_prod_level</td>\n",
       "      <td>11.180</td>\n",
       "      <td>163.219</td>\n",
       "      <td>0.042</td>\n",
       "    </tr>\n",
       "    <tr>\n",
       "      <th>71</th>\n",
       "      <td>sr_hide_storage_level</td>\n",
       "      <td>11.338</td>\n",
       "      <td>173.489</td>\n",
       "      <td>0.035</td>\n",
       "    </tr>\n",
       "    <tr>\n",
       "      <th>73</th>\n",
       "      <td>sr_rss_a_prod_levell</td>\n",
       "      <td>11.439</td>\n",
       "      <td>162.607</td>\n",
       "      <td>0.035</td>\n",
       "    </tr>\n",
       "    <tr>\n",
       "      <th>88</th>\n",
       "      <td>sr_healing_speed_level</td>\n",
       "      <td>11.462</td>\n",
       "      <td>157.764</td>\n",
       "      <td>0.022</td>\n",
       "    </tr>\n",
       "    <tr>\n",
       "      <th>72</th>\n",
       "      <td>sr_troop_consumption_level</td>\n",
       "      <td>12.375</td>\n",
       "      <td>204.846</td>\n",
       "      <td>0.033</td>\n",
       "    </tr>\n",
       "    <tr>\n",
       "      <th>81</th>\n",
       "      <td>sr_troop_load_level</td>\n",
       "      <td>13.202</td>\n",
       "      <td>198.280</td>\n",
       "      <td>0.029</td>\n",
       "    </tr>\n",
       "    <tr>\n",
       "      <th>77</th>\n",
       "      <td>sr_rss_a_gather_level</td>\n",
       "      <td>15.330</td>\n",
       "      <td>295.240</td>\n",
       "      <td>0.022</td>\n",
       "    </tr>\n",
       "    <tr>\n",
       "      <th>53</th>\n",
       "      <td>sr_infantry_atk_level</td>\n",
       "      <td>15.486</td>\n",
       "      <td>312.204</td>\n",
       "      <td>0.024</td>\n",
       "    </tr>\n",
       "    <tr>\n",
       "      <th>80</th>\n",
       "      <td>sr_rss_d_gather_level</td>\n",
       "      <td>15.750</td>\n",
       "      <td>330.005</td>\n",
       "      <td>0.018</td>\n",
       "    </tr>\n",
       "    <tr>\n",
       "      <th>54</th>\n",
       "      <td>sr_cavalry_atk_level</td>\n",
       "      <td>16.032</td>\n",
       "      <td>333.790</td>\n",
       "      <td>0.022</td>\n",
       "    </tr>\n",
       "    <tr>\n",
       "      <th>55</th>\n",
       "      <td>sr_shaman_atk_level</td>\n",
       "      <td>17.736</td>\n",
       "      <td>407.577</td>\n",
       "      <td>0.019</td>\n",
       "    </tr>\n",
       "    <tr>\n",
       "      <th>83</th>\n",
       "      <td>sr_rss_e_prod_level</td>\n",
       "      <td>23.047</td>\n",
       "      <td>645.105</td>\n",
       "      <td>0.008</td>\n",
       "    </tr>\n",
       "    <tr>\n",
       "      <th>30</th>\n",
       "      <td>treatment_acceleraion_add_value</td>\n",
       "      <td>26.467</td>\n",
       "      <td>3883.361</td>\n",
       "      <td>10.416</td>\n",
       "    </tr>\n",
       "    <tr>\n",
       "      <th>89</th>\n",
       "      <td>sr_outpost_tier_3_level</td>\n",
       "      <td>33.686</td>\n",
       "      <td>1132.749</td>\n",
       "      <td>0.001</td>\n",
       "    </tr>\n",
       "    <tr>\n",
       "      <th>13</th>\n",
       "      <td>cavalry_reduce_value</td>\n",
       "      <td>37.613</td>\n",
       "      <td>4799.376</td>\n",
       "      <td>178.006</td>\n",
       "    </tr>\n",
       "    <tr>\n",
       "      <th>74</th>\n",
       "      <td>sr_rss_b_prod_level</td>\n",
       "      <td>38.649</td>\n",
       "      <td>1881.487</td>\n",
       "      <td>0.003</td>\n",
       "    </tr>\n",
       "    <tr>\n",
       "      <th>82</th>\n",
       "      <td>sr_rss_e_gather_level</td>\n",
       "      <td>48.295</td>\n",
       "      <td>3245.438</td>\n",
       "      <td>0.002</td>\n",
       "    </tr>\n",
       "    <tr>\n",
       "      <th>78</th>\n",
       "      <td>sr_rss_b_gather_level</td>\n",
       "      <td>49.888</td>\n",
       "      <td>3234.002</td>\n",
       "      <td>0.002</td>\n",
       "    </tr>\n",
       "    <tr>\n",
       "      <th>12</th>\n",
       "      <td>cavalry_add_value</td>\n",
       "      <td>52.394</td>\n",
       "      <td>6653.517</td>\n",
       "      <td>128.264</td>\n",
       "    </tr>\n",
       "    <tr>\n",
       "      <th>18</th>\n",
       "      <td>wound_cavalry_add_value</td>\n",
       "      <td>58.235</td>\n",
       "      <td>10995.135</td>\n",
       "      <td>116.503</td>\n",
       "    </tr>\n",
       "    <tr>\n",
       "      <th>56</th>\n",
       "      <td>sr_infantry_tier_3_level</td>\n",
       "      <td>60.287</td>\n",
       "      <td>3632.539</td>\n",
       "      <td>0.000</td>\n",
       "    </tr>\n",
       "    <tr>\n",
       "      <th>57</th>\n",
       "      <td>sr_cavalry_tier_3_level</td>\n",
       "      <td>61.883</td>\n",
       "      <td>3827.516</td>\n",
       "      <td>0.000</td>\n",
       "    </tr>\n",
       "    <tr>\n",
       "      <th>58</th>\n",
       "      <td>sr_shaman_tier_3_level</td>\n",
       "      <td>65.373</td>\n",
       "      <td>4271.658</td>\n",
       "      <td>0.000</td>\n",
       "    </tr>\n",
       "    <tr>\n",
       "      <th>19</th>\n",
       "      <td>wound_cavalry_reduce_value</td>\n",
       "      <td>67.356</td>\n",
       "      <td>13844.793</td>\n",
       "      <td>84.346</td>\n",
       "    </tr>\n",
       "    <tr>\n",
       "      <th>25</th>\n",
       "      <td>building_acceleration_reduce_value</td>\n",
       "      <td>73.617</td>\n",
       "      <td>9912.930</td>\n",
       "      <td>142.776</td>\n",
       "    </tr>\n",
       "    <tr>\n",
       "      <th>24</th>\n",
       "      <td>building_acceleration_add_value</td>\n",
       "      <td>75.562</td>\n",
       "      <td>11468.080</td>\n",
       "      <td>205.557</td>\n",
       "    </tr>\n",
       "    <tr>\n",
       "      <th>26</th>\n",
       "      <td>reaserch_acceleration_add_value</td>\n",
       "      <td>75.606</td>\n",
       "      <td>10038.624</td>\n",
       "      <td>132.671</td>\n",
       "    </tr>\n",
       "    <tr>\n",
       "      <th>22</th>\n",
       "      <td>general_acceleration_add_value</td>\n",
       "      <td>76.190</td>\n",
       "      <td>10461.629</td>\n",
       "      <td>282.545</td>\n",
       "    </tr>\n",
       "    <tr>\n",
       "      <th>23</th>\n",
       "      <td>general_acceleration_reduce_value</td>\n",
       "      <td>78.756</td>\n",
       "      <td>10571.988</td>\n",
       "      <td>192.031</td>\n",
       "    </tr>\n",
       "    <tr>\n",
       "      <th>1</th>\n",
       "      <td>wood_reduce_value</td>\n",
       "      <td>86.310</td>\n",
       "      <td>11367.448</td>\n",
       "      <td>369843.252</td>\n",
       "    </tr>\n",
       "    <tr>\n",
       "      <th>27</th>\n",
       "      <td>reaserch_acceleration_reduce_value</td>\n",
       "      <td>86.781</td>\n",
       "      <td>12166.169</td>\n",
       "      <td>73.653</td>\n",
       "    </tr>\n",
       "    <tr>\n",
       "      <th>7</th>\n",
       "      <td>meat_reduce_value</td>\n",
       "      <td>89.403</td>\n",
       "      <td>13600.967</td>\n",
       "      <td>354810.206</td>\n",
       "    </tr>\n",
       "    <tr>\n",
       "      <th>8</th>\n",
       "      <td>magic_add_value</td>\n",
       "      <td>97.762</td>\n",
       "      <td>14958.235</td>\n",
       "      <td>75389.535</td>\n",
       "    </tr>\n",
       "    <tr>\n",
       "      <th>75</th>\n",
       "      <td>sr_rss_c_prod_level</td>\n",
       "      <td>98.607</td>\n",
       "      <td>14098.969</td>\n",
       "      <td>0.001</td>\n",
       "    </tr>\n",
       "    <tr>\n",
       "      <th>28</th>\n",
       "      <td>training_acceleration_add_value</td>\n",
       "      <td>99.010</td>\n",
       "      <td>17738.981</td>\n",
       "      <td>210.808</td>\n",
       "    </tr>\n",
       "    <tr>\n",
       "      <th>0</th>\n",
       "      <td>wood_add_value</td>\n",
       "      <td>100.635</td>\n",
       "      <td>15449.582</td>\n",
       "      <td>454306.859</td>\n",
       "    </tr>\n",
       "    <tr>\n",
       "      <th>79</th>\n",
       "      <td>sr_rss_c_gather_level</td>\n",
       "      <td>103.602</td>\n",
       "      <td>15170.809</td>\n",
       "      <td>0.000</td>\n",
       "    </tr>\n",
       "    <tr>\n",
       "      <th>3</th>\n",
       "      <td>stone_reduce_value</td>\n",
       "      <td>105.043</td>\n",
       "      <td>15515.988</td>\n",
       "      <td>137607.363</td>\n",
       "    </tr>\n",
       "    <tr>\n",
       "      <th>29</th>\n",
       "      <td>training_acceleration_reduce_value</td>\n",
       "      <td>105.763</td>\n",
       "      <td>18411.777</td>\n",
       "      <td>65.022</td>\n",
       "    </tr>\n",
       "    <tr>\n",
       "      <th>6</th>\n",
       "      <td>meat_add_value</td>\n",
       "      <td>106.645</td>\n",
       "      <td>17907.029</td>\n",
       "      <td>585515.505</td>\n",
       "    </tr>\n",
       "    <tr>\n",
       "      <th>91</th>\n",
       "      <td>sr_pvp_march_speed_level</td>\n",
       "      <td>109.113</td>\n",
       "      <td>14509.348</td>\n",
       "      <td>0.001</td>\n",
       "    </tr>\n",
       "    <tr>\n",
       "      <th>9</th>\n",
       "      <td>magic_reduce_value</td>\n",
       "      <td>109.334</td>\n",
       "      <td>18322.774</td>\n",
       "      <td>47253.994</td>\n",
       "    </tr>\n",
       "    <tr>\n",
       "      <th>92</th>\n",
       "      <td>sr_gathering_march_speed_level</td>\n",
       "      <td>111.196</td>\n",
       "      <td>14976.855</td>\n",
       "      <td>0.001</td>\n",
       "    </tr>\n",
       "    <tr>\n",
       "      <th>4</th>\n",
       "      <td>ivory_add_value</td>\n",
       "      <td>112.636</td>\n",
       "      <td>17682.030</td>\n",
       "      <td>80756.230</td>\n",
       "    </tr>\n",
       "    <tr>\n",
       "      <th>5</th>\n",
       "      <td>ivory_reduce_value</td>\n",
       "      <td>113.405</td>\n",
       "      <td>16974.594</td>\n",
       "      <td>36131.699</td>\n",
       "    </tr>\n",
       "    <tr>\n",
       "      <th>2</th>\n",
       "      <td>stone_add_value</td>\n",
       "      <td>113.794</td>\n",
       "      <td>18489.107</td>\n",
       "      <td>189778.774</td>\n",
       "    </tr>\n",
       "    <tr>\n",
       "      <th>59</th>\n",
       "      <td>sr_troop_defense_level</td>\n",
       "      <td>122.425</td>\n",
       "      <td>16602.243</td>\n",
       "      <td>0.001</td>\n",
       "    </tr>\n",
       "    <tr>\n",
       "      <th>63</th>\n",
       "      <td>sr_infantry_hp_level</td>\n",
       "      <td>124.296</td>\n",
       "      <td>16848.445</td>\n",
       "      <td>0.001</td>\n",
       "    </tr>\n",
       "    <tr>\n",
       "      <th>64</th>\n",
       "      <td>sr_cavalry_hp_level</td>\n",
       "      <td>134.002</td>\n",
       "      <td>19641.283</td>\n",
       "      <td>0.001</td>\n",
       "    </tr>\n",
       "    <tr>\n",
       "      <th>65</th>\n",
       "      <td>sr_shaman_hp_level</td>\n",
       "      <td>137.095</td>\n",
       "      <td>20351.197</td>\n",
       "      <td>0.001</td>\n",
       "    </tr>\n",
       "    <tr>\n",
       "      <th>90</th>\n",
       "      <td>sr_alliance_march_speed_level</td>\n",
       "      <td>138.627</td>\n",
       "      <td>23213.480</td>\n",
       "      <td>0.000</td>\n",
       "    </tr>\n",
       "    <tr>\n",
       "      <th>11</th>\n",
       "      <td>infantry_reduce_value</td>\n",
       "      <td>142.013</td>\n",
       "      <td>59680.484</td>\n",
       "      <td>226.782</td>\n",
       "    </tr>\n",
       "    <tr>\n",
       "      <th>10</th>\n",
       "      <td>infantry_add_value</td>\n",
       "      <td>150.291</td>\n",
       "      <td>56627.286</td>\n",
       "      <td>143.610</td>\n",
       "    </tr>\n",
       "    <tr>\n",
       "      <th>60</th>\n",
       "      <td>sr_infantry_def_level</td>\n",
       "      <td>158.768</td>\n",
       "      <td>27877.942</td>\n",
       "      <td>0.000</td>\n",
       "    </tr>\n",
       "    <tr>\n",
       "      <th>62</th>\n",
       "      <td>sr_shaman_def_level</td>\n",
       "      <td>161.270</td>\n",
       "      <td>28593.152</td>\n",
       "      <td>0.000</td>\n",
       "    </tr>\n",
       "    <tr>\n",
       "      <th>61</th>\n",
       "      <td>sr_cavalry_def_level</td>\n",
       "      <td>161.650</td>\n",
       "      <td>28807.251</td>\n",
       "      <td>0.000</td>\n",
       "    </tr>\n",
       "    <tr>\n",
       "      <th>16</th>\n",
       "      <td>wound_infantry_add_value</td>\n",
       "      <td>201.952</td>\n",
       "      <td>96877.947</td>\n",
       "      <td>135.304</td>\n",
       "    </tr>\n",
       "    <tr>\n",
       "      <th>17</th>\n",
       "      <td>wound_infantry_reduce_value</td>\n",
       "      <td>223.474</td>\n",
       "      <td>111369.002</td>\n",
       "      <td>91.984</td>\n",
       "    </tr>\n",
       "    <tr>\n",
       "      <th>67</th>\n",
       "      <td>sr_cavalry_tier_4_level</td>\n",
       "      <td>225.481</td>\n",
       "      <td>50839.711</td>\n",
       "      <td>0.000</td>\n",
       "    </tr>\n",
       "    <tr>\n",
       "      <th>66</th>\n",
       "      <td>sr_infantry_tier_4_level</td>\n",
       "      <td>239.159</td>\n",
       "      <td>57195.300</td>\n",
       "      <td>0.000</td>\n",
       "    </tr>\n",
       "    <tr>\n",
       "      <th>68</th>\n",
       "      <td>sr_shaman_tier_4_level</td>\n",
       "      <td>259.406</td>\n",
       "      <td>67289.471</td>\n",
       "      <td>0.000</td>\n",
       "    </tr>\n",
       "    <tr>\n",
       "      <th>93</th>\n",
       "      <td>sr_outpost_tier_4_level</td>\n",
       "      <td>419.521</td>\n",
       "      <td>175995.923</td>\n",
       "      <td>0.000</td>\n",
       "    </tr>\n",
       "    <tr>\n",
       "      <th>31</th>\n",
       "      <td>treatment_acceleration_reduce_value</td>\n",
       "      <td>551.767</td>\n",
       "      <td>567898.986</td>\n",
       "      <td>0.370</td>\n",
       "    </tr>\n",
       "    <tr>\n",
       "      <th>69</th>\n",
       "      <td>sr_troop_attack_level</td>\n",
       "      <td>720.086</td>\n",
       "      <td>552951.148</td>\n",
       "      <td>0.000</td>\n",
       "    </tr>\n",
       "    <tr>\n",
       "      <th>95</th>\n",
       "      <td>sr_march_size_level</td>\n",
       "      <td>750.277</td>\n",
       "      <td>623089.356</td>\n",
       "      <td>0.000</td>\n",
       "    </tr>\n",
       "    <tr>\n",
       "      <th>96</th>\n",
       "      <td>sr_rss_help_bonus_level</td>\n",
       "      <td>1130.278</td>\n",
       "      <td>1333821.383</td>\n",
       "      <td>0.000</td>\n",
       "    </tr>\n",
       "    <tr>\n",
       "      <th>94</th>\n",
       "      <td>sr_guest_troop_capacity_level</td>\n",
       "      <td>1202.368</td>\n",
       "      <td>1569458.101</td>\n",
       "      <td>0.000</td>\n",
       "    </tr>\n",
       "    <tr>\n",
       "      <th>14</th>\n",
       "      <td>shaman_add_value</td>\n",
       "      <td>1393.339</td>\n",
       "      <td>2048745.112</td>\n",
       "      <td>119.543</td>\n",
       "    </tr>\n",
       "    <tr>\n",
       "      <th>15</th>\n",
       "      <td>shaman_reduce_value</td>\n",
       "      <td>1394.118</td>\n",
       "      <td>2050265.411</td>\n",
       "      <td>156.853</td>\n",
       "    </tr>\n",
       "    <tr>\n",
       "      <th>20</th>\n",
       "      <td>wound_shaman_add_value</td>\n",
       "      <td>1439.747</td>\n",
       "      <td>2141351.573</td>\n",
       "      <td>110.431</td>\n",
       "    </tr>\n",
       "    <tr>\n",
       "      <th>21</th>\n",
       "      <td>wound_shaman_reduce_value</td>\n",
       "      <td>1446.870</td>\n",
       "      <td>2155525.025</td>\n",
       "      <td>84.763</td>\n",
       "    </tr>\n",
       "  </tbody>\n",
       "</table>\n",
       "</div>"
      ],
      "text/plain": [
       "                            FeatureName     Skew        Kurt       Mean\n",
       "34                  bd_stronghold_level    1.229       0.970      2.098\n",
       "35              bd_outpost_portal_level    1.383       1.477      1.764\n",
       "32                bd_training_hut_level    1.878       3.314      1.306\n",
       "42             bd_magic_coin_tree_level    2.050       3.388      1.146\n",
       "36                     bd_barrack_level    2.114       4.327      1.284\n",
       "33               bd_healing_lodge_level    2.183       4.567      1.027\n",
       "41                  bd_watchtower_level    2.409       5.619      0.913\n",
       "37              bd_healing_spring_level    2.429       5.627      0.924\n",
       "40                   bd_warehouse_level    2.472       5.525      0.934\n",
       "38                      bd_dolmen_level    2.495       5.893      0.969\n",
       "44                      bd_market_level    2.727       7.144      0.772\n",
       "48                       sr_scout_level    2.923      10.701      0.331\n",
       "49              sr_training_speed_level    3.815      14.593      0.299\n",
       "39                bd_guest_cavern_level    4.015      15.755      0.441\n",
       "85              sr_outpost_tier_2_level    4.426      17.592      0.044\n",
       "47                    bd_hero_pve_level    5.017      26.012      0.292\n",
       "45                  bd_hero_gacha_level    5.722      35.427      0.201\n",
       "84          sr_outpost_durability_level    5.959      43.095      0.110\n",
       "46             bd_hero_strengthen_level    6.024      40.077      0.180\n",
       "50             sr_infantry_tier_2_level    6.236      36.893      0.024\n",
       "51              sr_cavalry_tier_2_level    6.372      38.602      0.023\n",
       "43                 bd_hall_of_war_level    6.427      64.375      0.102\n",
       "70          sr_construction_speed_level    6.780      53.866      0.122\n",
       "52               sr_shaman_tier_2_level    6.914      45.804      0.020\n",
       "87       sr_gathering_hunter_buff_level    9.219     101.032      0.034\n",
       "86               sr_healing_space_level   10.935     153.092      0.029\n",
       "76                  sr_rss_d_prod_level   11.180     163.219      0.042\n",
       "71                sr_hide_storage_level   11.338     173.489      0.035\n",
       "73                 sr_rss_a_prod_levell   11.439     162.607      0.035\n",
       "88               sr_healing_speed_level   11.462     157.764      0.022\n",
       "72           sr_troop_consumption_level   12.375     204.846      0.033\n",
       "81                  sr_troop_load_level   13.202     198.280      0.029\n",
       "77                sr_rss_a_gather_level   15.330     295.240      0.022\n",
       "53                sr_infantry_atk_level   15.486     312.204      0.024\n",
       "80                sr_rss_d_gather_level   15.750     330.005      0.018\n",
       "54                 sr_cavalry_atk_level   16.032     333.790      0.022\n",
       "55                  sr_shaman_atk_level   17.736     407.577      0.019\n",
       "83                  sr_rss_e_prod_level   23.047     645.105      0.008\n",
       "30      treatment_acceleraion_add_value   26.467    3883.361     10.416\n",
       "89              sr_outpost_tier_3_level   33.686    1132.749      0.001\n",
       "13                 cavalry_reduce_value   37.613    4799.376    178.006\n",
       "74                  sr_rss_b_prod_level   38.649    1881.487      0.003\n",
       "82                sr_rss_e_gather_level   48.295    3245.438      0.002\n",
       "78                sr_rss_b_gather_level   49.888    3234.002      0.002\n",
       "12                    cavalry_add_value   52.394    6653.517    128.264\n",
       "18              wound_cavalry_add_value   58.235   10995.135    116.503\n",
       "56             sr_infantry_tier_3_level   60.287    3632.539      0.000\n",
       "57              sr_cavalry_tier_3_level   61.883    3827.516      0.000\n",
       "58               sr_shaman_tier_3_level   65.373    4271.658      0.000\n",
       "19           wound_cavalry_reduce_value   67.356   13844.793     84.346\n",
       "25   building_acceleration_reduce_value   73.617    9912.930    142.776\n",
       "24      building_acceleration_add_value   75.562   11468.080    205.557\n",
       "26      reaserch_acceleration_add_value   75.606   10038.624    132.671\n",
       "22       general_acceleration_add_value   76.190   10461.629    282.545\n",
       "23    general_acceleration_reduce_value   78.756   10571.988    192.031\n",
       "1                     wood_reduce_value   86.310   11367.448 369843.252\n",
       "27   reaserch_acceleration_reduce_value   86.781   12166.169     73.653\n",
       "7                     meat_reduce_value   89.403   13600.967 354810.206\n",
       "8                       magic_add_value   97.762   14958.235  75389.535\n",
       "75                  sr_rss_c_prod_level   98.607   14098.969      0.001\n",
       "28      training_acceleration_add_value   99.010   17738.981    210.808\n",
       "0                        wood_add_value  100.635   15449.582 454306.859\n",
       "79                sr_rss_c_gather_level  103.602   15170.809      0.000\n",
       "3                    stone_reduce_value  105.043   15515.988 137607.363\n",
       "29   training_acceleration_reduce_value  105.763   18411.777     65.022\n",
       "6                        meat_add_value  106.645   17907.029 585515.505\n",
       "91             sr_pvp_march_speed_level  109.113   14509.348      0.001\n",
       "9                    magic_reduce_value  109.334   18322.774  47253.994\n",
       "92       sr_gathering_march_speed_level  111.196   14976.855      0.001\n",
       "4                       ivory_add_value  112.636   17682.030  80756.230\n",
       "5                    ivory_reduce_value  113.405   16974.594  36131.699\n",
       "2                       stone_add_value  113.794   18489.107 189778.774\n",
       "59               sr_troop_defense_level  122.425   16602.243      0.001\n",
       "63                 sr_infantry_hp_level  124.296   16848.445      0.001\n",
       "64                  sr_cavalry_hp_level  134.002   19641.283      0.001\n",
       "65                   sr_shaman_hp_level  137.095   20351.197      0.001\n",
       "90        sr_alliance_march_speed_level  138.627   23213.480      0.000\n",
       "11                infantry_reduce_value  142.013   59680.484    226.782\n",
       "10                   infantry_add_value  150.291   56627.286    143.610\n",
       "60                sr_infantry_def_level  158.768   27877.942      0.000\n",
       "62                  sr_shaman_def_level  161.270   28593.152      0.000\n",
       "61                 sr_cavalry_def_level  161.650   28807.251      0.000\n",
       "16             wound_infantry_add_value  201.952   96877.947    135.304\n",
       "17          wound_infantry_reduce_value  223.474  111369.002     91.984\n",
       "67              sr_cavalry_tier_4_level  225.481   50839.711      0.000\n",
       "66             sr_infantry_tier_4_level  239.159   57195.300      0.000\n",
       "68               sr_shaman_tier_4_level  259.406   67289.471      0.000\n",
       "93              sr_outpost_tier_4_level  419.521  175995.923      0.000\n",
       "31  treatment_acceleration_reduce_value  551.767  567898.986      0.370\n",
       "69                sr_troop_attack_level  720.086  552951.148      0.000\n",
       "95                  sr_march_size_level  750.277  623089.356      0.000\n",
       "96              sr_rss_help_bonus_level 1130.278 1333821.383      0.000\n",
       "94        sr_guest_troop_capacity_level 1202.368 1569458.101      0.000\n",
       "14                     shaman_add_value 1393.339 2048745.112    119.543\n",
       "15                  shaman_reduce_value 1394.118 2050265.411    156.853\n",
       "20               wound_shaman_add_value 1439.747 2141351.573    110.431\n",
       "21            wound_shaman_reduce_value 1446.870 2155525.025     84.763"
      ]
     },
     "execution_count": 54,
     "metadata": {},
     "output_type": "execute_result"
    }
   ],
   "source": [
    "pd.set_option(\"display.max_rows\",120)\n",
    "sak.sort_values(\"Skew\")"
   ]
  },
  {
   "cell_type": "code",
   "execution_count": 55,
   "id": "circular-swedish",
   "metadata": {},
   "outputs": [
    {
     "data": {
      "image/png": "[encoded data removed]",
      "text/plain": [
       "<Figure size 300x600 with 1 Axes>"
      ]
     },
     "metadata": {
      "needs_background": "light"
     },
     "output_type": "display_data"
    }
   ],
   "source": [
    "plt.figure(figsize=(3,6),dpi=100)\n",
    "plt.scatter(\"Skew\",\"Kurt\", data = sak\n",
    "           ,s = 50\n",
    "           ,c = \"red\"\n",
    "           ,edgecolors = \"k\"\n",
    "           ,linewidth = 0.3);\n",
    "plt.xlim(0, 200)\n",
    "plt.ylim(0, 30000)\n",
    "plt.show()"
   ]
  },
  {
   "cell_type": "markdown",
   "id": "talented-fault",
   "metadata": {},
   "source": [
    "Kurtosis and skewness seem to show a highly consistent trend - when skewness is large, kurtosis also tends to be large. Therefore, we can only consider the skewness and mean, and no longer consider the case of kurtosis."
   ]
  },
  {
   "cell_type": "code",
   "execution_count": 58,
   "id": "internal-franchise",
   "metadata": {},
   "outputs": [
    {
     "data": {
      "image/png": "[encoded data removed]",
      "text/plain": [
       "<Figure size 1500x900 with 3 Axes>"
      ]
     },
     "metadata": {
      "needs_background": "light"
     },
     "output_type": "display_data"
    }
   ],
   "source": [
    "plt.figure(figsize=(15,9),dpi=100)\n",
    "\n",
    "\n",
    "# Upper\n",
    "plt.subplot(311)\n",
    "plt.scatter(\"Skew\",\"Mean\", data = sak\n",
    "           ,s = 45\n",
    "           ,c = \"red\"\n",
    "           ,edgecolors = \"k\"\n",
    "           ,linewidth = 0.3);\n",
    "plt.xlim(-15, 1500) \n",
    "plt.ylim(20000, 600000)\n",
    "plt.vlines(300, 20000, 600000,colors=\"red\",linestyles=\"dotted\")\n",
    "ax = plt.gca()\n",
    "ax.spines['top'].set_visible(False)\n",
    "ax.spines['right'].set_visible(False)\n",
    "ax.spines['bottom'].set_visible(False)\n",
    "plt.yticks(fontsize=10)\n",
    "plt.text(130,450000,s=\"Type A\")\n",
    "plt.text(130,400000,s=\"High mean, Low skewness\")\n",
    "plt.text(130,350000,s=\"Easy access to resources,\")\n",
    "plt.text(130,300000,s=\"easy to reach\")\n",
    "plt.xticks([])\n",
    "\n",
    "# Middle\n",
    "plt.subplot(312)\n",
    "plt.scatter(\"Skew\",\"Mean\", data = sak\n",
    "           ,s = 45\n",
    "           ,c = \"red\"\n",
    "           ,edgecolors = \"k\"\n",
    "           ,linewidth = 0.3);\n",
    "plt.xlim(-15, 1500)\n",
    "plt.ylim(40, 300)\n",
    "plt.vlines(300, 50, 300,colors=\"red\",linestyles=\"dotted\")\n",
    "plt.hlines(40,-10, 1500,colors=\"red\",linestyles=\"dotted\")\n",
    "ax = plt.gca()\n",
    "ax.spines['top'].set_visible(False)\n",
    "ax.spines['right'].set_visible(False)\n",
    "ax.spines['bottom'].set_visible(False)\n",
    "plt.yticks(fontsize=10)\n",
    "plt.ylabel(\"Mean of Resources\", fontsize=15)\n",
    "plt.text(1200,200,s=\"Type B\")\n",
    "plt.text(1200,175,s=\"High mean, High skewness\")\n",
    "plt.text(1200,150,s=\"A small number of players\")\n",
    "plt.text(1200,125,s=\"occupy huge resources\")\n",
    "plt.xticks([])\n",
    "\n",
    "# Bottom\n",
    "plt.subplot(313)\n",
    "plt.scatter(\"Skew\",\"Mean\", data = sak\n",
    "           ,s = 45\n",
    "           ,c = \"red\"\n",
    "           ,edgecolors = \"k\"\n",
    "           ,linewidth = 0.3);\n",
    "plt.xlim(-15, 1500)\n",
    "plt.ylim(-0.15, 3)\n",
    "plt.vlines(300, -0.1, 5,colors=\"red\",linestyles=\"dotted\")\n",
    "ax = plt.gca()\n",
    "ax.spines['top'].set_visible(False)\n",
    "ax.spines['right'].set_visible(False)\n",
    "plt.xlabel(\"Skew\", fontsize=15)\n",
    "plt.yticks(fontsize=10)\n",
    "plt.text(70,2.8,s=\"Type C\")\n",
    "plt.text(70,2.5,s=\"Low mean, Low skewness\")\n",
    "plt.text(70,2.2,s=\"Nearly few players have access to the resource\")\n",
    "plt.text(70,1.9,s=\"and it requires time to accumulate\")\n",
    "plt.text(640,1.8,s=\"Type D\")\n",
    "plt.text(640,1.5,s=\"Low mean, High skewness\")\n",
    "plt.text(640,1.2,s=\"Only a small number of players have access to the resource\")\n",
    "plt.text(640,0.9,s=\"and resources are scarce\")\n",
    "plt.subplots_adjust(hspace=0.05)\n",
    "plt.show()\n"
   ]
  },
  {
   "cell_type": "code",
   "execution_count": 60,
   "id": "broke-identification",
   "metadata": {
    "scrolled": true
   },
   "outputs": [
    {
     "data": {
      "text/html": [
       "<div>\n",
       "<style scoped>\n",
       "    .dataframe tbody tr th:only-of-type {\n",
       "        vertical-align: middle;\n",
       "    }\n",
       "\n",
       "    .dataframe tbody tr th {\n",
       "        vertical-align: top;\n",
       "    }\n",
       "\n",
       "    .dataframe thead th {\n",
       "        text-align: right;\n",
       "    }\n",
       "</style>\n",
       "<table border=\"1\" class=\"dataframe\">\n",
       "  <thead>\n",
       "    <tr style=\"text-align: right;\">\n",
       "      <th></th>\n",
       "      <th>FeatureName</th>\n",
       "      <th>Skew</th>\n",
       "      <th>Kurt</th>\n",
       "      <th>Mean</th>\n",
       "    </tr>\n",
       "  </thead>\n",
       "  <tbody>\n",
       "    <tr>\n",
       "      <th>0</th>\n",
       "      <td>wood_add_value</td>\n",
       "      <td>100.635</td>\n",
       "      <td>15449.582</td>\n",
       "      <td>454306.859</td>\n",
       "    </tr>\n",
       "    <tr>\n",
       "      <th>1</th>\n",
       "      <td>wood_reduce_value</td>\n",
       "      <td>86.310</td>\n",
       "      <td>11367.448</td>\n",
       "      <td>369843.252</td>\n",
       "    </tr>\n",
       "    <tr>\n",
       "      <th>2</th>\n",
       "      <td>stone_add_value</td>\n",
       "      <td>113.794</td>\n",
       "      <td>18489.107</td>\n",
       "      <td>189778.774</td>\n",
       "    </tr>\n",
       "    <tr>\n",
       "      <th>3</th>\n",
       "      <td>stone_reduce_value</td>\n",
       "      <td>105.043</td>\n",
       "      <td>15515.988</td>\n",
       "      <td>137607.363</td>\n",
       "    </tr>\n",
       "    <tr>\n",
       "      <th>4</th>\n",
       "      <td>ivory_add_value</td>\n",
       "      <td>112.636</td>\n",
       "      <td>17682.030</td>\n",
       "      <td>80756.230</td>\n",
       "    </tr>\n",
       "    <tr>\n",
       "      <th>5</th>\n",
       "      <td>ivory_reduce_value</td>\n",
       "      <td>113.405</td>\n",
       "      <td>16974.594</td>\n",
       "      <td>36131.699</td>\n",
       "    </tr>\n",
       "    <tr>\n",
       "      <th>6</th>\n",
       "      <td>meat_add_value</td>\n",
       "      <td>106.645</td>\n",
       "      <td>17907.029</td>\n",
       "      <td>585515.505</td>\n",
       "    </tr>\n",
       "    <tr>\n",
       "      <th>7</th>\n",
       "      <td>meat_reduce_value</td>\n",
       "      <td>89.403</td>\n",
       "      <td>13600.967</td>\n",
       "      <td>354810.206</td>\n",
       "    </tr>\n",
       "    <tr>\n",
       "      <th>8</th>\n",
       "      <td>magic_add_value</td>\n",
       "      <td>97.762</td>\n",
       "      <td>14958.235</td>\n",
       "      <td>75389.535</td>\n",
       "    </tr>\n",
       "    <tr>\n",
       "      <th>9</th>\n",
       "      <td>magic_reduce_value</td>\n",
       "      <td>109.334</td>\n",
       "      <td>18322.774</td>\n",
       "      <td>47253.994</td>\n",
       "    </tr>\n",
       "    <tr>\n",
       "      <th>10</th>\n",
       "      <td>infantry_add_value</td>\n",
       "      <td>150.291</td>\n",
       "      <td>56627.286</td>\n",
       "      <td>143.610</td>\n",
       "    </tr>\n",
       "    <tr>\n",
       "      <th>11</th>\n",
       "      <td>infantry_reduce_value</td>\n",
       "      <td>142.013</td>\n",
       "      <td>59680.484</td>\n",
       "      <td>226.782</td>\n",
       "    </tr>\n",
       "    <tr>\n",
       "      <th>12</th>\n",
       "      <td>cavalry_add_value</td>\n",
       "      <td>52.394</td>\n",
       "      <td>6653.517</td>\n",
       "      <td>128.264</td>\n",
       "    </tr>\n",
       "    <tr>\n",
       "      <th>13</th>\n",
       "      <td>cavalry_reduce_value</td>\n",
       "      <td>37.613</td>\n",
       "      <td>4799.376</td>\n",
       "      <td>178.006</td>\n",
       "    </tr>\n",
       "    <tr>\n",
       "      <th>16</th>\n",
       "      <td>wound_infantry_add_value</td>\n",
       "      <td>201.952</td>\n",
       "      <td>96877.947</td>\n",
       "      <td>135.304</td>\n",
       "    </tr>\n",
       "    <tr>\n",
       "      <th>17</th>\n",
       "      <td>wound_infantry_reduce_value</td>\n",
       "      <td>223.474</td>\n",
       "      <td>111369.002</td>\n",
       "      <td>91.984</td>\n",
       "    </tr>\n",
       "    <tr>\n",
       "      <th>18</th>\n",
       "      <td>wound_cavalry_add_value</td>\n",
       "      <td>58.235</td>\n",
       "      <td>10995.135</td>\n",
       "      <td>116.503</td>\n",
       "    </tr>\n",
       "    <tr>\n",
       "      <th>19</th>\n",
       "      <td>wound_cavalry_reduce_value</td>\n",
       "      <td>67.356</td>\n",
       "      <td>13844.793</td>\n",
       "      <td>84.346</td>\n",
       "    </tr>\n",
       "    <tr>\n",
       "      <th>22</th>\n",
       "      <td>general_acceleration_add_value</td>\n",
       "      <td>76.190</td>\n",
       "      <td>10461.629</td>\n",
       "      <td>282.545</td>\n",
       "    </tr>\n",
       "    <tr>\n",
       "      <th>23</th>\n",
       "      <td>general_acceleration_reduce_value</td>\n",
       "      <td>78.756</td>\n",
       "      <td>10571.988</td>\n",
       "      <td>192.031</td>\n",
       "    </tr>\n",
       "    <tr>\n",
       "      <th>24</th>\n",
       "      <td>building_acceleration_add_value</td>\n",
       "      <td>75.562</td>\n",
       "      <td>11468.080</td>\n",
       "      <td>205.557</td>\n",
       "    </tr>\n",
       "    <tr>\n",
       "      <th>25</th>\n",
       "      <td>building_acceleration_reduce_value</td>\n",
       "      <td>73.617</td>\n",
       "      <td>9912.930</td>\n",
       "      <td>142.776</td>\n",
       "    </tr>\n",
       "    <tr>\n",
       "      <th>26</th>\n",
       "      <td>reaserch_acceleration_add_value</td>\n",
       "      <td>75.606</td>\n",
       "      <td>10038.624</td>\n",
       "      <td>132.671</td>\n",
       "    </tr>\n",
       "    <tr>\n",
       "      <th>27</th>\n",
       "      <td>reaserch_acceleration_reduce_value</td>\n",
       "      <td>86.781</td>\n",
       "      <td>12166.169</td>\n",
       "      <td>73.653</td>\n",
       "    </tr>\n",
       "    <tr>\n",
       "      <th>28</th>\n",
       "      <td>training_acceleration_add_value</td>\n",
       "      <td>99.010</td>\n",
       "      <td>17738.981</td>\n",
       "      <td>210.808</td>\n",
       "    </tr>\n",
       "    <tr>\n",
       "      <th>29</th>\n",
       "      <td>training_acceleration_reduce_value</td>\n",
       "      <td>105.763</td>\n",
       "      <td>18411.777</td>\n",
       "      <td>65.022</td>\n",
       "    </tr>\n",
       "    <tr>\n",
       "      <th>30</th>\n",
       "      <td>treatment_acceleraion_add_value</td>\n",
       "      <td>26.467</td>\n",
       "      <td>3883.361</td>\n",
       "      <td>10.416</td>\n",
       "    </tr>\n",
       "  </tbody>\n",
       "</table>\n",
       "</div>"
      ],
      "text/plain": [
       "                           FeatureName    Skew       Kurt       Mean\n",
       "0                       wood_add_value 100.635  15449.582 454306.859\n",
       "1                    wood_reduce_value  86.310  11367.448 369843.252\n",
       "2                      stone_add_value 113.794  18489.107 189778.774\n",
       "3                   stone_reduce_value 105.043  15515.988 137607.363\n",
       "4                      ivory_add_value 112.636  17682.030  80756.230\n",
       "5                   ivory_reduce_value 113.405  16974.594  36131.699\n",
       "6                       meat_add_value 106.645  17907.029 585515.505\n",
       "7                    meat_reduce_value  89.403  13600.967 354810.206\n",
       "8                      magic_add_value  97.762  14958.235  75389.535\n",
       "9                   magic_reduce_value 109.334  18322.774  47253.994\n",
       "10                  infantry_add_value 150.291  56627.286    143.610\n",
       "11               infantry_reduce_value 142.013  59680.484    226.782\n",
       "12                   cavalry_add_value  52.394   6653.517    128.264\n",
       "13                cavalry_reduce_value  37.613   4799.376    178.006\n",
       "16            wound_infantry_add_value 201.952  96877.947    135.304\n",
       "17         wound_infantry_reduce_value 223.474 111369.002     91.984\n",
       "18             wound_cavalry_add_value  58.235  10995.135    116.503\n",
       "19          wound_cavalry_reduce_value  67.356  13844.793     84.346\n",
       "22      general_acceleration_add_value  76.190  10461.629    282.545\n",
       "23   general_acceleration_reduce_value  78.756  10571.988    192.031\n",
       "24     building_acceleration_add_value  75.562  11468.080    205.557\n",
       "25  building_acceleration_reduce_value  73.617   9912.930    142.776\n",
       "26     reaserch_acceleration_add_value  75.606  10038.624    132.671\n",
       "27  reaserch_acceleration_reduce_value  86.781  12166.169     73.653\n",
       "28     training_acceleration_add_value  99.010  17738.981    210.808\n",
       "29  training_acceleration_reduce_value 105.763  18411.777     65.022\n",
       "30     treatment_acceleraion_add_value  26.467   3883.361     10.416"
      ]
     },
     "execution_count": 60,
     "metadata": {},
     "output_type": "execute_result"
    }
   ],
   "source": [
    "# Type A\n",
    "A = sak.loc[sak[\"Mean\"] > 3,:].loc[sak[\"Skew\"]<300,:]\n",
    "A"
   ]
  },
  {
   "cell_type": "code",
   "execution_count": 61,
   "id": "colored-checkout",
   "metadata": {},
   "outputs": [
    {
     "data": {
      "text/html": [
       "<div>\n",
       "<style scoped>\n",
       "    .dataframe tbody tr th:only-of-type {\n",
       "        vertical-align: middle;\n",
       "    }\n",
       "\n",
       "    .dataframe tbody tr th {\n",
       "        vertical-align: top;\n",
       "    }\n",
       "\n",
       "    .dataframe thead th {\n",
       "        text-align: right;\n",
       "    }\n",
       "</style>\n",
       "<table border=\"1\" class=\"dataframe\">\n",
       "  <thead>\n",
       "    <tr style=\"text-align: right;\">\n",
       "      <th></th>\n",
       "      <th>FeatureName</th>\n",
       "      <th>Skew</th>\n",
       "      <th>Kurt</th>\n",
       "      <th>Mean</th>\n",
       "    </tr>\n",
       "  </thead>\n",
       "  <tbody>\n",
       "    <tr>\n",
       "      <th>14</th>\n",
       "      <td>shaman_add_value</td>\n",
       "      <td>1393.339</td>\n",
       "      <td>2048745.112</td>\n",
       "      <td>119.543</td>\n",
       "    </tr>\n",
       "    <tr>\n",
       "      <th>15</th>\n",
       "      <td>shaman_reduce_value</td>\n",
       "      <td>1394.118</td>\n",
       "      <td>2050265.411</td>\n",
       "      <td>156.853</td>\n",
       "    </tr>\n",
       "    <tr>\n",
       "      <th>20</th>\n",
       "      <td>wound_shaman_add_value</td>\n",
       "      <td>1439.747</td>\n",
       "      <td>2141351.573</td>\n",
       "      <td>110.431</td>\n",
       "    </tr>\n",
       "    <tr>\n",
       "      <th>21</th>\n",
       "      <td>wound_shaman_reduce_value</td>\n",
       "      <td>1446.870</td>\n",
       "      <td>2155525.025</td>\n",
       "      <td>84.763</td>\n",
       "    </tr>\n",
       "  </tbody>\n",
       "</table>\n",
       "</div>"
      ],
      "text/plain": [
       "                  FeatureName     Skew        Kurt    Mean\n",
       "14           shaman_add_value 1393.339 2048745.112 119.543\n",
       "15        shaman_reduce_value 1394.118 2050265.411 156.853\n",
       "20     wound_shaman_add_value 1439.747 2141351.573 110.431\n",
       "21  wound_shaman_reduce_value 1446.870 2155525.025  84.763"
      ]
     },
     "execution_count": 61,
     "metadata": {},
     "output_type": "execute_result"
    }
   ],
   "source": [
    "# Type B\n",
    "B = sak.loc[sak[\"Mean\"] > 3,:].loc[sak[\"Skew\"]>300,:]\n",
    "B"
   ]
  },
  {
   "cell_type": "code",
   "execution_count": 62,
   "id": "limiting-definition",
   "metadata": {},
   "outputs": [
    {
     "data": {
      "text/plain": [
       "60"
      ]
     },
     "execution_count": 62,
     "metadata": {},
     "output_type": "execute_result"
    }
   ],
   "source": [
    "# Type C\n",
    "sak.loc[sak[\"Mean\"] < 3,:].loc[sak[\"Skew\"]<300,:].shape[0]"
   ]
  },
  {
   "cell_type": "code",
   "execution_count": 63,
   "id": "geological-tuesday",
   "metadata": {},
   "outputs": [
    {
     "data": {
      "text/plain": [
       "6"
      ]
     },
     "execution_count": 63,
     "metadata": {},
     "output_type": "execute_result"
    }
   ],
   "source": [
    "# Type D\n",
    "sak.loc[sak[\"Mean\"] < 3,:].loc[sak[\"Skew\"]>300,:].shape[0]"
   ]
  },
  {
   "cell_type": "markdown",
   "id": "extensive-lighting",
   "metadata": {},
   "source": [
    "According to the analysis's findings, the proportion of various resources is actually pretty reasonable. Assuming if a game exclusively wishes to service paying players, there will be a large number of type B resources, and the acquisition channels of a huge number of type A resources will also be reliant on payment, but this game's design is plainly not of that nature, which demonstrates that the game is still committed to providing a better experience for ordinary players.\n",
    "\n",
    "Therefore, the majority of players quit the game not because the beginner level is too difficult or the plot cannot be advanced. \n",
    "\n",
    "However, there is a significant disparity between the accessibility of various services. The basic resources can easily number in the millions or perhaps the hundreds of millions, leaving users with a severe lack of acquisition sense. From the standpoint of the distribution of type A resources, only wood and meat, the two most fundamental resources, have a distribution that is somewhat normal, but all other resources have a significant left-bias. ** It demonstrates that \"low retention rate\" is the cause and \"Resources Distribution Anomaly\" is the result. \n",
    "\n",
    "The most likely scenario is that the product logic is not smooth, the sense of gain is insufficient, the art is insufficient, the system bug (such as crazy flashback, etc.) or the strong sense of gold fishing and lack of high-level gameplay causes the majority of users to lose on the first day of use."
   ]
  },
  {
   "cell_type": "markdown",
   "id": "nearby-consensus",
   "metadata": {},
   "source": [
    "## 3.3 Impact equilibration: payment and fighting advantage"
   ]
  },
  {
   "cell_type": "code",
   "execution_count": 64,
   "id": "theoretical-header",
   "metadata": {},
   "outputs": [
    {
     "data": {
      "text/plain": [
       "count   37855.000\n",
       "mean          inf\n",
       "std           NaN\n",
       "min         0.000\n",
       "25%         0.017\n",
       "50%         0.171\n",
       "75%         0.538\n",
       "max           inf\n",
       "dtype: float64"
      ]
     },
     "execution_count": 64,
     "metadata": {},
     "output_type": "execute_result"
    }
   ],
   "source": [
    "# Distribution of PVP winning percentage of paying players during the first 7 days\n",
    "(data[data[\"pay_price\"] !=0][\"pvp_win_count\"]/data[data[\"pay_price\"] !=0][\"pve_battle_count\"]).describe()"
   ]
  },
  {
   "cell_type": "markdown",
   "id": "racial-government",
   "metadata": {},
   "source": [
    "It can be seen that the per capita PVP win rate is 53.27 percent, which is an acceptable figure for mobile game paying users, but it is not a significant advantage. Among them, the count number is less than the total number of paying players, suggesting that some players have 0 PVP times. To avoid the error of dividing by zero, these individuals are eliminated. The percentage of gamers who don't engage in PVP is:"
   ]
  },
  {
   "cell_type": "code",
   "execution_count": 65,
   "id": "still-rating",
   "metadata": {},
   "outputs": [
    {
     "data": {
      "text/plain": [
       "0.1371654721397717"
      ]
     },
     "execution_count": 65,
     "metadata": {},
     "output_type": "execute_result"
    }
   ],
   "source": [
    "1 - 35755/data[data[\"pay_price\"] !=0].shape[0]"
   ]
  },
  {
   "cell_type": "markdown",
   "id": "peripheral-wallpaper",
   "metadata": {},
   "source": [
    "13% paying players never play PVP"
   ]
  },
  {
   "cell_type": "code",
   "execution_count": 70,
   "id": "becoming-clock",
   "metadata": {},
   "outputs": [
    {
     "data": {
      "text/plain": [
       "1.723228497868749"
      ]
     },
     "execution_count": 70,
     "metadata": {},
     "output_type": "execute_result"
    }
   ],
   "source": [
    "data[data[\"pay_price\"] == 0][\"pvp_battle_count\"].mean()"
   ]
  },
  {
   "cell_type": "markdown",
   "id": "comprehensive-startup",
   "metadata": {},
   "source": [
    "Per capita PVP times of non-paying players. On average, a non-paying player play PVP 2 times."
   ]
  },
  {
   "cell_type": "code",
   "execution_count": 69,
   "id": "portuguese-library",
   "metadata": {},
   "outputs": [
    {
     "data": {
      "text/plain": [
       "count   539947.000\n",
       "mean         0.254\n",
       "std          0.355\n",
       "min          0.000\n",
       "25%          0.000\n",
       "50%          0.000\n",
       "75%          0.500\n",
       "max          1.000\n",
       "dtype: float64"
      ]
     },
     "execution_count": 69,
     "metadata": {},
     "output_type": "execute_result"
    }
   ],
   "source": [
    "(data[data[\"pay_price\"] == 0][\"pvp_win_count\"]/data[data[\"pay_price\"] ==0][\"pvp_battle_count\"]).describe()"
   ]
  },
  {
   "cell_type": "markdown",
   "id": "technological-october",
   "metadata": {},
   "source": [
    "PVP capita winning rate of non-paying players."
   ]
  },
  {
   "cell_type": "markdown",
   "id": "closed-margin",
   "metadata": {},
   "source": [
    "The average PVP win rate per capita for non-paying players is barely 25%, and 75% of them have an average win rate of less than 50%. Indeed, this condition is harsh for free players. Similarly, those players who never pay have never participated in PVP; they have never played."
   ]
  },
  {
   "cell_type": "code",
   "execution_count": 71,
   "id": "synthetic-mambo",
   "metadata": {},
   "outputs": [
    {
     "data": {
      "text/plain": [
       "count   35755.000\n",
       "mean        0.452\n",
       "std         0.357\n",
       "min         0.000\n",
       "25%         0.000\n",
       "50%         0.500\n",
       "75%         0.783\n",
       "max         1.000\n",
       "dtype: float64"
      ]
     },
     "execution_count": 71,
     "metadata": {},
     "output_type": "execute_result"
    }
   ],
   "source": [
    "(data[data[\"pay_price\"] !=0][\"pvp_lanch_count\"]/data[data[\"pay_price\"] !=0][\"pvp_battle_count\"]).describe()"
   ]
  },
  {
   "cell_type": "markdown",
   "id": "organic-inclusion",
   "metadata": {},
   "source": [
    "For paying players, an average of 45% of PVP battles are initiated by them."
   ]
  },
  {
   "cell_type": "code",
   "execution_count": 72,
   "id": "interior-hawaii",
   "metadata": {},
   "outputs": [
    {
     "data": {
      "text/plain": [
       "count   539947.000\n",
       "mean         0.262\n",
       "std          0.365\n",
       "min          0.000\n",
       "25%          0.000\n",
       "50%          0.000\n",
       "75%          0.500\n",
       "max          1.000\n",
       "dtype: float64"
      ]
     },
     "execution_count": 72,
     "metadata": {},
     "output_type": "execute_result"
    }
   ],
   "source": [
    "(data[data[\"pay_price\"] ==0][\"pvp_lanch_count\"]/data[data[\"pay_price\"] ==0][\"pvp_battle_count\"]).describe()"
   ]
  },
  {
   "cell_type": "markdown",
   "id": "vulnerable-keeping",
   "metadata": {},
   "source": [
    "For non paying players, an average of 26% of PVP battles are initiated by them."
   ]
  },
  {
   "cell_type": "code",
   "execution_count": 73,
   "id": "prescription-peace",
   "metadata": {},
   "outputs": [
    {
     "data": {
      "text/plain": [
       "count   37389.000\n",
       "mean        0.885\n",
       "std         0.141\n",
       "min         0.000\n",
       "25%         0.840\n",
       "50%         0.926\n",
       "75%         0.988\n",
       "max         1.000\n",
       "dtype: float64"
      ]
     },
     "execution_count": 73,
     "metadata": {},
     "output_type": "execute_result"
    }
   ],
   "source": [
    "(data[data[\"pay_price\"] !=0][\"pve_win_count\"]/data[data[\"pay_price\"] !=0][\"pve_battle_count\"]).describe()"
   ]
  },
  {
   "cell_type": "markdown",
   "id": "assumed-northeast",
   "metadata": {},
   "source": [
    "PVE capita winning rate of paying players."
   ]
  },
  {
   "cell_type": "code",
   "execution_count": 76,
   "id": "conscious-fireplace",
   "metadata": {},
   "outputs": [
    {
     "data": {
      "text/plain": [
       "count   703148.000\n",
       "mean         0.921\n",
       "std          0.179\n",
       "min          0.000\n",
       "25%          0.965\n",
       "50%          1.000\n",
       "75%          1.000\n",
       "max          1.000\n",
       "dtype: float64"
      ]
     },
     "execution_count": 76,
     "metadata": {},
     "output_type": "execute_result"
    }
   ],
   "source": [
    "(data[data[\"pay_price\"] ==0][\"pve_win_count\"]/data[data[\"pay_price\"] ==0][\"pve_battle_count\"]).describe()"
   ]
  },
  {
   "cell_type": "markdown",
   "id": "round-peoples",
   "metadata": {},
   "source": [
    "It is not difficult to determine that the average PVE winning percentage of non-paying players is 92%, which is greater than that of paying players (88%). It appears that environmental creatures are quite weak, as the majority of gamers are able to destroy them with ease. When paying players have an absolute edge in PVP, many non-paying players will opt to fight in the PVE setting, hence we may deduce that there will be an increase in instances where non-paying players initiate PVE battles:"
   ]
  },
  {
   "cell_type": "code",
   "execution_count": null,
   "id": "seventh-oklahoma",
   "metadata": {},
   "outputs": [],
   "source": [
    "(data[data[\"pay_price\"] !=0][\"pve_lanch_count\"]/data[data[\"pay_price\"] !=0][\"pve_battle_count\"]).describe()"
   ]
  },
  {
   "cell_type": "markdown",
   "id": "common-champion",
   "metadata": {},
   "source": [
    "For paying players, an average of 45% of PVE battles are initiated by them."
   ]
  },
  {
   "cell_type": "code",
   "execution_count": null,
   "id": "mathematical-quality",
   "metadata": {},
   "outputs": [],
   "source": [
    "(data[data[\"pay_price\"] == 0][\"pve_lanch_count\"]/data[data[\"pay_price\"] ==0][\"pve_battle_count\"]).describe()"
   ]
  },
  {
   "cell_type": "markdown",
   "id": "killing-irish",
   "metadata": {},
   "source": [
    "For non-paying players, an average of 45% of PVE battles are initiated by them."
   ]
  },
  {
   "cell_type": "markdown",
   "id": "balanced-fortune",
   "metadata": {},
   "source": [
    "It is expected that both paying and non-paying players will freely participate in PVE. Almost all of them launch PVE combat, which may suggest that PVE battles are essential to city growth (for example, collecting resource meat requires hunting wild boars and other creatures, obtaining Magic items require hunting dragons, etc.).  According to the results of the investigation, paying has no effect on PVE combat, but has a significant impact on PVP. In this game, players may seize the territories and cities of other players, hence the balance of PVP conflicts has a significant impact on player loss. The non-paying players who survived the early stages but gradually lost ground in the latter stages may exit the game if the PVP win rate is too low."
   ]
  },
  {
   "cell_type": "markdown",
   "id": "trained-starter",
   "metadata": {},
   "source": [
    "## 3.4 Left bias produces a long tail: who are the outliers?"
   ]
  },
  {
   "cell_type": "code",
   "execution_count": 77,
   "id": "empirical-death",
   "metadata": {},
   "outputs": [],
   "source": [
    "AbnormalCheck = data.iloc[:,2:-1]"
   ]
  },
  {
   "cell_type": "code",
   "execution_count": 78,
   "id": "modern-afternoon",
   "metadata": {},
   "outputs": [
    {
     "data": {
      "text/plain": [
       "0"
      ]
     },
     "execution_count": 78,
     "metadata": {},
     "output_type": "execute_result"
    }
   ],
   "source": [
    "(AbnormalCheck < 0).sum().sum() # check whether any numbers smaller than 0"
   ]
  },
  {
   "cell_type": "code",
   "execution_count": 79,
   "id": "chinese-fourth",
   "metadata": {},
   "outputs": [
    {
     "data": {
      "text/html": [
       "<div>\n",
       "<style scoped>\n",
       "    .dataframe tbody tr th:only-of-type {\n",
       "        vertical-align: middle;\n",
       "    }\n",
       "\n",
       "    .dataframe tbody tr th {\n",
       "        vertical-align: top;\n",
       "    }\n",
       "\n",
       "    .dataframe thead th {\n",
       "        text-align: right;\n",
       "    }\n",
       "</style>\n",
       "<table border=\"1\" class=\"dataframe\">\n",
       "  <thead>\n",
       "    <tr style=\"text-align: right;\">\n",
       "      <th></th>\n",
       "      <th>wood_add_value</th>\n",
       "      <th>wood_reduce_value</th>\n",
       "      <th>stone_add_value</th>\n",
       "      <th>stone_reduce_value</th>\n",
       "      <th>ivory_add_value</th>\n",
       "      <th>ivory_reduce_value</th>\n",
       "      <th>meat_add_value</th>\n",
       "      <th>meat_reduce_value</th>\n",
       "      <th>magic_add_value</th>\n",
       "      <th>magic_reduce_value</th>\n",
       "      <th>...</th>\n",
       "      <th>sr_rss_help_bonus_level</th>\n",
       "      <th>pvp_battle_count</th>\n",
       "      <th>pvp_lanch_count</th>\n",
       "      <th>pvp_win_count</th>\n",
       "      <th>pve_battle_count</th>\n",
       "      <th>pve_lanch_count</th>\n",
       "      <th>pve_win_count</th>\n",
       "      <th>avg_online_minutes</th>\n",
       "      <th>pay_price</th>\n",
       "      <th>pay_count</th>\n",
       "    </tr>\n",
       "  </thead>\n",
       "  <tbody>\n",
       "    <tr>\n",
       "      <th>0</th>\n",
       "      <td>20125.000</td>\n",
       "      <td>3700.000</td>\n",
       "      <td>0.000</td>\n",
       "      <td>0.000</td>\n",
       "      <td>0.000</td>\n",
       "      <td>0.000</td>\n",
       "      <td>16375.000</td>\n",
       "      <td>2000.000</td>\n",
       "      <td>0.000</td>\n",
       "      <td>0.000</td>\n",
       "      <td>...</td>\n",
       "      <td>0</td>\n",
       "      <td>0</td>\n",
       "      <td>0</td>\n",
       "      <td>0</td>\n",
       "      <td>0</td>\n",
       "      <td>0</td>\n",
       "      <td>0</td>\n",
       "      <td>0.333</td>\n",
       "      <td>0.000</td>\n",
       "      <td>0</td>\n",
       "    </tr>\n",
       "    <tr>\n",
       "      <th>1</th>\n",
       "      <td>0.000</td>\n",
       "      <td>0.000</td>\n",
       "      <td>0.000</td>\n",
       "      <td>0.000</td>\n",
       "      <td>0.000</td>\n",
       "      <td>0.000</td>\n",
       "      <td>0.000</td>\n",
       "      <td>0.000</td>\n",
       "      <td>0.000</td>\n",
       "      <td>0.000</td>\n",
       "      <td>...</td>\n",
       "      <td>0</td>\n",
       "      <td>0</td>\n",
       "      <td>0</td>\n",
       "      <td>0</td>\n",
       "      <td>0</td>\n",
       "      <td>0</td>\n",
       "      <td>0</td>\n",
       "      <td>0.333</td>\n",
       "      <td>0.000</td>\n",
       "      <td>0</td>\n",
       "    </tr>\n",
       "    <tr>\n",
       "      <th>2</th>\n",
       "      <td>0.000</td>\n",
       "      <td>0.000</td>\n",
       "      <td>0.000</td>\n",
       "      <td>0.000</td>\n",
       "      <td>0.000</td>\n",
       "      <td>0.000</td>\n",
       "      <td>0.000</td>\n",
       "      <td>0.000</td>\n",
       "      <td>0.000</td>\n",
       "      <td>0.000</td>\n",
       "      <td>...</td>\n",
       "      <td>0</td>\n",
       "      <td>0</td>\n",
       "      <td>0</td>\n",
       "      <td>0</td>\n",
       "      <td>0</td>\n",
       "      <td>0</td>\n",
       "      <td>0</td>\n",
       "      <td>1.167</td>\n",
       "      <td>0.000</td>\n",
       "      <td>0</td>\n",
       "    </tr>\n",
       "    <tr>\n",
       "      <th>3</th>\n",
       "      <td>0.000</td>\n",
       "      <td>0.000</td>\n",
       "      <td>0.000</td>\n",
       "      <td>0.000</td>\n",
       "      <td>0.000</td>\n",
       "      <td>0.000</td>\n",
       "      <td>0.000</td>\n",
       "      <td>0.000</td>\n",
       "      <td>0.000</td>\n",
       "      <td>0.000</td>\n",
       "      <td>...</td>\n",
       "      <td>0</td>\n",
       "      <td>0</td>\n",
       "      <td>0</td>\n",
       "      <td>0</td>\n",
       "      <td>0</td>\n",
       "      <td>0</td>\n",
       "      <td>0</td>\n",
       "      <td>3.167</td>\n",
       "      <td>0.000</td>\n",
       "      <td>0</td>\n",
       "    </tr>\n",
       "    <tr>\n",
       "      <th>4</th>\n",
       "      <td>0.000</td>\n",
       "      <td>0.000</td>\n",
       "      <td>0.000</td>\n",
       "      <td>0.000</td>\n",
       "      <td>0.000</td>\n",
       "      <td>0.000</td>\n",
       "      <td>0.000</td>\n",
       "      <td>0.000</td>\n",
       "      <td>0.000</td>\n",
       "      <td>0.000</td>\n",
       "      <td>...</td>\n",
       "      <td>0</td>\n",
       "      <td>0</td>\n",
       "      <td>0</td>\n",
       "      <td>0</td>\n",
       "      <td>0</td>\n",
       "      <td>0</td>\n",
       "      <td>0</td>\n",
       "      <td>2.333</td>\n",
       "      <td>0.000</td>\n",
       "      <td>0</td>\n",
       "    </tr>\n",
       "    <tr>\n",
       "      <th>...</th>\n",
       "      <td>...</td>\n",
       "      <td>...</td>\n",
       "      <td>...</td>\n",
       "      <td>...</td>\n",
       "      <td>...</td>\n",
       "      <td>...</td>\n",
       "      <td>...</td>\n",
       "      <td>...</td>\n",
       "      <td>...</td>\n",
       "      <td>...</td>\n",
       "      <td>...</td>\n",
       "      <td>...</td>\n",
       "      <td>...</td>\n",
       "      <td>...</td>\n",
       "      <td>...</td>\n",
       "      <td>...</td>\n",
       "      <td>...</td>\n",
       "      <td>...</td>\n",
       "      <td>...</td>\n",
       "      <td>...</td>\n",
       "      <td>...</td>\n",
       "    </tr>\n",
       "    <tr>\n",
       "      <th>2288002</th>\n",
       "      <td>15500.000</td>\n",
       "      <td>3700.000</td>\n",
       "      <td>0.000</td>\n",
       "      <td>0.000</td>\n",
       "      <td>0.000</td>\n",
       "      <td>0.000</td>\n",
       "      <td>13000.000</td>\n",
       "      <td>2000.000</td>\n",
       "      <td>0.000</td>\n",
       "      <td>0.000</td>\n",
       "      <td>...</td>\n",
       "      <td>0</td>\n",
       "      <td>0</td>\n",
       "      <td>0</td>\n",
       "      <td>0</td>\n",
       "      <td>0</td>\n",
       "      <td>0</td>\n",
       "      <td>0</td>\n",
       "      <td>0.500</td>\n",
       "      <td>0.000</td>\n",
       "      <td>0</td>\n",
       "    </tr>\n",
       "    <tr>\n",
       "      <th>2288003</th>\n",
       "      <td>10000.000</td>\n",
       "      <td>0.000</td>\n",
       "      <td>0.000</td>\n",
       "      <td>0.000</td>\n",
       "      <td>0.000</td>\n",
       "      <td>0.000</td>\n",
       "      <td>10000.000</td>\n",
       "      <td>0.000</td>\n",
       "      <td>0.000</td>\n",
       "      <td>0.000</td>\n",
       "      <td>...</td>\n",
       "      <td>0</td>\n",
       "      <td>0</td>\n",
       "      <td>0</td>\n",
       "      <td>0</td>\n",
       "      <td>0</td>\n",
       "      <td>0</td>\n",
       "      <td>0</td>\n",
       "      <td>0.833</td>\n",
       "      <td>0.000</td>\n",
       "      <td>0</td>\n",
       "    </tr>\n",
       "    <tr>\n",
       "      <th>2288004</th>\n",
       "      <td>131589.000</td>\n",
       "      <td>71287.000</td>\n",
       "      <td>0.000</td>\n",
       "      <td>0.000</td>\n",
       "      <td>6000.000</td>\n",
       "      <td>0.000</td>\n",
       "      <td>249356.000</td>\n",
       "      <td>39524.000</td>\n",
       "      <td>0.000</td>\n",
       "      <td>0.000</td>\n",
       "      <td>...</td>\n",
       "      <td>0</td>\n",
       "      <td>0</td>\n",
       "      <td>0</td>\n",
       "      <td>0</td>\n",
       "      <td>2</td>\n",
       "      <td>2</td>\n",
       "      <td>2</td>\n",
       "      <td>4.333</td>\n",
       "      <td>0.000</td>\n",
       "      <td>0</td>\n",
       "    </tr>\n",
       "    <tr>\n",
       "      <th>2288005</th>\n",
       "      <td>221984.000</td>\n",
       "      <td>122401.000</td>\n",
       "      <td>0.000</td>\n",
       "      <td>0.000</td>\n",
       "      <td>0.000</td>\n",
       "      <td>0.000</td>\n",
       "      <td>208184.000</td>\n",
       "      <td>74738.000</td>\n",
       "      <td>0.000</td>\n",
       "      <td>0.000</td>\n",
       "      <td>...</td>\n",
       "      <td>0</td>\n",
       "      <td>0</td>\n",
       "      <td>0</td>\n",
       "      <td>0</td>\n",
       "      <td>1</td>\n",
       "      <td>1</td>\n",
       "      <td>1</td>\n",
       "      <td>2.833</td>\n",
       "      <td>0.000</td>\n",
       "      <td>0</td>\n",
       "    </tr>\n",
       "    <tr>\n",
       "      <th>2288006</th>\n",
       "      <td>15500.000</td>\n",
       "      <td>3700.000</td>\n",
       "      <td>0.000</td>\n",
       "      <td>0.000</td>\n",
       "      <td>0.000</td>\n",
       "      <td>0.000</td>\n",
       "      <td>13000.000</td>\n",
       "      <td>2000.000</td>\n",
       "      <td>0.000</td>\n",
       "      <td>0.000</td>\n",
       "      <td>...</td>\n",
       "      <td>0</td>\n",
       "      <td>0</td>\n",
       "      <td>0</td>\n",
       "      <td>0</td>\n",
       "      <td>0</td>\n",
       "      <td>0</td>\n",
       "      <td>0</td>\n",
       "      <td>0.667</td>\n",
       "      <td>0.000</td>\n",
       "      <td>0</td>\n",
       "    </tr>\n",
       "  </tbody>\n",
       "</table>\n",
       "<p>2144942 rows × 106 columns</p>\n",
       "</div>"
      ],
      "text/plain": [
       "         wood_add_value  wood_reduce_value  stone_add_value  \\\n",
       "0             20125.000           3700.000            0.000   \n",
       "1                 0.000              0.000            0.000   \n",
       "2                 0.000              0.000            0.000   \n",
       "3                 0.000              0.000            0.000   \n",
       "4                 0.000              0.000            0.000   \n",
       "...                 ...                ...              ...   \n",
       "2288002       15500.000           3700.000            0.000   \n",
       "2288003       10000.000              0.000            0.000   \n",
       "2288004      131589.000          71287.000            0.000   \n",
       "2288005      221984.000         122401.000            0.000   \n",
       "2288006       15500.000           3700.000            0.000   \n",
       "\n",
       "         stone_reduce_value  ivory_add_value  ivory_reduce_value  \\\n",
       "0                     0.000            0.000               0.000   \n",
       "1                     0.000            0.000               0.000   \n",
       "2                     0.000            0.000               0.000   \n",
       "3                     0.000            0.000               0.000   \n",
       "4                     0.000            0.000               0.000   \n",
       "...                     ...              ...                 ...   \n",
       "2288002               0.000            0.000               0.000   \n",
       "2288003               0.000            0.000               0.000   \n",
       "2288004               0.000         6000.000               0.000   \n",
       "2288005               0.000            0.000               0.000   \n",
       "2288006               0.000            0.000               0.000   \n",
       "\n",
       "         meat_add_value  meat_reduce_value  magic_add_value  \\\n",
       "0             16375.000           2000.000            0.000   \n",
       "1                 0.000              0.000            0.000   \n",
       "2                 0.000              0.000            0.000   \n",
       "3                 0.000              0.000            0.000   \n",
       "4                 0.000              0.000            0.000   \n",
       "...                 ...                ...              ...   \n",
       "2288002       13000.000           2000.000            0.000   \n",
       "2288003       10000.000              0.000            0.000   \n",
       "2288004      249356.000          39524.000            0.000   \n",
       "2288005      208184.000          74738.000            0.000   \n",
       "2288006       13000.000           2000.000            0.000   \n",
       "\n",
       "         magic_reduce_value  ...  sr_rss_help_bonus_level  pvp_battle_count  \\\n",
       "0                     0.000  ...                        0                 0   \n",
       "1                     0.000  ...                        0                 0   \n",
       "2                     0.000  ...                        0                 0   \n",
       "3                     0.000  ...                        0                 0   \n",
       "4                     0.000  ...                        0                 0   \n",
       "...                     ...  ...                      ...               ...   \n",
       "2288002               0.000  ...                        0                 0   \n",
       "2288003               0.000  ...                        0                 0   \n",
       "2288004               0.000  ...                        0                 0   \n",
       "2288005               0.000  ...                        0                 0   \n",
       "2288006               0.000  ...                        0                 0   \n",
       "\n",
       "         pvp_lanch_count  pvp_win_count  pve_battle_count  pve_lanch_count  \\\n",
       "0                      0              0                 0                0   \n",
       "1                      0              0                 0                0   \n",
       "2                      0              0                 0                0   \n",
       "3                      0              0                 0                0   \n",
       "4                      0              0                 0                0   \n",
       "...                  ...            ...               ...              ...   \n",
       "2288002                0              0                 0                0   \n",
       "2288003                0              0                 0                0   \n",
       "2288004                0              0                 2                2   \n",
       "2288005                0              0                 1                1   \n",
       "2288006                0              0                 0                0   \n",
       "\n",
       "         pve_win_count  avg_online_minutes  pay_price  pay_count  \n",
       "0                    0               0.333      0.000          0  \n",
       "1                    0               0.333      0.000          0  \n",
       "2                    0               1.167      0.000          0  \n",
       "3                    0               3.167      0.000          0  \n",
       "4                    0               2.333      0.000          0  \n",
       "...                ...                 ...        ...        ...  \n",
       "2288002              0               0.500      0.000          0  \n",
       "2288003              0               0.833      0.000          0  \n",
       "2288004              2               4.333      0.000          0  \n",
       "2288005              1               2.833      0.000          0  \n",
       "2288006              0               0.667      0.000          0  \n",
       "\n",
       "[2144942 rows x 106 columns]"
      ]
     },
     "execution_count": 79,
     "metadata": {},
     "output_type": "execute_result"
    }
   ],
   "source": [
    "AbnormalCheck.loc[AbnormalCheck[\"avg_online_minutes\"] < 30,:]"
   ]
  },
  {
   "cell_type": "markdown",
   "id": "dedicated-disorder",
   "metadata": {},
   "source": [
    "Boxplot：\n",
    "When the value of any instance exceeds [QL-1.5IQR, QU+1.5IQR], the value of this instance is considered to be an outlier\n",
    "QL: First Quartile，QU：Third Quartile ，IQR：QU-QL"
   ]
  },
  {
   "cell_type": "markdown",
   "id": "juvenile-doctor",
   "metadata": {},
   "source": [
    "The fundemental for box plots to identify outliers is to rely on quartile calculations. Quartiles are relatively robust, because the 25% of data beyond the quartiles will not affect the quartiles no matter how big or abnormal they are. Therefore, the outlier detection results of the box plot are more objective and strict, and have certain advantages in identifying outliers. However, due to the relatively strict rules, a large amount of data may be wiped out under extreme left-biased data."
   ]
  },
  {
   "cell_type": "markdown",
   "id": "demographic-lingerie",
   "metadata": {},
   "source": [
    "3-sigma limits：\n",
    "When (specific value of any instance - mean of the feature) > 3 * standard deviation of the feature, the value of this instance is considered to be an outlier"
   ]
  },
  {
   "cell_type": "markdown",
   "id": "subsequent-former",
   "metadata": {},
   "source": [
    "Since the likelihood that any data range is between [-3sigma, 3sigma] is statistically 99.73%, the 3sigma rule for identifying outliers are really highly lenient. However, the normal distribution assumption made by 3-sigma, which is not entirely compatible with our data."
   ]
  },
  {
   "cell_type": "markdown",
   "id": "electronic-parts",
   "metadata": {},
   "source": [
    "#### (1) 箱线图"
   ]
  },
  {
   "cell_type": "code",
   "execution_count": null,
   "id": "comparable-trauma",
   "metadata": {},
   "outputs": [],
   "source": [
    "#打印异常比例，保存异常样本的索引\n",
    "NumOfSamples = data.shape[0]\n",
    "abnormal = pd.DataFrame()\n",
    "DataNoAbnormal = data.copy()\n",
    "BoxAbnormalIdx = [] #列表：用于保存我们的异常值的索引\n",
    "for idx,column in enumerate(data.columns[2:-1]):\n",
    "    feature = data.loc[:,column]\n",
    "    QL = np.quantile(feature,0.25)\n",
    "    QU = np.quantile(feature,0.75)\n",
    "    IQR = QU - QL\n",
    "    #过小或过大的都属于异常值\n",
    "    error = feature[((feature < (QL - 1.5*IQR)).astype(int) + (feature > (QU + 1.5*IQR)).astype(int)) != 0]\n",
    "    BoxAbnormalIdx.extend(error.index)\n",
    "    abnormal.loc[idx,\"特征\"] = column\n",
    "    abnormal.loc[idx,\"异常值数量\"] = error.shape[0]\n",
    "    abnormal.loc[idx,\"异常值比例\"] = \"{:.3f}%\".format(error.shape[0]*100/NumOfSamples)"
   ]
  },
  {
   "cell_type": "code",
   "execution_count": null,
   "id": "educated-flesh",
   "metadata": {},
   "outputs": [],
   "source": [
    "len(set(BoxAbnormalIdx)）"
   ]
  },
  {
   "cell_type": "markdown",
   "id": "improving-render",
   "metadata": {},
   "source": [
    "超过100w数据都被归为异常，数量太多无法直接删除，何况在7日内付费的用户只有4w多，很可能被这100多万数据囊括"
   ]
  },
  {
   "cell_type": "code",
   "execution_count": null,
   "id": "local-reliance",
   "metadata": {},
   "outputs": [],
   "source": [
    "abnormal.sort_values(\"异常值比例\",ascending=False) #左偏比较严重的特征异常值更多"
   ]
  },
  {
   "cell_type": "markdown",
   "id": "secondary-shark",
   "metadata": {},
   "source": [
    "#### (2) 3 Sigma"
   ]
  },
  {
   "cell_type": "code",
   "execution_count": null,
   "id": "ordinary-money",
   "metadata": {},
   "outputs": [],
   "source": [
    "#打印异常比例，保存异常样本的索引\n",
    "NumOfSamples = data.shape[0]\n",
    "abnormal = pd.DataFrame()\n",
    "DataNoAbnormal = data.copy()\n",
    "SigmaAbnormalIdx = []\n",
    "for idx,column in enumerate(data.columns[2:-1]):\n",
    "    feature = data.loc[:,column]\n",
    "    mean_ = feature.mean()\n",
    "    std_ = feature.std()\n",
    "    error = feature[feature - mean_ > 3*std_]\n",
    "    SigmaAbnormalIdx.extend(error.index)\n",
    "    abnormal.loc[idx,\"特征\"] = column\n",
    "    abnormal.loc[idx,\"异常值数量\"] = error.shape[0]\n",
    "    abnormal.loc[idx,\"异常值比例\"] = \"{:.3f}%\".format(error.shape[0]*100/NumOfSamples)\n"
   ]
  },
  {
   "cell_type": "code",
   "execution_count": null,
   "id": "strategic-samoa",
   "metadata": {},
   "outputs": [],
   "source": [
    "len(set(SigmaAbnormalIdx))"
   ]
  },
  {
   "cell_type": "markdown",
   "id": "coral-specific",
   "metadata": {},
   "source": [
    "23w样本是异常，这是一个可以接受的数字，可以直接删除，但放入模型后的效果不知道怎么样"
   ]
  },
  {
   "cell_type": "markdown",
   "id": "economic-miniature",
   "metadata": {},
   "source": [
    "在箱线图规则下，我们看看这些异常用户的游戏时间/氪金情况"
   ]
  },
  {
   "cell_type": "code",
   "execution_count": null,
   "id": "covered-sodium",
   "metadata": {},
   "outputs": [],
   "source": [
    "data.loc[BoxAbnormalIdx,\"在线时长\"].describe() #在在线时长上，表现是位于氪金用户与不可尽用户之间"
   ]
  },
  {
   "cell_type": "code",
   "execution_count": null,
   "id": "advised-specialist",
   "metadata": {},
   "outputs": [],
   "source": [
    "(data.loc[BoxAbnormalIdx,\"付费金额\"] != 0).sum() #在异常用户中，付费用户的数量"
   ]
  },
  {
   "cell_type": "code",
   "execution_count": null,
   "id": "formal-gothic",
   "metadata": {},
   "outputs": [],
   "source": [
    "(data.loc[:,\"付费金额\"] != 0).sum() #所有7日付费用户数"
   ]
  },
  {
   "cell_type": "code",
   "execution_count": null,
   "id": "irish-suspension",
   "metadata": {},
   "outputs": [],
   "source": [
    "(data.loc[BoxAbnormalIdx,\"45日付费金额\"] != 0).sum() #在异常用户中，付费用户的数量"
   ]
  },
  {
   "cell_type": "code",
   "execution_count": null,
   "id": "domestic-baseline",
   "metadata": {},
   "outputs": [],
   "source": [
    "(data.loc[:,\"45日付费金额\"] != 0).sum() #所有7日付费用户数"
   ]
  },
  {
   "cell_type": "markdown",
   "id": "tropical-logistics",
   "metadata": {},
   "source": [
    "付费用户被100%包含在了异常用户里，这说明：\n",
    "\n",
    "付费用户的数据在现有数据的大背景下（大部分用户短时间快速流失掉）下，在统计上是完全异常的，因此建模时想要辨认出付费用户，模型需要很深入的学习，有很高的过拟合风险\n",
    "异常用户有100w，其中只有4w多付费，即许多与氪金用户行为高度相似的用户都没有氪金，对算法来说这部分用户是很难判断的"
   ]
  }
 ],
 "metadata": {
  "kernelspec": {
   "display_name": "Python 3",
   "language": "python",
   "name": "python3"
  },
  "language_info": {
   "codemirror_mode": {
    "name": "ipython",
    "version": 3
   },
   "file_extension": ".py",
   "mimetype": "text/x-python",
   "name": "python",
   "nbconvert_exporter": "python",
   "pygments_lexer": "ipython3",
   "version": "3.7.9"
  }
 },
 "nbformat": 4,
 "nbformat_minor": 5
}
