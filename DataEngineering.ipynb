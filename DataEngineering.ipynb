{
 "cells": [
  {
   "cell_type": "code",
   "execution_count": 1,
   "id": "centered-donor",
   "metadata": {},
   "outputs": [],
   "source": [
    "import pandas as pd\n",
    "import numpy as np\n",
    "import matplotlib.pyplot as plt\n",
    "import sklearn\n",
    "import time\n",
    "import datetime\n",
    "%matplotlib inline\n",
    "plt.rcParams['axes.unicode_minus']=False"
   ]
  },
  {
   "cell_type": "markdown",
   "id": "unlikely-drive",
   "metadata": {},
   "source": [
    "# 1. Import Data"
   ]
  },
  {
   "cell_type": "code",
   "execution_count": 2,
   "id": "external-spanish",
   "metadata": {},
   "outputs": [],
   "source": [
    "data = pd.read_csv(r'./Data/tap4fun_data/tap_fun_train.csv')"
   ]
  },
  {
   "cell_type": "code",
   "execution_count": 3,
   "id": "reasonable-cambridge",
   "metadata": {},
   "outputs": [
    {
     "data": {
      "text/html": [
       "<div>\n",
       "<style scoped>\n",
       "    .dataframe tbody tr th:only-of-type {\n",
       "        vertical-align: middle;\n",
       "    }\n",
       "\n",
       "    .dataframe tbody tr th {\n",
       "        vertical-align: top;\n",
       "    }\n",
       "\n",
       "    .dataframe thead th {\n",
       "        text-align: right;\n",
       "    }\n",
       "</style>\n",
       "<table border=\"1\" class=\"dataframe\">\n",
       "  <thead>\n",
       "    <tr style=\"text-align: right;\">\n",
       "      <th></th>\n",
       "      <th>user_id</th>\n",
       "      <th>register_time</th>\n",
       "      <th>wood_add_value</th>\n",
       "      <th>wood_reduce_value</th>\n",
       "      <th>stone_add_value</th>\n",
       "      <th>stone_reduce_value</th>\n",
       "      <th>ivory_add_value</th>\n",
       "      <th>ivory_reduce_value</th>\n",
       "      <th>meat_add_value</th>\n",
       "      <th>meat_reduce_value</th>\n",
       "      <th>...</th>\n",
       "      <th>pvp_battle_count</th>\n",
       "      <th>pvp_lanch_count</th>\n",
       "      <th>pvp_win_count</th>\n",
       "      <th>pve_battle_count</th>\n",
       "      <th>pve_lanch_count</th>\n",
       "      <th>pve_win_count</th>\n",
       "      <th>avg_online_minutes</th>\n",
       "      <th>pay_price</th>\n",
       "      <th>pay_count</th>\n",
       "      <th>prediction_pay_price</th>\n",
       "    </tr>\n",
       "  </thead>\n",
       "  <tbody>\n",
       "    <tr>\n",
       "      <th>0</th>\n",
       "      <td>1</td>\n",
       "      <td>2018-02-02 19:47:15</td>\n",
       "      <td>20125.0</td>\n",
       "      <td>3700.0</td>\n",
       "      <td>0.0</td>\n",
       "      <td>0.0</td>\n",
       "      <td>0.0</td>\n",
       "      <td>0.0</td>\n",
       "      <td>16375.0</td>\n",
       "      <td>2000.0</td>\n",
       "      <td>...</td>\n",
       "      <td>0</td>\n",
       "      <td>0</td>\n",
       "      <td>0</td>\n",
       "      <td>0</td>\n",
       "      <td>0</td>\n",
       "      <td>0</td>\n",
       "      <td>0.333333</td>\n",
       "      <td>0.0</td>\n",
       "      <td>0</td>\n",
       "      <td>0.0</td>\n",
       "    </tr>\n",
       "    <tr>\n",
       "      <th>1</th>\n",
       "      <td>1593</td>\n",
       "      <td>2018-01-26 00:01:05</td>\n",
       "      <td>0.0</td>\n",
       "      <td>0.0</td>\n",
       "      <td>0.0</td>\n",
       "      <td>0.0</td>\n",
       "      <td>0.0</td>\n",
       "      <td>0.0</td>\n",
       "      <td>0.0</td>\n",
       "      <td>0.0</td>\n",
       "      <td>...</td>\n",
       "      <td>0</td>\n",
       "      <td>0</td>\n",
       "      <td>0</td>\n",
       "      <td>0</td>\n",
       "      <td>0</td>\n",
       "      <td>0</td>\n",
       "      <td>0.333333</td>\n",
       "      <td>0.0</td>\n",
       "      <td>0</td>\n",
       "      <td>0.0</td>\n",
       "    </tr>\n",
       "    <tr>\n",
       "      <th>2</th>\n",
       "      <td>1594</td>\n",
       "      <td>2018-01-26 00:01:58</td>\n",
       "      <td>0.0</td>\n",
       "      <td>0.0</td>\n",
       "      <td>0.0</td>\n",
       "      <td>0.0</td>\n",
       "      <td>0.0</td>\n",
       "      <td>0.0</td>\n",
       "      <td>0.0</td>\n",
       "      <td>0.0</td>\n",
       "      <td>...</td>\n",
       "      <td>0</td>\n",
       "      <td>0</td>\n",
       "      <td>0</td>\n",
       "      <td>0</td>\n",
       "      <td>0</td>\n",
       "      <td>0</td>\n",
       "      <td>1.166667</td>\n",
       "      <td>0.0</td>\n",
       "      <td>0</td>\n",
       "      <td>0.0</td>\n",
       "    </tr>\n",
       "    <tr>\n",
       "      <th>3</th>\n",
       "      <td>1595</td>\n",
       "      <td>2018-01-26 00:02:13</td>\n",
       "      <td>0.0</td>\n",
       "      <td>0.0</td>\n",
       "      <td>0.0</td>\n",
       "      <td>0.0</td>\n",
       "      <td>0.0</td>\n",
       "      <td>0.0</td>\n",
       "      <td>0.0</td>\n",
       "      <td>0.0</td>\n",
       "      <td>...</td>\n",
       "      <td>0</td>\n",
       "      <td>0</td>\n",
       "      <td>0</td>\n",
       "      <td>0</td>\n",
       "      <td>0</td>\n",
       "      <td>0</td>\n",
       "      <td>3.166667</td>\n",
       "      <td>0.0</td>\n",
       "      <td>0</td>\n",
       "      <td>0.0</td>\n",
       "    </tr>\n",
       "    <tr>\n",
       "      <th>4</th>\n",
       "      <td>1596</td>\n",
       "      <td>2018-01-26 00:02:46</td>\n",
       "      <td>0.0</td>\n",
       "      <td>0.0</td>\n",
       "      <td>0.0</td>\n",
       "      <td>0.0</td>\n",
       "      <td>0.0</td>\n",
       "      <td>0.0</td>\n",
       "      <td>0.0</td>\n",
       "      <td>0.0</td>\n",
       "      <td>...</td>\n",
       "      <td>0</td>\n",
       "      <td>0</td>\n",
       "      <td>0</td>\n",
       "      <td>0</td>\n",
       "      <td>0</td>\n",
       "      <td>0</td>\n",
       "      <td>2.333333</td>\n",
       "      <td>0.0</td>\n",
       "      <td>0</td>\n",
       "      <td>0.0</td>\n",
       "    </tr>\n",
       "  </tbody>\n",
       "</table>\n",
       "<p>5 rows × 109 columns</p>\n",
       "</div>"
      ],
      "text/plain": [
       "   user_id        register_time  wood_add_value  wood_reduce_value  \\\n",
       "0        1  2018-02-02 19:47:15         20125.0             3700.0   \n",
       "1     1593  2018-01-26 00:01:05             0.0                0.0   \n",
       "2     1594  2018-01-26 00:01:58             0.0                0.0   \n",
       "3     1595  2018-01-26 00:02:13             0.0                0.0   \n",
       "4     1596  2018-01-26 00:02:46             0.0                0.0   \n",
       "\n",
       "   stone_add_value  stone_reduce_value  ivory_add_value  ivory_reduce_value  \\\n",
       "0              0.0                 0.0              0.0                 0.0   \n",
       "1              0.0                 0.0              0.0                 0.0   \n",
       "2              0.0                 0.0              0.0                 0.0   \n",
       "3              0.0                 0.0              0.0                 0.0   \n",
       "4              0.0                 0.0              0.0                 0.0   \n",
       "\n",
       "   meat_add_value  meat_reduce_value  ...  pvp_battle_count  pvp_lanch_count  \\\n",
       "0         16375.0             2000.0  ...                 0                0   \n",
       "1             0.0                0.0  ...                 0                0   \n",
       "2             0.0                0.0  ...                 0                0   \n",
       "3             0.0                0.0  ...                 0                0   \n",
       "4             0.0                0.0  ...                 0                0   \n",
       "\n",
       "   pvp_win_count  pve_battle_count  pve_lanch_count  pve_win_count  \\\n",
       "0              0                 0                0              0   \n",
       "1              0                 0                0              0   \n",
       "2              0                 0                0              0   \n",
       "3              0                 0                0              0   \n",
       "4              0                 0                0              0   \n",
       "\n",
       "   avg_online_minutes  pay_price  pay_count  prediction_pay_price  \n",
       "0            0.333333        0.0          0                   0.0  \n",
       "1            0.333333        0.0          0                   0.0  \n",
       "2            1.166667        0.0          0                   0.0  \n",
       "3            3.166667        0.0          0                   0.0  \n",
       "4            2.333333        0.0          0                   0.0  \n",
       "\n",
       "[5 rows x 109 columns]"
      ]
     },
     "execution_count": 3,
     "metadata": {},
     "output_type": "execute_result"
    }
   ],
   "source": [
    "data.head()"
   ]
  },
  {
   "cell_type": "markdown",
   "id": "valid-experience",
   "metadata": {},
   "source": [
    "# 2. Data Cleaning"
   ]
  },
  {
   "cell_type": "code",
   "execution_count": 4,
   "id": "under-consumption",
   "metadata": {},
   "outputs": [],
   "source": [
    "RegisterDate = data.loc[:,\"register_time\"].apply(lambda x: x[:10])"
   ]
  },
  {
   "cell_type": "code",
   "execution_count": 5,
   "id": "civil-retrieval",
   "metadata": {},
   "outputs": [],
   "source": [
    "# Aggregated average calculation of \"pay_pric\"e according to players' registration date\n",
    "RegisterDateMean = data[\"pay_price\"].groupby(RegisterDate).mean()"
   ]
  },
  {
   "cell_type": "code",
   "execution_count": 6,
   "id": "liable-lafayette",
   "metadata": {},
   "outputs": [
    {
     "data": {
      "text/plain": [
       "register_time\n",
       "2018-01-26    0.828631\n",
       "2018-01-27    0.411715\n",
       "2018-01-28    0.424587\n",
       "2018-01-29    0.565344\n",
       "2018-01-30    0.776891\n",
       "2018-01-31    0.353800\n",
       "2018-02-01    0.304698\n",
       "2018-02-02    0.846928\n",
       "2018-02-03    0.741158\n",
       "2018-02-04    0.440295\n",
       "2018-02-05    0.684033\n",
       "2018-02-06    0.413324\n",
       "2018-02-07    0.454560\n",
       "2018-02-08    0.478379\n",
       "2018-02-09    0.653726\n",
       "2018-02-10    0.682243\n",
       "2018-02-11    0.405305\n",
       "2018-02-12    0.820042\n",
       "2018-02-13    0.459915\n",
       "2018-02-14    0.484836\n",
       "2018-02-15    0.252700\n",
       "2018-02-16    0.811025\n",
       "2018-02-17    0.399717\n",
       "2018-02-18    0.396659\n",
       "2018-02-19    0.370515\n",
       "2018-02-20    0.271209\n",
       "2018-02-21    0.435525\n",
       "2018-02-22    0.477723\n",
       "2018-02-23    1.041871\n",
       "2018-02-24    0.702184\n",
       "2018-02-25    0.515020\n",
       "2018-02-26    0.956741\n",
       "2018-02-27    0.413218\n",
       "2018-02-28    0.527081\n",
       "2018-03-01    0.503308\n",
       "2018-03-02    0.702079\n",
       "2018-03-03    0.389855\n",
       "2018-03-04    0.381600\n",
       "2018-03-05    0.695222\n",
       "2018-03-06    0.807820\n",
       "Name: pay_price, dtype: float64"
      ]
     },
     "execution_count": 6,
     "metadata": {},
     "output_type": "execute_result"
    }
   ],
   "source": [
    "RegisterDateMean"
   ]
  },
  {
   "cell_type": "code",
   "execution_count": 7,
   "id": "circular-tournament",
   "metadata": {},
   "outputs": [
    {
     "data": {
      "image/png": "[encoded data removed]",
      "text/plain": [
       "<Figure size 1500x300 with 1 Axes>"
      ]
     },
     "metadata": {
      "needs_background": "light"
     },
     "output_type": "display_data"
    }
   ],
   "source": [
    "plt.figure(figsize=(15,3),dpi=100)\n",
    "plt.title(\"The average value of user payment for different registration dates\")\n",
    "plt.bar(RegisterDateMean.index, RegisterDateMean.values)\n",
    "plt.xticks(RegisterDateMean.index,rotation=60,ha=\"right\");"
   ]
  },
  {
   "cell_type": "markdown",
   "id": "dental-background",
   "metadata": {},
   "source": [
    "From the picture, it is almost impossible to see that the date is related to the payment amount. It seems that the overall is relatively random and messy, but there will be a peak every few days. We can try to convert the date into seven days of the week, and see if there is an obvious relationship between the week and the amount payment."
   ]
  },
  {
   "cell_type": "code",
   "execution_count": 8,
   "id": "similar-framing",
   "metadata": {},
   "outputs": [],
   "source": [
    "RegisterWeekday = data.loc[:,\"register_time\"].apply(lambda x: datetime.datetime.strptime(x[:10],\"%Y-%m-%d\").weekday()+1) #1~7分别代表周一到周日"
   ]
  },
  {
   "cell_type": "code",
   "execution_count": 9,
   "id": "expensive-psychiatry",
   "metadata": {},
   "outputs": [
    {
     "data": {
      "text/plain": [
       "0          5\n",
       "1          5\n",
       "2          5\n",
       "3          5\n",
       "4          5\n",
       "          ..\n",
       "2288002    6\n",
       "2288003    6\n",
       "2288004    6\n",
       "2288005    6\n",
       "2288006    6\n",
       "Name: register_time, Length: 2288007, dtype: int64"
      ]
     },
     "execution_count": 9,
     "metadata": {},
     "output_type": "execute_result"
    }
   ],
   "source": [
    "RegisterWeekday"
   ]
  },
  {
   "cell_type": "code",
   "execution_count": 10,
   "id": "integral-attitude",
   "metadata": {},
   "outputs": [],
   "source": [
    "RegisterWeekDayMean = data[\"pay_price\"].groupby(RegisterWeekday).mean()"
   ]
  },
  {
   "cell_type": "code",
   "execution_count": 11,
   "id": "precise-brand",
   "metadata": {},
   "outputs": [
    {
     "data": {
      "text/plain": [
       "register_time\n",
       "1    0.618232\n",
       "2    0.484993\n",
       "3    0.447997\n",
       "4    0.378135\n",
       "5    0.814581\n",
       "6    0.548842\n",
       "7    0.426176\n",
       "Name: pay_price, dtype: float64"
      ]
     },
     "execution_count": 11,
     "metadata": {},
     "output_type": "execute_result"
    }
   ],
   "source": [
    "RegisterWeekDayMean"
   ]
  },
  {
   "cell_type": "code",
   "execution_count": 12,
   "id": "saving-immigration",
   "metadata": {},
   "outputs": [
    {
     "data": {
      "image/png": "[encoded data removed]",
      "text/plain": [
       "<Figure size 400x400 with 1 Axes>"
      ]
     },
     "metadata": {
      "needs_background": "light"
     },
     "output_type": "display_data"
    }
   ],
   "source": [
    "plt.figure(figsize=(4,4),dpi=100)\n",
    "plt.title(\"The average value of user payment for different registration dates (weeks)\")\n",
    "plt.bar(RegisterWeekDayMean.index, RegisterWeekDayMean.values)\n",
    "plt.xticks(RegisterWeekDayMean.index,rotation=60,ha=\"right\");"
   ]
  },
  {
   "cell_type": "markdown",
   "id": "separate-elements",
   "metadata": {},
   "source": [
    "The payout amount is obviously bigger for those who register on Friday and Monday, and it will gradually decline following the peak. The payment amount appears to be correlated with the week in this trend, but in reality, it is more likely to be correlated with the game's purchase volume, the release cycle, and the channel. Maybe every Friday and every Monday can be ranked in the channel with the highest concentration of quality users, or Friday will draw in a lot of players who are getting ready for the weekend, and Monday will draw in a lot of players who don't want to go to work yet. The traffic coming on Friday and Monday may consist of people who routinely work and earn money, based on the peaks on these two days. Whatever the case, we can determine the correlation coefficient between the week and the amount paid on the 45th day from a feature perspective:"
   ]
  },
  {
   "cell_type": "code",
   "execution_count": 13,
   "id": "purple-adams",
   "metadata": {},
   "outputs": [
    {
     "data": {
      "text/html": [
       "<div>\n",
       "<style scoped>\n",
       "    .dataframe tbody tr th:only-of-type {\n",
       "        vertical-align: middle;\n",
       "    }\n",
       "\n",
       "    .dataframe tbody tr th {\n",
       "        vertical-align: top;\n",
       "    }\n",
       "\n",
       "    .dataframe thead th {\n",
       "        text-align: right;\n",
       "    }\n",
       "</style>\n",
       "<table border=\"1\" class=\"dataframe\">\n",
       "  <thead>\n",
       "    <tr style=\"text-align: right;\">\n",
       "      <th></th>\n",
       "      <th>prediction_pay_price</th>\n",
       "      <th>register_time</th>\n",
       "    </tr>\n",
       "  </thead>\n",
       "  <tbody>\n",
       "    <tr>\n",
       "      <th>prediction_pay_price</th>\n",
       "      <td>1.00000</td>\n",
       "      <td>0.00017</td>\n",
       "    </tr>\n",
       "    <tr>\n",
       "      <th>register_time</th>\n",
       "      <td>0.00017</td>\n",
       "      <td>1.00000</td>\n",
       "    </tr>\n",
       "  </tbody>\n",
       "</table>\n",
       "</div>"
      ],
      "text/plain": [
       "                      prediction_pay_price  register_time\n",
       "prediction_pay_price               1.00000        0.00017\n",
       "register_time                      0.00017        1.00000"
      ]
     },
     "execution_count": 13,
     "metadata": {},
     "output_type": "execute_result"
    }
   ],
   "source": [
    "pd.concat([data[\"prediction_pay_price\"],RegisterWeekday],axis=1).corr()"
   ]
  },
  {
   "cell_type": "markdown",
   "id": "proof-station",
   "metadata": {},
   "source": [
    "The correlation coefficient is very very small, and the two are almost irrelevant, so we don't need to put the week into the feature matrix."
   ]
  },
  {
   "cell_type": "code",
   "execution_count": 14,
   "id": "historical-ghost",
   "metadata": {},
   "outputs": [],
   "source": [
    "RegisterTime = data.loc[:,\"register_time\"].apply(lambda x: int(x[11:13]))"
   ]
  },
  {
   "cell_type": "code",
   "execution_count": 15,
   "id": "graphic-clearance",
   "metadata": {},
   "outputs": [
    {
     "data": {
      "text/plain": [
       "0          19\n",
       "1           0\n",
       "2           0\n",
       "3           0\n",
       "4           0\n",
       "           ..\n",
       "2288002    14\n",
       "2288003    14\n",
       "2288004    14\n",
       "2288005    14\n",
       "2288006    14\n",
       "Name: register_time, Length: 2288007, dtype: int64"
      ]
     },
     "execution_count": 15,
     "metadata": {},
     "output_type": "execute_result"
    }
   ],
   "source": [
    "RegisterTime"
   ]
  },
  {
   "cell_type": "code",
   "execution_count": 16,
   "id": "mineral-electronics",
   "metadata": {},
   "outputs": [],
   "source": [
    "RegisterTimeMean = data[\"pay_price\"].groupby(RegisterTime).mean()"
   ]
  },
  {
   "cell_type": "code",
   "execution_count": 17,
   "id": "revolutionary-liberty",
   "metadata": {},
   "outputs": [
    {
     "data": {
      "text/plain": [
       "register_time\n",
       "0     0.542833\n",
       "1     0.432465\n",
       "2     0.350108\n",
       "3     0.400207\n",
       "4     0.390398\n",
       "5     0.426960\n",
       "6     0.427454\n",
       "7     0.363325\n",
       "8     0.370818\n",
       "9     0.334605\n",
       "10    1.268075\n",
       "11    1.027658\n",
       "12    0.726206\n",
       "13    0.520226\n",
       "14    0.570217\n",
       "15    0.640136\n",
       "16    0.725031\n",
       "17    0.449590\n",
       "18    0.464896\n",
       "19    0.382819\n",
       "20    0.388107\n",
       "21    0.432118\n",
       "22    0.598543\n",
       "23    0.570575\n",
       "Name: pay_price, dtype: float64"
      ]
     },
     "execution_count": 17,
     "metadata": {},
     "output_type": "execute_result"
    }
   ],
   "source": [
    "RegisterTimeMean"
   ]
  },
  {
   "cell_type": "code",
   "execution_count": 18,
   "id": "inclusive-behalf",
   "metadata": {},
   "outputs": [
    {
     "data": {
      "image/png": "[encoded data removed]",
      "text/plain": [
       "<Figure size 1500x300 with 1 Axes>"
      ]
     },
     "metadata": {
      "needs_background": "light"
     },
     "output_type": "display_data"
    }
   ],
   "source": [
    "plt.figure(figsize=(15,3),dpi=100)\n",
    "plt.title(\"The average value of user payment at different registration time\")\n",
    "plt.bar(RegisterTimeMean.index, RegisterTimeMean.values)\n",
    "plt.xticks(RegisterTimeMean.index,rotation=60,ha=\"right\");"
   ]
  },
  {
   "cell_type": "markdown",
   "id": "lyric-packaging",
   "metadata": {},
   "source": [
    "The ability to pay is higher for users who register between 10 am and 12 am and between 4 pm and 5 pm than for users who register at other times. This can be connected to the promotion medium, or it might actually be the timing of registration in relation to the price paid. By chance, the best time to unwind throughout the workday is between 10:00 and 4:00. You can decide the features of pertinent users to ascertain whether it is actually time and payment if you can ascertain which channels are now being advertised. "
   ]
  },
  {
   "cell_type": "code",
   "execution_count": 19,
   "id": "italic-option",
   "metadata": {},
   "outputs": [
    {
     "data": {
      "text/html": [
       "<div>\n",
       "<style scoped>\n",
       "    .dataframe tbody tr th:only-of-type {\n",
       "        vertical-align: middle;\n",
       "    }\n",
       "\n",
       "    .dataframe tbody tr th {\n",
       "        vertical-align: top;\n",
       "    }\n",
       "\n",
       "    .dataframe thead th {\n",
       "        text-align: right;\n",
       "    }\n",
       "</style>\n",
       "<table border=\"1\" class=\"dataframe\">\n",
       "  <thead>\n",
       "    <tr style=\"text-align: right;\">\n",
       "      <th></th>\n",
       "      <th>prediction_pay_price</th>\n",
       "      <th>register_time</th>\n",
       "    </tr>\n",
       "  </thead>\n",
       "  <tbody>\n",
       "    <tr>\n",
       "      <th>prediction_pay_price</th>\n",
       "      <td>1.000000</td>\n",
       "      <td>0.000708</td>\n",
       "    </tr>\n",
       "    <tr>\n",
       "      <th>register_time</th>\n",
       "      <td>0.000708</td>\n",
       "      <td>1.000000</td>\n",
       "    </tr>\n",
       "  </tbody>\n",
       "</table>\n",
       "</div>"
      ],
      "text/plain": [
       "                      prediction_pay_price  register_time\n",
       "prediction_pay_price              1.000000       0.000708\n",
       "register_time                     0.000708       1.000000"
      ]
     },
     "execution_count": 19,
     "metadata": {},
     "output_type": "execute_result"
    }
   ],
   "source": [
    "pd.concat([data[\"prediction_pay_price\"],RegisterTime],axis=1).corr()"
   ]
  },
  {
   "cell_type": "markdown",
   "id": "large-therapy",
   "metadata": {},
   "source": [
    "Registration time seems to have a weak association with payment amount, therefore we can use it for modeling."
   ]
  },
  {
   "cell_type": "code",
   "execution_count": 20,
   "id": "mexican-visibility",
   "metadata": {},
   "outputs": [],
   "source": [
    "data.insert(data.shape[1]-1,\"register_clock\",RegisterTime) "
   ]
  },
  {
   "cell_type": "code",
   "execution_count": 21,
   "id": "ruled-blade",
   "metadata": {},
   "outputs": [],
   "source": [
    "data.drop(columns=[\"register_time\",\"user_id\"],inplace=True) "
   ]
  },
  {
   "cell_type": "markdown",
   "id": "nervous-medium",
   "metadata": {},
   "source": [
    "# 3. Selection of Model"
   ]
  },
  {
   "cell_type": "code",
   "execution_count": 22,
   "id": "descending-mortgage",
   "metadata": {},
   "outputs": [],
   "source": [
    "from sklearn.linear_model import LinearRegression as LR\n",
    "from sklearn.model_selection import train_test_split as TTS \n",
    "from sklearn.metrics import mean_squared_error as MSE\n",
    "from sklearn.ensemble import RandomForestRegressor as RFR\n",
    "from sklearn.preprocessing import MinMaxScaler"
   ]
  },
  {
   "cell_type": "code",
   "execution_count": 54,
   "id": "dimensional-infrared",
   "metadata": {},
   "outputs": [],
   "source": [
    "X = data.iloc[:,:-1]\n",
    "y = data.iloc[:,-1]"
   ]
  },
  {
   "cell_type": "code",
   "execution_count": 55,
   "id": "controlling-tourism",
   "metadata": {},
   "outputs": [],
   "source": [
    "Xtrain, Xtest, Ytrain, Ytest = TTS(X,y,test_size=0.3,random_state=1412)"
   ]
  },
  {
   "cell_type": "code",
   "execution_count": 56,
   "id": "cooked-daisy",
   "metadata": {},
   "outputs": [
    {
     "data": {
      "text/html": [
       "<div>\n",
       "<style scoped>\n",
       "    .dataframe tbody tr th:only-of-type {\n",
       "        vertical-align: middle;\n",
       "    }\n",
       "\n",
       "    .dataframe tbody tr th {\n",
       "        vertical-align: top;\n",
       "    }\n",
       "\n",
       "    .dataframe thead th {\n",
       "        text-align: right;\n",
       "    }\n",
       "</style>\n",
       "<table border=\"1\" class=\"dataframe\">\n",
       "  <thead>\n",
       "    <tr style=\"text-align: right;\">\n",
       "      <th></th>\n",
       "      <th>wood_add_value</th>\n",
       "      <th>wood_reduce_value</th>\n",
       "      <th>stone_add_value</th>\n",
       "      <th>stone_reduce_value</th>\n",
       "      <th>ivory_add_value</th>\n",
       "      <th>ivory_reduce_value</th>\n",
       "      <th>meat_add_value</th>\n",
       "      <th>meat_reduce_value</th>\n",
       "      <th>magic_add_value</th>\n",
       "      <th>magic_reduce_value</th>\n",
       "      <th>...</th>\n",
       "      <th>pvp_battle_count</th>\n",
       "      <th>pvp_lanch_count</th>\n",
       "      <th>pvp_win_count</th>\n",
       "      <th>pve_battle_count</th>\n",
       "      <th>pve_lanch_count</th>\n",
       "      <th>pve_win_count</th>\n",
       "      <th>avg_online_minutes</th>\n",
       "      <th>pay_price</th>\n",
       "      <th>pay_count</th>\n",
       "      <th>register_clock</th>\n",
       "    </tr>\n",
       "  </thead>\n",
       "  <tbody>\n",
       "    <tr>\n",
       "      <th>243592</th>\n",
       "      <td>10000.0</td>\n",
       "      <td>600.0</td>\n",
       "      <td>0.0</td>\n",
       "      <td>0.0</td>\n",
       "      <td>0.0</td>\n",
       "      <td>0.0</td>\n",
       "      <td>10000.0</td>\n",
       "      <td>400.0</td>\n",
       "      <td>0.0</td>\n",
       "      <td>0.0</td>\n",
       "      <td>...</td>\n",
       "      <td>0</td>\n",
       "      <td>0</td>\n",
       "      <td>0</td>\n",
       "      <td>0</td>\n",
       "      <td>0</td>\n",
       "      <td>0</td>\n",
       "      <td>0.166667</td>\n",
       "      <td>0.00</td>\n",
       "      <td>0</td>\n",
       "      <td>19</td>\n",
       "    </tr>\n",
       "    <tr>\n",
       "      <th>361662</th>\n",
       "      <td>39038.0</td>\n",
       "      <td>8750.0</td>\n",
       "      <td>0.0</td>\n",
       "      <td>0.0</td>\n",
       "      <td>3000.0</td>\n",
       "      <td>0.0</td>\n",
       "      <td>42434.0</td>\n",
       "      <td>6060.0</td>\n",
       "      <td>0.0</td>\n",
       "      <td>0.0</td>\n",
       "      <td>...</td>\n",
       "      <td>1</td>\n",
       "      <td>0</td>\n",
       "      <td>0</td>\n",
       "      <td>1</td>\n",
       "      <td>1</td>\n",
       "      <td>1</td>\n",
       "      <td>0.833333</td>\n",
       "      <td>0.00</td>\n",
       "      <td>0</td>\n",
       "      <td>12</td>\n",
       "    </tr>\n",
       "    <tr>\n",
       "      <th>1319519</th>\n",
       "      <td>10000.0</td>\n",
       "      <td>1600.0</td>\n",
       "      <td>0.0</td>\n",
       "      <td>0.0</td>\n",
       "      <td>0.0</td>\n",
       "      <td>0.0</td>\n",
       "      <td>10000.0</td>\n",
       "      <td>900.0</td>\n",
       "      <td>0.0</td>\n",
       "      <td>0.0</td>\n",
       "      <td>...</td>\n",
       "      <td>0</td>\n",
       "      <td>0</td>\n",
       "      <td>0</td>\n",
       "      <td>0</td>\n",
       "      <td>0</td>\n",
       "      <td>0</td>\n",
       "      <td>0.166667</td>\n",
       "      <td>0.00</td>\n",
       "      <td>0</td>\n",
       "      <td>15</td>\n",
       "    </tr>\n",
       "    <tr>\n",
       "      <th>276423</th>\n",
       "      <td>26625.0</td>\n",
       "      <td>6900.0</td>\n",
       "      <td>0.0</td>\n",
       "      <td>0.0</td>\n",
       "      <td>0.0</td>\n",
       "      <td>0.0</td>\n",
       "      <td>31625.0</td>\n",
       "      <td>3900.0</td>\n",
       "      <td>0.0</td>\n",
       "      <td>0.0</td>\n",
       "      <td>...</td>\n",
       "      <td>1</td>\n",
       "      <td>1</td>\n",
       "      <td>0</td>\n",
       "      <td>0</td>\n",
       "      <td>0</td>\n",
       "      <td>0</td>\n",
       "      <td>4.500000</td>\n",
       "      <td>0.00</td>\n",
       "      <td>0</td>\n",
       "      <td>9</td>\n",
       "    </tr>\n",
       "    <tr>\n",
       "      <th>1060863</th>\n",
       "      <td>0.0</td>\n",
       "      <td>0.0</td>\n",
       "      <td>0.0</td>\n",
       "      <td>0.0</td>\n",
       "      <td>0.0</td>\n",
       "      <td>0.0</td>\n",
       "      <td>0.0</td>\n",
       "      <td>0.0</td>\n",
       "      <td>0.0</td>\n",
       "      <td>0.0</td>\n",
       "      <td>...</td>\n",
       "      <td>0</td>\n",
       "      <td>0</td>\n",
       "      <td>0</td>\n",
       "      <td>0</td>\n",
       "      <td>0</td>\n",
       "      <td>0</td>\n",
       "      <td>0.666667</td>\n",
       "      <td>0.00</td>\n",
       "      <td>0</td>\n",
       "      <td>4</td>\n",
       "    </tr>\n",
       "    <tr>\n",
       "      <th>...</th>\n",
       "      <td>...</td>\n",
       "      <td>...</td>\n",
       "      <td>...</td>\n",
       "      <td>...</td>\n",
       "      <td>...</td>\n",
       "      <td>...</td>\n",
       "      <td>...</td>\n",
       "      <td>...</td>\n",
       "      <td>...</td>\n",
       "      <td>...</td>\n",
       "      <td>...</td>\n",
       "      <td>...</td>\n",
       "      <td>...</td>\n",
       "      <td>...</td>\n",
       "      <td>...</td>\n",
       "      <td>...</td>\n",
       "      <td>...</td>\n",
       "      <td>...</td>\n",
       "      <td>...</td>\n",
       "      <td>...</td>\n",
       "      <td>...</td>\n",
       "    </tr>\n",
       "    <tr>\n",
       "      <th>811115</th>\n",
       "      <td>536163.0</td>\n",
       "      <td>293306.0</td>\n",
       "      <td>200000.0</td>\n",
       "      <td>0.0</td>\n",
       "      <td>200000.0</td>\n",
       "      <td>0.0</td>\n",
       "      <td>924347.0</td>\n",
       "      <td>142940.0</td>\n",
       "      <td>68527.0</td>\n",
       "      <td>0.0</td>\n",
       "      <td>...</td>\n",
       "      <td>0</td>\n",
       "      <td>0</td>\n",
       "      <td>0</td>\n",
       "      <td>0</td>\n",
       "      <td>0</td>\n",
       "      <td>0</td>\n",
       "      <td>3.833333</td>\n",
       "      <td>0.00</td>\n",
       "      <td>0</td>\n",
       "      <td>10</td>\n",
       "    </tr>\n",
       "    <tr>\n",
       "      <th>1020414</th>\n",
       "      <td>66454812.0</td>\n",
       "      <td>64088438.0</td>\n",
       "      <td>54320006.0</td>\n",
       "      <td>53147620.0</td>\n",
       "      <td>24646328.0</td>\n",
       "      <td>26678007.0</td>\n",
       "      <td>57994939.0</td>\n",
       "      <td>62842090.0</td>\n",
       "      <td>7988873.0</td>\n",
       "      <td>8225235.0</td>\n",
       "      <td>...</td>\n",
       "      <td>81</td>\n",
       "      <td>72</td>\n",
       "      <td>72</td>\n",
       "      <td>117</td>\n",
       "      <td>110</td>\n",
       "      <td>116</td>\n",
       "      <td>306.833333</td>\n",
       "      <td>196.84</td>\n",
       "      <td>16</td>\n",
       "      <td>1</td>\n",
       "    </tr>\n",
       "    <tr>\n",
       "      <th>1343864</th>\n",
       "      <td>613569.0</td>\n",
       "      <td>407274.0</td>\n",
       "      <td>200000.0</td>\n",
       "      <td>0.0</td>\n",
       "      <td>203000.0</td>\n",
       "      <td>0.0</td>\n",
       "      <td>1556143.0</td>\n",
       "      <td>799600.0</td>\n",
       "      <td>60000.0</td>\n",
       "      <td>0.0</td>\n",
       "      <td>...</td>\n",
       "      <td>0</td>\n",
       "      <td>0</td>\n",
       "      <td>0</td>\n",
       "      <td>2</td>\n",
       "      <td>2</td>\n",
       "      <td>2</td>\n",
       "      <td>5.333333</td>\n",
       "      <td>0.00</td>\n",
       "      <td>0</td>\n",
       "      <td>10</td>\n",
       "    </tr>\n",
       "    <tr>\n",
       "      <th>982704</th>\n",
       "      <td>167780.0</td>\n",
       "      <td>98106.0</td>\n",
       "      <td>0.0</td>\n",
       "      <td>0.0</td>\n",
       "      <td>1000.0</td>\n",
       "      <td>0.0</td>\n",
       "      <td>181713.0</td>\n",
       "      <td>82245.0</td>\n",
       "      <td>1200.0</td>\n",
       "      <td>0.0</td>\n",
       "      <td>...</td>\n",
       "      <td>0</td>\n",
       "      <td>0</td>\n",
       "      <td>0</td>\n",
       "      <td>1</td>\n",
       "      <td>1</td>\n",
       "      <td>1</td>\n",
       "      <td>6.166667</td>\n",
       "      <td>0.00</td>\n",
       "      <td>0</td>\n",
       "      <td>4</td>\n",
       "    </tr>\n",
       "    <tr>\n",
       "      <th>574098</th>\n",
       "      <td>569758.0</td>\n",
       "      <td>412618.0</td>\n",
       "      <td>10000.0</td>\n",
       "      <td>0.0</td>\n",
       "      <td>3000.0</td>\n",
       "      <td>0.0</td>\n",
       "      <td>702940.0</td>\n",
       "      <td>244182.0</td>\n",
       "      <td>81944.0</td>\n",
       "      <td>38635.0</td>\n",
       "      <td>...</td>\n",
       "      <td>4</td>\n",
       "      <td>0</td>\n",
       "      <td>0</td>\n",
       "      <td>11</td>\n",
       "      <td>11</td>\n",
       "      <td>8</td>\n",
       "      <td>14.166667</td>\n",
       "      <td>0.00</td>\n",
       "      <td>0</td>\n",
       "      <td>19</td>\n",
       "    </tr>\n",
       "  </tbody>\n",
       "</table>\n",
       "<p>1601604 rows × 107 columns</p>\n",
       "</div>"
      ],
      "text/plain": [
       "         wood_add_value  wood_reduce_value  stone_add_value  \\\n",
       "243592          10000.0              600.0              0.0   \n",
       "361662          39038.0             8750.0              0.0   \n",
       "1319519         10000.0             1600.0              0.0   \n",
       "276423          26625.0             6900.0              0.0   \n",
       "1060863             0.0                0.0              0.0   \n",
       "...                 ...                ...              ...   \n",
       "811115         536163.0           293306.0         200000.0   \n",
       "1020414      66454812.0         64088438.0       54320006.0   \n",
       "1343864        613569.0           407274.0         200000.0   \n",
       "982704         167780.0            98106.0              0.0   \n",
       "574098         569758.0           412618.0          10000.0   \n",
       "\n",
       "         stone_reduce_value  ivory_add_value  ivory_reduce_value  \\\n",
       "243592                  0.0              0.0                 0.0   \n",
       "361662                  0.0           3000.0                 0.0   \n",
       "1319519                 0.0              0.0                 0.0   \n",
       "276423                  0.0              0.0                 0.0   \n",
       "1060863                 0.0              0.0                 0.0   \n",
       "...                     ...              ...                 ...   \n",
       "811115                  0.0         200000.0                 0.0   \n",
       "1020414          53147620.0       24646328.0          26678007.0   \n",
       "1343864                 0.0         203000.0                 0.0   \n",
       "982704                  0.0           1000.0                 0.0   \n",
       "574098                  0.0           3000.0                 0.0   \n",
       "\n",
       "         meat_add_value  meat_reduce_value  magic_add_value  \\\n",
       "243592          10000.0              400.0              0.0   \n",
       "361662          42434.0             6060.0              0.0   \n",
       "1319519         10000.0              900.0              0.0   \n",
       "276423          31625.0             3900.0              0.0   \n",
       "1060863             0.0                0.0              0.0   \n",
       "...                 ...                ...              ...   \n",
       "811115         924347.0           142940.0          68527.0   \n",
       "1020414      57994939.0         62842090.0        7988873.0   \n",
       "1343864       1556143.0           799600.0          60000.0   \n",
       "982704         181713.0            82245.0           1200.0   \n",
       "574098         702940.0           244182.0          81944.0   \n",
       "\n",
       "         magic_reduce_value  ...  pvp_battle_count  pvp_lanch_count  \\\n",
       "243592                  0.0  ...                 0                0   \n",
       "361662                  0.0  ...                 1                0   \n",
       "1319519                 0.0  ...                 0                0   \n",
       "276423                  0.0  ...                 1                1   \n",
       "1060863                 0.0  ...                 0                0   \n",
       "...                     ...  ...               ...              ...   \n",
       "811115                  0.0  ...                 0                0   \n",
       "1020414           8225235.0  ...                81               72   \n",
       "1343864                 0.0  ...                 0                0   \n",
       "982704                  0.0  ...                 0                0   \n",
       "574098              38635.0  ...                 4                0   \n",
       "\n",
       "         pvp_win_count  pve_battle_count  pve_lanch_count  pve_win_count  \\\n",
       "243592               0                 0                0              0   \n",
       "361662               0                 1                1              1   \n",
       "1319519              0                 0                0              0   \n",
       "276423               0                 0                0              0   \n",
       "1060863              0                 0                0              0   \n",
       "...                ...               ...              ...            ...   \n",
       "811115               0                 0                0              0   \n",
       "1020414             72               117              110            116   \n",
       "1343864              0                 2                2              2   \n",
       "982704               0                 1                1              1   \n",
       "574098               0                11               11              8   \n",
       "\n",
       "         avg_online_minutes  pay_price  pay_count  register_clock  \n",
       "243592             0.166667       0.00          0              19  \n",
       "361662             0.833333       0.00          0              12  \n",
       "1319519            0.166667       0.00          0              15  \n",
       "276423             4.500000       0.00          0               9  \n",
       "1060863            0.666667       0.00          0               4  \n",
       "...                     ...        ...        ...             ...  \n",
       "811115             3.833333       0.00          0              10  \n",
       "1020414          306.833333     196.84         16               1  \n",
       "1343864            5.333333       0.00          0              10  \n",
       "982704             6.166667       0.00          0               4  \n",
       "574098            14.166667       0.00          0              19  \n",
       "\n",
       "[1601604 rows x 107 columns]"
      ]
     },
     "execution_count": 56,
     "metadata": {},
     "output_type": "execute_result"
    }
   ],
   "source": [
    "Xtrain"
   ]
  },
  {
   "cell_type": "code",
   "execution_count": 57,
   "id": "personalized-scientist",
   "metadata": {},
   "outputs": [],
   "source": [
    "for i in [Xtrain, Xtest]:\n",
    "    i.index = range(i.shape[0])"
   ]
  },
  {
   "cell_type": "code",
   "execution_count": 58,
   "id": "dangerous-radiation",
   "metadata": {},
   "outputs": [],
   "source": [
    "reg = LR() "
   ]
  },
  {
   "cell_type": "code",
   "execution_count": 59,
   "id": "flush-klein",
   "metadata": {},
   "outputs": [],
   "source": [
    "reg_benchmark = reg.fit(Xtrain,Ytrain)"
   ]
  },
  {
   "cell_type": "code",
   "execution_count": 60,
   "id": "vanilla-organization",
   "metadata": {},
   "outputs": [
    {
     "data": {
      "text/plain": [
       "0.5604160157526339"
      ]
     },
     "execution_count": 60,
     "metadata": {},
     "output_type": "execute_result"
    }
   ],
   "source": [
    "reg_benchmark.score(Xtrain,Ytrain)"
   ]
  },
  {
   "cell_type": "code",
   "execution_count": 61,
   "id": "attempted-eight",
   "metadata": {},
   "outputs": [
    {
     "data": {
      "text/plain": [
       "0.5581998030191249"
      ]
     },
     "execution_count": 61,
     "metadata": {},
     "output_type": "execute_result"
    }
   ],
   "source": [
    "reg_benchmark.score(Xtest,Ytest) "
   ]
  },
  {
   "cell_type": "markdown",
   "id": "bridal-fossil",
   "metadata": {},
   "source": [
    "The training set and test set scores are low and similar, indicating underfitting. \n",
    "Simple linear model has several learning limitations."
   ]
  },
  {
   "cell_type": "code",
   "execution_count": 62,
   "id": "fancy-permission",
   "metadata": {},
   "outputs": [],
   "source": [
    "y_pred = reg_benchmark.predict(Xtest) "
   ]
  },
  {
   "cell_type": "code",
   "execution_count": 63,
   "id": "brave-gross",
   "metadata": {},
   "outputs": [
    {
     "data": {
      "text/plain": [
       "62.001161836601966"
      ]
     },
     "execution_count": 63,
     "metadata": {},
     "output_type": "execute_result"
    }
   ],
   "source": [
    "np.sqrt(MSE(Ytest,y_pred))"
   ]
  },
  {
   "cell_type": "code",
   "execution_count": 64,
   "id": "boxed-encyclopedia",
   "metadata": {},
   "outputs": [],
   "source": [
    "reg_tree = RFR(n_estimators=10,max_features=5) #100+，max_features=5"
   ]
  },
  {
   "cell_type": "code",
   "execution_count": 65,
   "id": "unauthorized-pitch",
   "metadata": {},
   "outputs": [
    {
     "data": {
      "text/plain": [
       "RandomForestRegressor(max_features=5, n_estimators=10)"
      ]
     },
     "execution_count": 65,
     "metadata": {},
     "output_type": "execute_result"
    }
   ],
   "source": [
    "reg_tree.fit(Xtrain,Ytrain)"
   ]
  },
  {
   "cell_type": "code",
   "execution_count": 66,
   "id": "comparable-whole",
   "metadata": {},
   "outputs": [
    {
     "data": {
      "text/plain": [
       "0.8791916938841412"
      ]
     },
     "execution_count": 66,
     "metadata": {},
     "output_type": "execute_result"
    }
   ],
   "source": [
    "reg_tree.score(Xtrain,Ytrain)"
   ]
  },
  {
   "cell_type": "code",
   "execution_count": 67,
   "id": "numeric-influence",
   "metadata": {},
   "outputs": [
    {
     "data": {
      "text/plain": [
       "0.4787697896126887"
      ]
     },
     "execution_count": 67,
     "metadata": {},
     "output_type": "execute_result"
    }
   ],
   "source": [
    "reg_tree.score(Xtest,Ytest)"
   ]
  },
  {
   "cell_type": "markdown",
   "id": "prime-night",
   "metadata": {},
   "source": [
    "Random forests are overfitting. Try to tune random forests against overfitting and try using tree models."
   ]
  },
  {
   "cell_type": "code",
   "execution_count": 68,
   "id": "latin-publicity",
   "metadata": {},
   "outputs": [],
   "source": [
    "y_pred = reg_tree.predict(Xtest)"
   ]
  },
  {
   "cell_type": "code",
   "execution_count": 69,
   "id": "spoken-married",
   "metadata": {},
   "outputs": [
    {
     "data": {
      "text/plain": [
       "67.34442743862002"
      ]
     },
     "execution_count": 69,
     "metadata": {},
     "output_type": "execute_result"
    }
   ],
   "source": [
    "np.sqrt(MSE(Ytest,y_pred))"
   ]
  },
  {
   "cell_type": "markdown",
   "id": "reflected-element",
   "metadata": {},
   "source": [
    "This is not a promising omen. In general, if a piece of data does better on the linear model and worse on the tree model, it means that the data follows the linear law and works better with models like linear regression and Bayesian. On the other hand, it means that the data are more like the nonlinear law, which is better for nonlinear models like tree models. But if the results from the tree model and the linear model are the same and neither is high, it means that the data itself is harder to learn. We can change some things about the random forest and see that the RMSE is still very high no matter what we do."
   ]
  },
  {
   "cell_type": "code",
   "execution_count": 70,
   "id": "short-trouble",
   "metadata": {},
   "outputs": [
    {
     "data": {
      "text/plain": [
       "68.75217043423905"
      ]
     },
     "execution_count": 70,
     "metadata": {},
     "output_type": "execute_result"
    }
   ],
   "source": [
    "reg_tree2 = RFR(n_estimators=20,max_features=5).fit(Xtrain,Ytrain) # increase trees\n",
    "np.sqrt(MSE(Ytest,reg_tree2.predict(Xtest)))"
   ]
  },
  {
   "cell_type": "code",
   "execution_count": 71,
   "id": "respiratory-guinea",
   "metadata": {},
   "outputs": [
    {
     "data": {
      "text/plain": [
       "71.6489982081048"
      ]
     },
     "execution_count": 71,
     "metadata": {},
     "output_type": "execute_result"
    }
   ],
   "source": [
    "reg_tree3 = RFR(n_estimators=20,max_depth=2,max_features=5).fit(Xtrain,Ytrain) # control the max depth\n",
    "np.sqrt(MSE(Ytest,reg_tree3.predict(Xtest)))"
   ]
  },
  {
   "cell_type": "markdown",
   "id": "limiting-thirty",
   "metadata": {},
   "source": [
    "If linear regression is found to be the best model when the benchmark is set, there isn't much room to change anything because linear regression has almost no parameters that can be changed. When faced with this kind of data, it is either to spend a lot of time building features or to use neural networks. But in any case, it is first to do everything to get the RMSE of the dataset as low as possible."
   ]
  },
  {
   "cell_type": "markdown",
   "id": "experienced-spanking",
   "metadata": {},
   "source": [
    "# 4. Data Engineering"
   ]
  },
  {
   "cell_type": "markdown",
   "id": "isolated-causing",
   "metadata": {},
   "source": [
    "## 4.1 Create Features Based On Data Analysis"
   ]
  },
  {
   "cell_type": "code",
   "execution_count": 72,
   "id": "registered-chest",
   "metadata": {},
   "outputs": [],
   "source": [
    "GrowthFeature = [] # Growth \n",
    "for i in X.columns:\n",
    "    if \"add\" in i:\n",
    "        GrowthFeature.append(i)\n",
    "#     elif \"reduce\" in i:\n",
    "#         GrowthFeature.append(i)"
   ]
  },
  {
   "cell_type": "code",
   "execution_count": 73,
   "id": "painted-pharmacy",
   "metadata": {},
   "outputs": [],
   "source": [
    "LevelUpFeature = [] # Level \n",
    "for i in X.columns:\n",
    "    if \"bd_\" in i:\n",
    "        LevelUpFeature.append(i)\n",
    "    elif \"sr_\" in i:\n",
    "        LevelUpFeature.append(i)"
   ]
  },
  {
   "cell_type": "code",
   "execution_count": 74,
   "id": "right-newfoundland",
   "metadata": {},
   "outputs": [
    {
     "data": {
      "text/plain": [
       "['wood_add_value',\n",
       " 'stone_add_value',\n",
       " 'ivory_add_value',\n",
       " 'meat_add_value',\n",
       " 'magic_add_value',\n",
       " 'infantry_add_value',\n",
       " 'cavalry_add_value',\n",
       " 'shaman_add_value',\n",
       " 'wound_infantry_add_value',\n",
       " 'wound_cavalry_add_value',\n",
       " 'wound_shaman_add_value',\n",
       " 'general_acceleration_add_value',\n",
       " 'building_acceleration_add_value',\n",
       " 'reaserch_acceleration_add_value',\n",
       " 'training_acceleration_add_value',\n",
       " 'treatment_acceleraion_add_value']"
      ]
     },
     "execution_count": 74,
     "metadata": {},
     "output_type": "execute_result"
    }
   ],
   "source": [
    "GrowthFeature"
   ]
  },
  {
   "cell_type": "code",
   "execution_count": 75,
   "id": "sitting-rabbit",
   "metadata": {},
   "outputs": [
    {
     "data": {
      "text/plain": [
       "['bd_training_hut_level',\n",
       " 'bd_healing_lodge_level',\n",
       " 'bd_stronghold_level',\n",
       " 'bd_outpost_portal_level',\n",
       " 'bd_barrack_level',\n",
       " 'bd_healing_spring_level',\n",
       " 'bd_dolmen_level',\n",
       " 'bd_guest_cavern_level',\n",
       " 'bd_warehouse_level',\n",
       " 'bd_watchtower_level',\n",
       " 'bd_magic_coin_tree_level',\n",
       " 'bd_hall_of_war_level',\n",
       " 'bd_market_level',\n",
       " 'bd_hero_gacha_level',\n",
       " 'bd_hero_strengthen_level',\n",
       " 'bd_hero_pve_level',\n",
       " 'sr_scout_level',\n",
       " 'sr_training_speed_level',\n",
       " 'sr_infantry_tier_2_level',\n",
       " 'sr_cavalry_tier_2_level',\n",
       " 'sr_shaman_tier_2_level',\n",
       " 'sr_infantry_atk_level',\n",
       " 'sr_cavalry_atk_level',\n",
       " 'sr_shaman_atk_level',\n",
       " 'sr_infantry_tier_3_level',\n",
       " 'sr_cavalry_tier_3_level',\n",
       " 'sr_shaman_tier_3_level',\n",
       " 'sr_troop_defense_level',\n",
       " 'sr_infantry_def_level',\n",
       " 'sr_cavalry_def_level',\n",
       " 'sr_shaman_def_level',\n",
       " 'sr_infantry_hp_level',\n",
       " 'sr_cavalry_hp_level',\n",
       " 'sr_shaman_hp_level',\n",
       " 'sr_infantry_tier_4_level',\n",
       " 'sr_cavalry_tier_4_level',\n",
       " 'sr_shaman_tier_4_level',\n",
       " 'sr_troop_attack_level',\n",
       " 'sr_construction_speed_level',\n",
       " 'sr_hide_storage_level',\n",
       " 'sr_troop_consumption_level',\n",
       " 'sr_rss_a_prod_levell',\n",
       " 'sr_rss_b_prod_level',\n",
       " 'sr_rss_c_prod_level',\n",
       " 'sr_rss_d_prod_level',\n",
       " 'sr_rss_a_gather_level',\n",
       " 'sr_rss_b_gather_level',\n",
       " 'sr_rss_c_gather_level',\n",
       " 'sr_rss_d_gather_level',\n",
       " 'sr_troop_load_level',\n",
       " 'sr_rss_e_gather_level',\n",
       " 'sr_rss_e_prod_level',\n",
       " 'sr_outpost_durability_level',\n",
       " 'sr_outpost_tier_2_level',\n",
       " 'sr_healing_space_level',\n",
       " 'sr_gathering_hunter_buff_level',\n",
       " 'sr_healing_speed_level',\n",
       " 'sr_outpost_tier_3_level',\n",
       " 'sr_alliance_march_speed_level',\n",
       " 'sr_pvp_march_speed_level',\n",
       " 'sr_gathering_march_speed_level',\n",
       " 'sr_outpost_tier_4_level',\n",
       " 'sr_guest_troop_capacity_level',\n",
       " 'sr_march_size_level',\n",
       " 'sr_rss_help_bonus_level']"
      ]
     },
     "execution_count": 75,
     "metadata": {},
     "output_type": "execute_result"
    }
   ],
   "source": [
    "LevelUpFeature"
   ]
  },
  {
   "cell_type": "code",
   "execution_count": 76,
   "id": "lesser-nutrition",
   "metadata": {},
   "outputs": [],
   "source": [
    "X[\"pvp_win_rate\"] = X[\"pvp_win_count\"]/X[\"pvp_battle_count\"]\n",
    "X[\"pvp_launch_rate\"] = X[\"pvp_lanch_count\"]/X[\"pvp_battle_count\"]\n",
    "X[\"growth_efficiency\"] = X.loc[:,GrowthFeature].mean(axis=1)/X[\"avg_online_minutes\"]\n",
    "X[\"pay_growth_efficiency\"] = X.loc[:,GrowthFeature].mean(axis=1)/X[\"pay_price\"]\n",
    "X[\"level_efficiency\"] = X.loc[:,LevelUpFeature].mean(axis=1)/X[\"avg_online_minutes\"]\n",
    "X[\"pay_level_efficiency\"] = X.loc[:,LevelUpFeature].mean(axis=1)/X[\"pay_price\"]"
   ]
  },
  {
   "cell_type": "code",
   "execution_count": 77,
   "id": "according-convertible",
   "metadata": {},
   "outputs": [],
   "source": [
    "# handling of division by 0 errors ; handling of extreme value errors\n",
    "for newfeature in [\"pvp_win_rate\",\"pvp_launch_rate\",\"growth_efficiency\",\"level_efficiency\",\"pay_growth_efficiency\",\"pay_level_efficiency\"]:\n",
    "    X.loc[X[newfeature].isnull(),newfeature] = 0\n",
    "    X.loc[X[newfeature] == float(\"inf\"), newfeature] = 0"
   ]
  },
  {
   "cell_type": "code",
   "execution_count": 78,
   "id": "fluid-province",
   "metadata": {},
   "outputs": [
    {
     "ename": "KeyError",
     "evalue": "'PVP_launch_rate'",
     "output_type": "error",
     "traceback": [
      "\u001b[0;31m---------------------------------------------------------------------------\u001b[0m",
      "\u001b[0;31mKeyError\u001b[0m                                  Traceback (most recent call last)",
      "\u001b[0;32m/Library/Frameworks/Python.framework/Versions/3.7/lib/python3.7/site-packages/pandas/core/indexes/base.py\u001b[0m in \u001b[0;36mget_loc\u001b[0;34m(self, key, method, tolerance)\u001b[0m\n\u001b[1;32m   3360\u001b[0m             \u001b[0;32mtry\u001b[0m\u001b[0;34m:\u001b[0m\u001b[0;34m\u001b[0m\u001b[0;34m\u001b[0m\u001b[0m\n\u001b[0;32m-> 3361\u001b[0;31m                 \u001b[0;32mreturn\u001b[0m \u001b[0mself\u001b[0m\u001b[0;34m.\u001b[0m\u001b[0m_engine\u001b[0m\u001b[0;34m.\u001b[0m\u001b[0mget_loc\u001b[0m\u001b[0;34m(\u001b[0m\u001b[0mcasted_key\u001b[0m\u001b[0;34m)\u001b[0m\u001b[0;34m\u001b[0m\u001b[0;34m\u001b[0m\u001b[0m\n\u001b[0m\u001b[1;32m   3362\u001b[0m             \u001b[0;32mexcept\u001b[0m \u001b[0mKeyError\u001b[0m \u001b[0;32mas\u001b[0m \u001b[0merr\u001b[0m\u001b[0;34m:\u001b[0m\u001b[0;34m\u001b[0m\u001b[0;34m\u001b[0m\u001b[0m\n",
      "\u001b[0;32m/Library/Frameworks/Python.framework/Versions/3.7/lib/python3.7/site-packages/pandas/_libs/index.pyx\u001b[0m in \u001b[0;36mpandas._libs.index.IndexEngine.get_loc\u001b[0;34m()\u001b[0m\n",
      "\u001b[0;32m/Library/Frameworks/Python.framework/Versions/3.7/lib/python3.7/site-packages/pandas/_libs/index.pyx\u001b[0m in \u001b[0;36mpandas._libs.index.IndexEngine.get_loc\u001b[0;34m()\u001b[0m\n",
      "\u001b[0;32mpandas/_libs/hashtable_class_helper.pxi\u001b[0m in \u001b[0;36mpandas._libs.hashtable.PyObjectHashTable.get_item\u001b[0;34m()\u001b[0m\n",
      "\u001b[0;32mpandas/_libs/hashtable_class_helper.pxi\u001b[0m in \u001b[0;36mpandas._libs.hashtable.PyObjectHashTable.get_item\u001b[0;34m()\u001b[0m\n",
      "\u001b[0;31mKeyError\u001b[0m: 'PVP_launch_rate'",
      "\nThe above exception was the direct cause of the following exception:\n",
      "\u001b[0;31mKeyError\u001b[0m                                  Traceback (most recent call last)",
      "\u001b[0;32m<ipython-input-78-7c76ab4cc4f5>\u001b[0m in \u001b[0;36m<module>\u001b[0;34m\u001b[0m\n\u001b[1;32m      1\u001b[0m \u001b[0;31m# high-value\u001b[0m\u001b[0;34m\u001b[0m\u001b[0;34m\u001b[0m\u001b[0;34m\u001b[0m\u001b[0m\n\u001b[1;32m      2\u001b[0m \u001b[0mX\u001b[0m\u001b[0;34m[\u001b[0m\u001b[0;34m\"high_pay\"\u001b[0m\u001b[0;34m]\u001b[0m \u001b[0;34m=\u001b[0m \u001b[0;34m(\u001b[0m\u001b[0mX\u001b[0m\u001b[0;34m[\u001b[0m\u001b[0;34m\"pay_price\"\u001b[0m\u001b[0;34m]\u001b[0m \u001b[0;34m>=\u001b[0m \u001b[0;36m5.98\u001b[0m\u001b[0;34m)\u001b[0m\u001b[0;34m.\u001b[0m\u001b[0mastype\u001b[0m\u001b[0;34m(\u001b[0m\u001b[0mint\u001b[0m\u001b[0;34m)\u001b[0m\u001b[0;34m\u001b[0m\u001b[0;34m\u001b[0m\u001b[0m\n\u001b[0;32m----> 3\u001b[0;31m \u001b[0mX\u001b[0m\u001b[0;34m[\u001b[0m\u001b[0;34m\"high_play\"\u001b[0m\u001b[0;34m]\u001b[0m \u001b[0;34m=\u001b[0m \u001b[0;34m(\u001b[0m\u001b[0mX\u001b[0m\u001b[0;34m[\u001b[0m\u001b[0;34m\"PVP_launch_rate\"\u001b[0m\u001b[0;34m]\u001b[0m \u001b[0;34m>=\u001b[0m \u001b[0;36m0.5\u001b[0m\u001b[0;34m)\u001b[0m\u001b[0;34m.\u001b[0m\u001b[0mastype\u001b[0m\u001b[0;34m(\u001b[0m\u001b[0mint\u001b[0m\u001b[0;34m)\u001b[0m\u001b[0;34m\u001b[0m\u001b[0;34m\u001b[0m\u001b[0m\n\u001b[0m\u001b[1;32m      4\u001b[0m \u001b[0;34m\u001b[0m\u001b[0m\n\u001b[1;32m      5\u001b[0m \u001b[0;31m# low-value\u001b[0m\u001b[0;34m\u001b[0m\u001b[0;34m\u001b[0m\u001b[0;34m\u001b[0m\u001b[0m\n",
      "\u001b[0;32m/Library/Frameworks/Python.framework/Versions/3.7/lib/python3.7/site-packages/pandas/core/frame.py\u001b[0m in \u001b[0;36m__getitem__\u001b[0;34m(self, key)\u001b[0m\n\u001b[1;32m   3453\u001b[0m             \u001b[0;32mif\u001b[0m \u001b[0mself\u001b[0m\u001b[0;34m.\u001b[0m\u001b[0mcolumns\u001b[0m\u001b[0;34m.\u001b[0m\u001b[0mnlevels\u001b[0m \u001b[0;34m>\u001b[0m \u001b[0;36m1\u001b[0m\u001b[0;34m:\u001b[0m\u001b[0;34m\u001b[0m\u001b[0;34m\u001b[0m\u001b[0m\n\u001b[1;32m   3454\u001b[0m                 \u001b[0;32mreturn\u001b[0m \u001b[0mself\u001b[0m\u001b[0;34m.\u001b[0m\u001b[0m_getitem_multilevel\u001b[0m\u001b[0;34m(\u001b[0m\u001b[0mkey\u001b[0m\u001b[0;34m)\u001b[0m\u001b[0;34m\u001b[0m\u001b[0;34m\u001b[0m\u001b[0m\n\u001b[0;32m-> 3455\u001b[0;31m             \u001b[0mindexer\u001b[0m \u001b[0;34m=\u001b[0m \u001b[0mself\u001b[0m\u001b[0;34m.\u001b[0m\u001b[0mcolumns\u001b[0m\u001b[0;34m.\u001b[0m\u001b[0mget_loc\u001b[0m\u001b[0;34m(\u001b[0m\u001b[0mkey\u001b[0m\u001b[0;34m)\u001b[0m\u001b[0;34m\u001b[0m\u001b[0;34m\u001b[0m\u001b[0m\n\u001b[0m\u001b[1;32m   3456\u001b[0m             \u001b[0;32mif\u001b[0m \u001b[0mis_integer\u001b[0m\u001b[0;34m(\u001b[0m\u001b[0mindexer\u001b[0m\u001b[0;34m)\u001b[0m\u001b[0;34m:\u001b[0m\u001b[0;34m\u001b[0m\u001b[0;34m\u001b[0m\u001b[0m\n\u001b[1;32m   3457\u001b[0m                 \u001b[0mindexer\u001b[0m \u001b[0;34m=\u001b[0m \u001b[0;34m[\u001b[0m\u001b[0mindexer\u001b[0m\u001b[0;34m]\u001b[0m\u001b[0;34m\u001b[0m\u001b[0;34m\u001b[0m\u001b[0m\n",
      "\u001b[0;32m/Library/Frameworks/Python.framework/Versions/3.7/lib/python3.7/site-packages/pandas/core/indexes/base.py\u001b[0m in \u001b[0;36mget_loc\u001b[0;34m(self, key, method, tolerance)\u001b[0m\n\u001b[1;32m   3361\u001b[0m                 \u001b[0;32mreturn\u001b[0m \u001b[0mself\u001b[0m\u001b[0;34m.\u001b[0m\u001b[0m_engine\u001b[0m\u001b[0;34m.\u001b[0m\u001b[0mget_loc\u001b[0m\u001b[0;34m(\u001b[0m\u001b[0mcasted_key\u001b[0m\u001b[0;34m)\u001b[0m\u001b[0;34m\u001b[0m\u001b[0;34m\u001b[0m\u001b[0m\n\u001b[1;32m   3362\u001b[0m             \u001b[0;32mexcept\u001b[0m \u001b[0mKeyError\u001b[0m \u001b[0;32mas\u001b[0m \u001b[0merr\u001b[0m\u001b[0;34m:\u001b[0m\u001b[0;34m\u001b[0m\u001b[0;34m\u001b[0m\u001b[0m\n\u001b[0;32m-> 3363\u001b[0;31m                 \u001b[0;32mraise\u001b[0m \u001b[0mKeyError\u001b[0m\u001b[0;34m(\u001b[0m\u001b[0mkey\u001b[0m\u001b[0;34m)\u001b[0m \u001b[0;32mfrom\u001b[0m \u001b[0merr\u001b[0m\u001b[0;34m\u001b[0m\u001b[0;34m\u001b[0m\u001b[0m\n\u001b[0m\u001b[1;32m   3364\u001b[0m \u001b[0;34m\u001b[0m\u001b[0m\n\u001b[1;32m   3365\u001b[0m         \u001b[0;32mif\u001b[0m \u001b[0mis_scalar\u001b[0m\u001b[0;34m(\u001b[0m\u001b[0mkey\u001b[0m\u001b[0;34m)\u001b[0m \u001b[0;32mand\u001b[0m \u001b[0misna\u001b[0m\u001b[0;34m(\u001b[0m\u001b[0mkey\u001b[0m\u001b[0;34m)\u001b[0m \u001b[0;32mand\u001b[0m \u001b[0;32mnot\u001b[0m \u001b[0mself\u001b[0m\u001b[0;34m.\u001b[0m\u001b[0mhasnans\u001b[0m\u001b[0;34m:\u001b[0m\u001b[0;34m\u001b[0m\u001b[0;34m\u001b[0m\u001b[0m\n",
      "\u001b[0;31mKeyError\u001b[0m: 'PVP_launch_rate'"
     ]
    }
   ],
   "source": [
    "# high-value\n",
    "X[\"high_pay\"] = (X[\"pay_price\"] >= 5.98).astype(int)\n",
    "X[\"high_play\"] = (X[\"PVP_launch_rate\"] >= 0.5).astype(int)\n",
    "\n",
    "# low-value\n",
    "X[\"long_hour\"] = (X[\"avg_online_minutes\"] > 800).apply(lambda x: not x).astype(int)\n",
    "X[\"low_pvp\"] = ((X[\"PVP_launch_rate\"] < 0.2) | (X[\"pvp_battle_count\"] == 0)).apply(lambda x: not x).astype(int)\n",
    "X[\"low_pvp_win\"] = ((X[\"PVP_win_rate\"]< 0.1) & (X[\"pvp_battle_count\"] != 0)).apply(lambda x: not x).astype(int)\n",
    "X[\"lose\"] = ((X[\"avg_online_minutes\"] <= 15) | (X[\"wood_add_value\"] <= 10000)).apply(lambda x: not x).astype(int)"
   ]
  },
  {
   "cell_type": "markdown",
   "id": "geographic-neutral",
   "metadata": {},
   "source": [
    "## 4.2 Create Features Based On Statistics"
   ]
  },
  {
   "cell_type": "markdown",
   "id": "fallen-alliance",
   "metadata": {},
   "source": [
    "### 4.2.1 Correlation : Importance"
   ]
  },
  {
   "cell_type": "code",
   "execution_count": null,
   "id": "outer-acceptance",
   "metadata": {},
   "outputs": [],
   "source": [
    "corr_list = pd.DataFrame()\n",
    "for idx, column in enumerate(X.columns):\n",
    "    corr_ = pd.concat([y,X.loc[:,column]],axis=1).corr().iloc[0,1]\n",
    "    corr_list.loc[idx,\"feature\"] = column\n",
    "    corr_list.loc[idx,\"correlation\"] = corr_"
   ]
  },
  {
   "cell_type": "code",
   "execution_count": null,
   "id": "handy-greenhouse",
   "metadata": {},
   "outputs": [],
   "source": [
    "corr_list.head()"
   ]
  },
  {
   "cell_type": "code",
   "execution_count": null,
   "id": "animated-holly",
   "metadata": {},
   "outputs": [],
   "source": [
    "corr_list.sort_values(\"correlation\",ascending=False).head(10)"
   ]
  },
  {
   "cell_type": "markdown",
   "id": "forward-conditioning",
   "metadata": {},
   "source": [
    "The higher participation in the game, the higher the possibility of paying should be"
   ]
  },
  {
   "cell_type": "code",
   "execution_count": null,
   "id": "alternate-nancy",
   "metadata": {},
   "outputs": [],
   "source": [
    "corr_list[abs(corr_list[\"correlation\"]) < 0.01]"
   ]
  },
  {
   "cell_type": "markdown",
   "id": "designing-withdrawal",
   "metadata": {},
   "source": [
    "### 4.2.2 Train/Test Split"
   ]
  },
  {
   "cell_type": "code",
   "execution_count": null,
   "id": "spoken-encyclopedia",
   "metadata": {},
   "outputs": [],
   "source": [
    "trainr2 = []\n",
    "testr2 = [] \n",
    "testRMSE = []\n",
    "for i in [0.2,0.3,0.4,0.5]:\n",
    "    Xtrain, Xtest, Ytrain, Ytest = TTS(X,y,test_size=i,random_state=0)\n",
    "    model = LR().fit(Xtrain,Ytrain)\n",
    "    trainr2.append(model.score(Xtrain,Ytrain))\n",
    "    testr2.append(model.score(Xtest,Ytest))\n",
    "    testRMSE.append(np.sqrt(MSE(Ytest,model.predict(Xtest))))"
   ]
  },
  {
   "cell_type": "code",
   "execution_count": null,
   "id": "decimal-progressive",
   "metadata": {},
   "outputs": [],
   "source": [
    "plt.plot(trainr2,label=\"trainR2\")\n",
    "plt.plot(testr2,label=\"testR2\")\n",
    "plt.xticks(ticks=[0,1,2,3],labels=[0.2,0.3,0.4,0.5])\n",
    "plt.legend();"
   ]
  },
  {
   "cell_type": "code",
   "execution_count": null,
   "id": "ultimate-spider",
   "metadata": {},
   "outputs": [],
   "source": [
    "plt.plot(testRMSE)\n",
    "plt.xticks(ticks=[0,1,2,3],labels=[0.2,0.3,0.4,0.5]);"
   ]
  },
  {
   "cell_type": "code",
   "execution_count": null,
   "id": "threaded-czech",
   "metadata": {},
   "outputs": [],
   "source": [
    "Xtrain, Xtest, Ytrain, Ytest = TTS(X,y,test_size=0.4,random_state=0)"
   ]
  },
  {
   "cell_type": "code",
   "execution_count": null,
   "id": "comfortable-islam",
   "metadata": {},
   "outputs": [],
   "source": [
    "Ytrain = pd.DataFrame(Ytrain)\n",
    "Ytest = pd.DataFrame(Ytest)\n",
    "\n",
    "Ytrain.index = Xtrain.index\n",
    "Ytest.index = Xtest.index"
   ]
  },
  {
   "cell_type": "markdown",
   "id": "devoted-audio",
   "metadata": {},
   "source": [
    "### 4.2.3 Outlier"
   ]
  },
  {
   "cell_type": "code",
   "execution_count": null,
   "id": "tight-tolerance",
   "metadata": {},
   "outputs": [],
   "source": [
    "import warnings\n",
    "warnings.filterwarnings('ignore')\n",
    "warnings.simplefilter('ignore')"
   ]
  },
  {
   "cell_type": "code",
   "execution_count": null,
   "id": "trying-telephone",
   "metadata": {},
   "outputs": [],
   "source": [
    "def AbnormalReplace(Xtrain,Xtest):\n",
    "    \n",
    "    # Anomaly detection for all features\n",
    "    # For non-paying users, replace all outliers with 0\n",
    "    \n",
    "    Xtrain_ = Xtrain.copy()\n",
    "    Xtest_ = Xtest.copy()\n",
    "    for column in Xtrain_.columns:\n",
    "        \n",
    "        f_train = Xtrain_.loc[:,column]\n",
    "        f_test = Xtest_.loc[:,column]\n",
    "\n",
    "        QL = np.quantile(f_train,0.25)\n",
    "        QU = np.quantile(f_train,0.75)\n",
    "        IQR = QU - QL\n",
    "        medium_ = f_train.median()\n",
    "        \n",
    "        errortrain = ((f_train < (QL - 1.5*IQR)).astype(int) + (f_train > (QU + 1.5*IQR)).astype(int)) != 0\n",
    "        errortest = ((f_test < (QL - 1.5*IQR)).astype(int) + (f_test > (QU + 1.5*IQR)).astype(int)) != 0\n",
    "\n",
    "        Xtrain_.loc[((Xtrain_[pay_price]==0).values & errortrain.values),column] = 0\n",
    "        Xtest_.loc[((Xtest_[pay_price]==0).values & errortest.values),column] = 0\n",
    "        \n",
    "    return Xtrain_, Xtest_"
   ]
  },
  {
   "cell_type": "code",
   "execution_count": null,
   "id": "different-cooling",
   "metadata": {},
   "outputs": [],
   "source": [
    "Xtrain[\"wood_add_value\"].describe()"
   ]
  },
  {
   "cell_type": "code",
   "execution_count": null,
   "id": "lightweight-shopping",
   "metadata": {},
   "outputs": [],
   "source": [
    "xtrain, xtest = AbnormalReplace(Xtrain,Xtest) "
   ]
  },
  {
   "cell_type": "code",
   "execution_count": null,
   "id": "applicable-consensus",
   "metadata": {},
   "outputs": [],
   "source": [
    "xtrain[\"wood_add_value\"].describe()"
   ]
  },
  {
   "cell_type": "markdown",
   "id": "powered-shark",
   "metadata": {},
   "source": [
    "### 4.2.4 Normalization"
   ]
  },
  {
   "cell_type": "code",
   "execution_count": null,
   "id": "metallic-dominican",
   "metadata": {},
   "outputs": [],
   "source": [
    "mm = MinMaxScaler(feature_range = [0,1]) "
   ]
  },
  {
   "cell_type": "code",
   "execution_count": null,
   "id": "finished-throw",
   "metadata": {},
   "outputs": [],
   "source": [
    "mm = mm.fit(xtrain) "
   ]
  },
  {
   "cell_type": "code",
   "execution_count": null,
   "id": "liable-depression",
   "metadata": {},
   "outputs": [],
   "source": [
    "xtrain = mm.transform(xtrain) \n",
    "xtest = mm.transform(xtest)"
   ]
  },
  {
   "cell_type": "code",
   "execution_count": null,
   "id": "compact-cooper",
   "metadata": {},
   "outputs": [],
   "source": [
    "xtrain.min(), xtrain.max()"
   ]
  },
  {
   "cell_type": "code",
   "execution_count": null,
   "id": "complete-evanescence",
   "metadata": {},
   "outputs": [],
   "source": [
    "xtest.min(), xtest.max()"
   ]
  },
  {
   "cell_type": "markdown",
   "id": "funny-miniature",
   "metadata": {},
   "source": [
    "# 5. Model Ensemble"
   ]
  },
  {
   "cell_type": "code",
   "execution_count": null,
   "id": "packed-necklace",
   "metadata": {},
   "outputs": [],
   "source": [
    "from sklearn.linear_model import LogisticRegression as LogiR\n",
    "from sklearn.metrics import roc_auc_score as ROC \n",
    "from sklearn.metrics import recall_score as Recall \n",
    "from sklearn.metrics import precision_score as Precision\n",
    "from sklearn.ensemble import RandomForestRegressor as RFR\n",
    "from sklearn.ensemble import GradientBoostingRegressor as GBR"
   ]
  },
  {
   "cell_type": "code",
   "execution_count": null,
   "id": "hispanic-helicopter",
   "metadata": {},
   "outputs": [],
   "source": [
    "y2 = (y != 0).astype(int) # All predicted-paying users convert to 1, predicted-non-paying users convert to 0"
   ]
  },
  {
   "cell_type": "code",
   "execution_count": null,
   "id": "potential-simon",
   "metadata": {},
   "outputs": [],
   "source": [
    "Ytrain2 = y2[Xtrain.index]"
   ]
  },
  {
   "cell_type": "code",
   "execution_count": null,
   "id": "advised-davis",
   "metadata": {},
   "outputs": [],
   "source": [
    "Ytest2 = y2[Xtest.index]"
   ]
  },
  {
   "cell_type": "code",
   "execution_count": null,
   "id": "expected-duration",
   "metadata": {},
   "outputs": [],
   "source": [
    "clf = LogiR(random_state=0) \n",
    "clf.fit(xtrain,Ytrain2)\n",
    "clf.score(xtrain,Ytrain2) # Accuracy on train set"
   ]
  },
  {
   "cell_type": "code",
   "execution_count": null,
   "id": "moved-antique",
   "metadata": {},
   "outputs": [],
   "source": [
    "clf.score(xtest,Ytest2) # Accuracy on test set"
   ]
  },
  {
   "cell_type": "code",
   "execution_count": null,
   "id": "pharmaceutical-portrait",
   "metadata": {},
   "outputs": [],
   "source": [
    "y2_proba = clf.predict_proba(xtest)\n",
    "y2_proba"
   ]
  },
  {
   "cell_type": "code",
   "execution_count": null,
   "id": "nervous-laptop",
   "metadata": {},
   "outputs": [],
   "source": [
    "ROC(Ytest2,y2_proba[:,1])"
   ]
  },
  {
   "cell_type": "code",
   "execution_count": null,
   "id": "warming-indianapolis",
   "metadata": {},
   "outputs": [],
   "source": [
    "Recall(Ytest2,clf.predict(xtest))"
   ]
  },
  {
   "cell_type": "code",
   "execution_count": null,
   "id": "streaming-cycle",
   "metadata": {},
   "outputs": [],
   "source": [
    "Precision(Ytest2,clf.predict(xtest))"
   ]
  },
  {
   "cell_type": "code",
   "execution_count": null,
   "id": "golden-brass",
   "metadata": {},
   "outputs": [],
   "source": [
    "(y2_proba[:,1] > 0.5).sum()"
   ]
  },
  {
   "cell_type": "code",
   "execution_count": null,
   "id": "vietnamese-tribune",
   "metadata": {},
   "outputs": [],
   "source": [
    "(Ytest != 0).sum() "
   ]
  },
  {
   "cell_type": "markdown",
   "id": "fitting-status",
   "metadata": {},
   "source": [
    "Condition A : That is, many paying users are labeled \"non-paying\" by logistic regression. If the results are modeled as they are, the main source of RMSE is the amount paid by paying users who aren't included in logistic regression plus the difference between the amount paid by logistic regression and the amount predicted by linear regression .  \n",
    "\n",
    "Condition B : If we want the logistic regression to catch all real paying users, even if we miss some non-paying users, we have to try to improve Recall. The main source of RMSE is the predicted value of non-paying users mistakenly identified as paying users by the logistic regression in the linear regression plus the difference in the predicted amount of all real paying users by the linear regression. In this case, there are more values that can be predicted by linear regression. \n",
    "\n",
    "The problem is that we don't know which of these two conditions will have a lower RMSE overall. However, we do know that Condition A is the status quo, and if we need to improve Recall, we can lower the threshold used for classification in logistic regression. \n",
    "\n",
    "When predicting the probability in logistic regression, the threshold is usually set at 0.5. The sample is labeled 1 if the probability is greater than 0.5 and 0 if it is less than 0.5. You can lower the model's threshold if you want to improve Recall. But sklearn's logistic regression doesn't have this function, so we have to figure out the Recall after changing the threshold and do it ourselves."
   ]
  },
  {
   "cell_type": "code",
   "execution_count": null,
   "id": "invalid-insulin",
   "metadata": {},
   "outputs": [],
   "source": [
    "prob = y2_proba[:,1]"
   ]
  },
  {
   "cell_type": "code",
   "execution_count": null,
   "id": "brown-dover",
   "metadata": {},
   "outputs": [],
   "source": [
    "# Loop through 20 threshold alternatives from 0 to 0.5 and it's found that the lower the threshold, the higher the recall\n",
    "for tol in np.linspace(0,0.5,20):\n",
    "    pred = (prob >= tol).astype(int)\n",
    "    recall = Recall(Ytest2,pred)\n",
    "    print(\"{:.3f} Recall:{:.3f}\".format(tol,recall))"
   ]
  },
  {
   "cell_type": "code",
   "execution_count": null,
   "id": "fitted-amount",
   "metadata": {},
   "outputs": [],
   "source": [
    "# Loop through 20 threshold alternatives from 0 to 0.026 and it's found that the lower the threshold, the higher the recall\n",
    "for tol in np.linspace(0,0.026,20):\n",
    "    pred = (prob >= tol).astype(int)\n",
    "    recall = Recall(Ytest2,pred)\n",
    "    print(\"{:.3f} Recall:{:.3f}\".format(tol,recall))"
   ]
  },
  {
   "cell_type": "code",
   "execution_count": null,
   "id": "careful-insured",
   "metadata": {},
   "outputs": [],
   "source": [
    "tol_ = 0.02 # After examination, it is found that 0.02 might be a better value for the threshold."
   ]
  },
  {
   "cell_type": "code",
   "execution_count": null,
   "id": "strange-letter",
   "metadata": {},
   "outputs": [],
   "source": [
    "(y2_proba[:,1] >= tol_).sum()"
   ]
  },
  {
   "cell_type": "code",
   "execution_count": null,
   "id": "tribal-cleaning",
   "metadata": {},
   "outputs": [],
   "source": [
    "#(clf.predict_proba(xtrain)[:,1] >= tol_).sum()"
   ]
  },
  {
   "cell_type": "code",
   "execution_count": null,
   "id": "restricted-probe",
   "metadata": {},
   "outputs": [],
   "source": [
    "result = pd.DataFrame(y2_proba[:,1],index=Xtest.index)\n",
    "result.columns = [\"logi_proba\"]\n",
    "result[\"logi_y_pred\"] = (result[\"logi_proba\"] >= tol_).astype(int)"
   ]
  },
  {
   "cell_type": "code",
   "execution_count": null,
   "id": "appropriate-calibration",
   "metadata": {},
   "outputs": [],
   "source": [
    "logi_train_result = pd.DataFrame(clf.predict_proba(xtrain)[:,1],index=Xtrain.index)\n",
    "logi_train_result.columns = [\"logi_train_proba\"]\n",
    "logi_train_result[\"logi_y_pred_train\"] = (logi_train_result[\"logi_train_proba\"] >= tol_).astype(int)"
   ]
  },
  {
   "cell_type": "code",
   "execution_count": null,
   "id": "digital-implement",
   "metadata": {},
   "outputs": [],
   "source": [
    "# train set\n",
    "xtrain_linear_reg = xtrain[logi_train_result[\"logi_y_pred_train\"] == 1]\n",
    "ytrain_linear_reg = Ytrain[logi_train_result[\"logi_y_pred_train\"] == 1]"
   ]
  },
  {
   "cell_type": "code",
   "execution_count": null,
   "id": "reported-detective",
   "metadata": {},
   "outputs": [],
   "source": [
    "# test set\n",
    "xtest_linear_reg = xtest[result[\"logi_y_pred\"] == 1]\n",
    "ytest_linear_reg = Ytest[result[\"logi_y_pred\"] == 1]"
   ]
  },
  {
   "cell_type": "code",
   "execution_count": null,
   "id": "committed-remove",
   "metadata": {},
   "outputs": [],
   "source": [
    "def reg_predict(model):\n",
    "    reg = model.fit(xtrain_linear_reg, ytrain_linear_reg) \n",
    "    y_linear_pred = reg.predict(xtest_linear_reg) \n",
    "    print(\"train set R2:{:.3f}\".format(reg.score(xtrain_linear_reg, ytrain_linear_reg)))\n",
    "    print(\"test set R2:{:.3f}\".format(reg.score(xtest_linear_reg, ytest_linear_reg)))\n",
    "    print(\"test set RMSE:{:.3f}\".format(np.sqrt(MSE(ytest_linear_reg,y_linear_pred))))\n",
    "    return y_linear_pred"
   ]
  },
  {
   "cell_type": "code",
   "execution_count": null,
   "id": "indirect-hypothesis",
   "metadata": {},
   "outputs": [],
   "source": [
    "reg0 = LR()\n",
    "y_linear_pred0 = reg_predict(reg0)"
   ]
  },
  {
   "cell_type": "code",
   "execution_count": null,
   "id": "compliant-fairy",
   "metadata": {},
   "outputs": [],
   "source": [
    "reg1 = RFR(n_estimators=100,max_depth=2,max_features=20,random_state=1412)\n",
    "reg2 = GBR(n_estimators=100,max_depth=2,max_features=20,random_state=1412)"
   ]
  },
  {
   "cell_type": "code",
   "execution_count": null,
   "id": "authentic-filter",
   "metadata": {},
   "outputs": [],
   "source": [
    "y_linear_pred1 = reg_predict(reg1)"
   ]
  },
  {
   "cell_type": "code",
   "execution_count": null,
   "id": "particular-illustration",
   "metadata": {},
   "outputs": [],
   "source": [
    "y_linear_pred2 = reg_predict(reg2)"
   ]
  },
  {
   "cell_type": "markdown",
   "id": "continuous-baseball",
   "metadata": {},
   "source": [
    "# 6. Model Tuning"
   ]
  },
  {
   "cell_type": "code",
   "execution_count": null,
   "id": "dirty-departure",
   "metadata": {},
   "outputs": [],
   "source": [
    "reg2 = GBR(n_estimators = 490 # increase the number of trees in the model to improve the overall fit\n",
    "           ,max_depth= 2 # control the depth of trees to reduce overfit\n",
    "           ,learning_rate= 0.05 # learning rate has a significant impact on the results of the tree model\n",
    "           ,max_features = 50 # control the speed of modelling and control overfitting to find the right phase and position using the learning curve\n",
    "           ,min_samples_split = 25 # increase min_samples_split to increase the number of samples allowed to be leafed out and to reduce the degree of tree fitting\n",
    "           ,random_state= 1412)"
   ]
  },
  {
   "cell_type": "code",
   "execution_count": null,
   "id": "noted-monitor",
   "metadata": {},
   "outputs": [],
   "source": [
    "y_linear_pred2 = reg_predict(reg2)"
   ]
  },
  {
   "cell_type": "code",
   "execution_count": null,
   "id": "going-youth",
   "metadata": {},
   "outputs": [],
   "source": [
    "result[\"reg_result\"] = 0"
   ]
  },
  {
   "cell_type": "code",
   "execution_count": null,
   "id": "dressed-excitement",
   "metadata": {},
   "outputs": [],
   "source": [
    "result.loc[result[\"logi_y_pred\"] == 1,\"reg_result\"] = y_linear_pred2"
   ]
  },
  {
   "cell_type": "code",
   "execution_count": null,
   "id": "historic-mambo",
   "metadata": {},
   "outputs": [],
   "source": [
    "np.sqrt(MSE(Ytest,result[\"reg_result\"]))"
   ]
  },
  {
   "cell_type": "code",
   "execution_count": null,
   "id": "early-oklahoma",
   "metadata": {},
   "outputs": [],
   "source": []
  },
  {
   "cell_type": "code",
   "execution_count": null,
   "id": "still-linux",
   "metadata": {},
   "outputs": [],
   "source": [
    "FeatureImportance = pd.concat([pd.DataFrame(Xtrain.columns),pd.DataFrame(reg2.feature_importances_)],axis=1)"
   ]
  },
  {
   "cell_type": "code",
   "execution_count": null,
   "id": "olive-unknown",
   "metadata": {},
   "outputs": [],
   "source": [
    "FeatureImportance.sort_values(0,ascending=False) "
   ]
  },
  {
   "cell_type": "code",
   "execution_count": null,
   "id": "impossible-fossil",
   "metadata": {},
   "outputs": [],
   "source": []
  }
 ],
 "metadata": {
  "kernelspec": {
   "display_name": "Python 3",
   "language": "python",
   "name": "python3"
  },
  "language_info": {
   "codemirror_mode": {
    "name": "ipython",
    "version": 3
   },
   "file_extension": ".py",
   "mimetype": "text/x-python",
   "name": "python",
   "nbconvert_exporter": "python",
   "pygments_lexer": "ipython3",
   "version": "3.7.9"
  }
 },
 "nbformat": 4,
 "nbformat_minor": 5
}
